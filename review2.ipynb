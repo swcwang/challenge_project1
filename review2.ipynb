{
 "cells": [
  {
   "cell_type": "markdown",
   "metadata": {},
   "source": [
    "# Cleverly Challenge - Part 2"
   ]
  },
  {
   "cell_type": "markdown",
   "metadata": {},
   "source": [
    "This notebook is predominately about creating a suitable dataset, including resampling and preprocessing the text"
   ]
  },
  {
   "cell_type": "code",
   "execution_count": 2,
   "metadata": {},
   "outputs": [],
   "source": [
    "import os\n",
    "import numpy as np\n",
    "import pandas as pd\n",
    "import matplotlib.pyplot as plt\n",
    "import matplotlib.ticker as ticker\n",
    "import seaborn as sns\n",
    "import itertools\n",
    "import datetime\n",
    "import re"
   ]
  },
  {
   "cell_type": "code",
   "execution_count": 3,
   "metadata": {},
   "outputs": [],
   "source": [
    "from numba import jit, cuda \n",
    "import numpy as np \n",
    "# to measure exec time \n",
    "from timeit import default_timer as timer    "
   ]
  },
  {
   "cell_type": "code",
   "execution_count": 4,
   "metadata": {},
   "outputs": [],
   "source": [
    "import fasttext\n",
    "import string\n",
    "from spellchecker import SpellChecker"
   ]
  },
  {
   "cell_type": "code",
   "execution_count": 5,
   "metadata": {},
   "outputs": [],
   "source": [
    "import emoji\n",
    "from tqdm import tqdm, tqdm_notebook, trange\n"
   ]
  },
  {
   "cell_type": "code",
   "execution_count": 38,
   "metadata": {},
   "outputs": [],
   "source": [
    "from imblearn.under_sampling import RandomUnderSampler"
   ]
  },
  {
   "cell_type": "markdown",
   "metadata": {},
   "source": [
    "Get the dataset that has reviews without any total votes filtered out, ie. only contain ones with helpful votes"
   ]
  },
  {
   "cell_type": "code",
   "execution_count": 3,
   "metadata": {},
   "outputs": [],
   "source": [
    "df_review_helpful = pd.read_csv(\"review_helpful.csv\")"
   ]
  },
  {
   "cell_type": "code",
   "execution_count": 4,
   "metadata": {},
   "outputs": [
    {
     "data": {
      "text/html": [
       "<div>\n",
       "<style scoped>\n",
       "    .dataframe tbody tr th:only-of-type {\n",
       "        vertical-align: middle;\n",
       "    }\n",
       "\n",
       "    .dataframe tbody tr th {\n",
       "        vertical-align: top;\n",
       "    }\n",
       "\n",
       "    .dataframe thead th {\n",
       "        text-align: right;\n",
       "    }\n",
       "</style>\n",
       "<table border=\"1\" class=\"dataframe\">\n",
       "  <thead>\n",
       "    <tr style=\"text-align: right;\">\n",
       "      <th></th>\n",
       "      <th>Unnamed: 0</th>\n",
       "      <th>reviewTime</th>\n",
       "      <th>num_helpful</th>\n",
       "      <th>total_votes</th>\n",
       "      <th>helpful_score</th>\n",
       "      <th>overall</th>\n",
       "      <th>word_count</th>\n",
       "      <th>summary</th>\n",
       "      <th>reviewText</th>\n",
       "      <th>reviewerID</th>\n",
       "      <th>reviewerName</th>\n",
       "      <th>year</th>\n",
       "      <th>month</th>\n",
       "      <th>day</th>\n",
       "      <th>dow</th>\n",
       "      <th>reviewYearMonth</th>\n",
       "      <th>word_count_binned</th>\n",
       "      <th>word_count_binned2</th>\n",
       "    </tr>\n",
       "  </thead>\n",
       "  <tbody>\n",
       "    <tr>\n",
       "      <th>0</th>\n",
       "      <td>440</td>\n",
       "      <td>2014-07-03</td>\n",
       "      <td>1.0</td>\n",
       "      <td>1.0</td>\n",
       "      <td>1.00</td>\n",
       "      <td>5</td>\n",
       "      <td>8</td>\n",
       "      <td>Five Stars</td>\n",
       "      <td>I love these. So cute and just right</td>\n",
       "      <td>AZH1SOHEON09U</td>\n",
       "      <td>Sandy Elizabeth Donis</td>\n",
       "      <td>2014</td>\n",
       "      <td>7</td>\n",
       "      <td>3</td>\n",
       "      <td>3</td>\n",
       "      <td>2014-07</td>\n",
       "      <td>20</td>\n",
       "      <td>(-2.881, 130.367]</td>\n",
       "    </tr>\n",
       "    <tr>\n",
       "      <th>1</th>\n",
       "      <td>2309</td>\n",
       "      <td>2007-05-13</td>\n",
       "      <td>1.0</td>\n",
       "      <td>1.0</td>\n",
       "      <td>1.00</td>\n",
       "      <td>5</td>\n",
       "      <td>7</td>\n",
       "      <td>Levi's 501 Original Fit Button Fly Jeans (Purc...</td>\n",
       "      <td>It is perfect. It fits me great.</td>\n",
       "      <td>A2DQPW08PVTYUK</td>\n",
       "      <td>Pedro A. Salcedo Quijano</td>\n",
       "      <td>2007</td>\n",
       "      <td>5</td>\n",
       "      <td>13</td>\n",
       "      <td>6</td>\n",
       "      <td>2007-05</td>\n",
       "      <td>20</td>\n",
       "      <td>(-2.881, 130.367]</td>\n",
       "    </tr>\n",
       "    <tr>\n",
       "      <th>2</th>\n",
       "      <td>8265</td>\n",
       "      <td>2007-06-15</td>\n",
       "      <td>1.0</td>\n",
       "      <td>4.0</td>\n",
       "      <td>0.25</td>\n",
       "      <td>5</td>\n",
       "      <td>8</td>\n",
       "      <td>Love it</td>\n",
       "      <td>Invicta makes a great product for the money.</td>\n",
       "      <td>A3INN916E4VION</td>\n",
       "      <td>S. Kosloske</td>\n",
       "      <td>2007</td>\n",
       "      <td>6</td>\n",
       "      <td>15</td>\n",
       "      <td>4</td>\n",
       "      <td>2007-06</td>\n",
       "      <td>20</td>\n",
       "      <td>(-2.881, 130.367]</td>\n",
       "    </tr>\n",
       "    <tr>\n",
       "      <th>3</th>\n",
       "      <td>11398</td>\n",
       "      <td>2014-07-01</td>\n",
       "      <td>0.0</td>\n",
       "      <td>1.0</td>\n",
       "      <td>0.00</td>\n",
       "      <td>5</td>\n",
       "      <td>1</td>\n",
       "      <td>Five Stars</td>\n",
       "      <td>nice</td>\n",
       "      <td>A3ACCVELQ149WV</td>\n",
       "      <td>Rosie</td>\n",
       "      <td>2014</td>\n",
       "      <td>7</td>\n",
       "      <td>1</td>\n",
       "      <td>1</td>\n",
       "      <td>2014-07</td>\n",
       "      <td>20</td>\n",
       "      <td>(-2.881, 130.367]</td>\n",
       "    </tr>\n",
       "    <tr>\n",
       "      <th>4</th>\n",
       "      <td>16987</td>\n",
       "      <td>2014-07-09</td>\n",
       "      <td>0.0</td>\n",
       "      <td>1.0</td>\n",
       "      <td>0.00</td>\n",
       "      <td>5</td>\n",
       "      <td>3</td>\n",
       "      <td>Five Stars</td>\n",
       "      <td>love it !</td>\n",
       "      <td>A2HZMU26RB3CZ5</td>\n",
       "      <td>Shalva Julukhadze</td>\n",
       "      <td>2014</td>\n",
       "      <td>7</td>\n",
       "      <td>9</td>\n",
       "      <td>2</td>\n",
       "      <td>2014-07</td>\n",
       "      <td>20</td>\n",
       "      <td>(-2.881, 130.367]</td>\n",
       "    </tr>\n",
       "  </tbody>\n",
       "</table>\n",
       "</div>"
      ],
      "text/plain": [
       "   Unnamed: 0  reviewTime  num_helpful  total_votes  helpful_score  overall  \\\n",
       "0         440  2014-07-03          1.0          1.0           1.00        5   \n",
       "1        2309  2007-05-13          1.0          1.0           1.00        5   \n",
       "2        8265  2007-06-15          1.0          4.0           0.25        5   \n",
       "3       11398  2014-07-01          0.0          1.0           0.00        5   \n",
       "4       16987  2014-07-09          0.0          1.0           0.00        5   \n",
       "\n",
       "   word_count                                            summary  \\\n",
       "0           8                                         Five Stars   \n",
       "1           7  Levi's 501 Original Fit Button Fly Jeans (Purc...   \n",
       "2           8                                            Love it   \n",
       "3           1                                         Five Stars   \n",
       "4           3                                         Five Stars   \n",
       "\n",
       "                                     reviewText      reviewerID  \\\n",
       "0          I love these. So cute and just right   AZH1SOHEON09U   \n",
       "1              It is perfect. It fits me great.  A2DQPW08PVTYUK   \n",
       "2  Invicta makes a great product for the money.  A3INN916E4VION   \n",
       "3                                          nice  A3ACCVELQ149WV   \n",
       "4                                     love it !  A2HZMU26RB3CZ5   \n",
       "\n",
       "               reviewerName  year  month  day  dow reviewYearMonth  \\\n",
       "0     Sandy Elizabeth Donis  2014      7    3    3         2014-07   \n",
       "1  Pedro A. Salcedo Quijano  2007      5   13    6         2007-05   \n",
       "2               S. Kosloske  2007      6   15    4         2007-06   \n",
       "3                     Rosie  2014      7    1    1         2014-07   \n",
       "4         Shalva Julukhadze  2014      7    9    2         2014-07   \n",
       "\n",
       "   word_count_binned word_count_binned2  \n",
       "0                 20  (-2.881, 130.367]  \n",
       "1                 20  (-2.881, 130.367]  \n",
       "2                 20  (-2.881, 130.367]  \n",
       "3                 20  (-2.881, 130.367]  \n",
       "4                 20  (-2.881, 130.367]  "
      ]
     },
     "execution_count": 4,
     "metadata": {},
     "output_type": "execute_result"
    }
   ],
   "source": [
    "df_review_helpful.head()"
   ]
  },
  {
   "cell_type": "markdown",
   "metadata": {},
   "source": [
    "Combine \"summary\" field with \"reviewText\" field"
   ]
  },
  {
   "cell_type": "code",
   "execution_count": 5,
   "metadata": {},
   "outputs": [],
   "source": [
    "df_review_helpful[\"combinedText\"] =  df_review_helpful[\"summary\"] + \" \" + df_review_helpful[\"reviewText\"]"
   ]
  },
  {
   "cell_type": "code",
   "execution_count": 6,
   "metadata": {},
   "outputs": [],
   "source": [
    "# change word count to use combined text\n",
    "df_review_helpful['word_count'] = df_review_helpful['combinedText'].str.split().str.len()"
   ]
  },
  {
   "cell_type": "code",
   "execution_count": 7,
   "metadata": {},
   "outputs": [
    {
     "data": {
      "text/plain": [
       "((86996, 19), (30990, 19))"
      ]
     },
     "execution_count": 7,
     "metadata": {},
     "output_type": "execute_result"
    }
   ],
   "source": [
    "df_review_helpful.shape, df_review_helpful[df_review_helpful.total_votes >2].shape"
   ]
  },
  {
   "cell_type": "code",
   "execution_count": 8,
   "metadata": {},
   "outputs": [
    {
     "data": {
      "text/html": [
       "<div>\n",
       "<style scoped>\n",
       "    .dataframe tbody tr th:only-of-type {\n",
       "        vertical-align: middle;\n",
       "    }\n",
       "\n",
       "    .dataframe tbody tr th {\n",
       "        vertical-align: top;\n",
       "    }\n",
       "\n",
       "    .dataframe thead th {\n",
       "        text-align: right;\n",
       "    }\n",
       "</style>\n",
       "<table border=\"1\" class=\"dataframe\">\n",
       "  <thead>\n",
       "    <tr style=\"text-align: right;\">\n",
       "      <th></th>\n",
       "      <th>Unnamed: 0</th>\n",
       "      <th>num_helpful</th>\n",
       "      <th>total_votes</th>\n",
       "      <th>helpful_score</th>\n",
       "      <th>overall</th>\n",
       "      <th>word_count</th>\n",
       "      <th>year</th>\n",
       "      <th>month</th>\n",
       "      <th>day</th>\n",
       "      <th>dow</th>\n",
       "      <th>word_count_binned</th>\n",
       "    </tr>\n",
       "  </thead>\n",
       "  <tbody>\n",
       "    <tr>\n",
       "      <th>count</th>\n",
       "      <td>86996.000000</td>\n",
       "      <td>86996.000000</td>\n",
       "      <td>86996.000000</td>\n",
       "      <td>86996.000000</td>\n",
       "      <td>86996.000000</td>\n",
       "      <td>86996.000000</td>\n",
       "      <td>86996.000000</td>\n",
       "      <td>86996.000000</td>\n",
       "      <td>86996.000000</td>\n",
       "      <td>86996.000000</td>\n",
       "      <td>86996.000000</td>\n",
       "    </tr>\n",
       "    <tr>\n",
       "      <th>mean</th>\n",
       "      <td>142375.953067</td>\n",
       "      <td>3.662605</td>\n",
       "      <td>4.298014</td>\n",
       "      <td>0.779994</td>\n",
       "      <td>4.059072</td>\n",
       "      <td>83.372833</td>\n",
       "      <td>2012.668295</td>\n",
       "      <td>6.305083</td>\n",
       "      <td>15.668663</td>\n",
       "      <td>2.811624</td>\n",
       "      <td>94.341579</td>\n",
       "    </tr>\n",
       "    <tr>\n",
       "      <th>std</th>\n",
       "      <td>80044.440845</td>\n",
       "      <td>11.347865</td>\n",
       "      <td>12.072183</td>\n",
       "      <td>0.346836</td>\n",
       "      <td>1.253076</td>\n",
       "      <td>85.422100</td>\n",
       "      <td>1.220573</td>\n",
       "      <td>3.709981</td>\n",
       "      <td>8.723096</td>\n",
       "      <td>1.922365</td>\n",
       "      <td>123.787861</td>\n",
       "    </tr>\n",
       "    <tr>\n",
       "      <th>min</th>\n",
       "      <td>9.000000</td>\n",
       "      <td>0.000000</td>\n",
       "      <td>1.000000</td>\n",
       "      <td>0.000000</td>\n",
       "      <td>1.000000</td>\n",
       "      <td>2.000000</td>\n",
       "      <td>2003.000000</td>\n",
       "      <td>1.000000</td>\n",
       "      <td>1.000000</td>\n",
       "      <td>0.000000</td>\n",
       "      <td>20.000000</td>\n",
       "    </tr>\n",
       "    <tr>\n",
       "      <th>25%</th>\n",
       "      <td>73845.250000</td>\n",
       "      <td>1.000000</td>\n",
       "      <td>1.000000</td>\n",
       "      <td>0.666667</td>\n",
       "      <td>3.000000</td>\n",
       "      <td>35.000000</td>\n",
       "      <td>2012.000000</td>\n",
       "      <td>3.000000</td>\n",
       "      <td>8.000000</td>\n",
       "      <td>1.000000</td>\n",
       "      <td>40.000000</td>\n",
       "    </tr>\n",
       "    <tr>\n",
       "      <th>50%</th>\n",
       "      <td>142855.500000</td>\n",
       "      <td>1.000000</td>\n",
       "      <td>2.000000</td>\n",
       "      <td>1.000000</td>\n",
       "      <td>5.000000</td>\n",
       "      <td>58.000000</td>\n",
       "      <td>2013.000000</td>\n",
       "      <td>6.000000</td>\n",
       "      <td>16.000000</td>\n",
       "      <td>3.000000</td>\n",
       "      <td>60.000000</td>\n",
       "    </tr>\n",
       "    <tr>\n",
       "      <th>75%</th>\n",
       "      <td>211863.500000</td>\n",
       "      <td>3.000000</td>\n",
       "      <td>4.000000</td>\n",
       "      <td>1.000000</td>\n",
       "      <td>5.000000</td>\n",
       "      <td>100.000000</td>\n",
       "      <td>2013.000000</td>\n",
       "      <td>10.000000</td>\n",
       "      <td>23.000000</td>\n",
       "      <td>4.000000</td>\n",
       "      <td>100.000000</td>\n",
       "    </tr>\n",
       "    <tr>\n",
       "      <th>max</th>\n",
       "      <td>278676.000000</td>\n",
       "      <td>1200.000000</td>\n",
       "      <td>1267.000000</td>\n",
       "      <td>1.000000</td>\n",
       "      <td>5.000000</td>\n",
       "      <td>3898.000000</td>\n",
       "      <td>2014.000000</td>\n",
       "      <td>12.000000</td>\n",
       "      <td>31.000000</td>\n",
       "      <td>6.000000</td>\n",
       "      <td>4000.000000</td>\n",
       "    </tr>\n",
       "  </tbody>\n",
       "</table>\n",
       "</div>"
      ],
      "text/plain": [
       "          Unnamed: 0   num_helpful   total_votes  helpful_score       overall  \\\n",
       "count   86996.000000  86996.000000  86996.000000   86996.000000  86996.000000   \n",
       "mean   142375.953067      3.662605      4.298014       0.779994      4.059072   \n",
       "std     80044.440845     11.347865     12.072183       0.346836      1.253076   \n",
       "min         9.000000      0.000000      1.000000       0.000000      1.000000   \n",
       "25%     73845.250000      1.000000      1.000000       0.666667      3.000000   \n",
       "50%    142855.500000      1.000000      2.000000       1.000000      5.000000   \n",
       "75%    211863.500000      3.000000      4.000000       1.000000      5.000000   \n",
       "max    278676.000000   1200.000000   1267.000000       1.000000      5.000000   \n",
       "\n",
       "         word_count          year         month           day           dow  \\\n",
       "count  86996.000000  86996.000000  86996.000000  86996.000000  86996.000000   \n",
       "mean      83.372833   2012.668295      6.305083     15.668663      2.811624   \n",
       "std       85.422100      1.220573      3.709981      8.723096      1.922365   \n",
       "min        2.000000   2003.000000      1.000000      1.000000      0.000000   \n",
       "25%       35.000000   2012.000000      3.000000      8.000000      1.000000   \n",
       "50%       58.000000   2013.000000      6.000000     16.000000      3.000000   \n",
       "75%      100.000000   2013.000000     10.000000     23.000000      4.000000   \n",
       "max     3898.000000   2014.000000     12.000000     31.000000      6.000000   \n",
       "\n",
       "       word_count_binned  \n",
       "count       86996.000000  \n",
       "mean           94.341579  \n",
       "std           123.787861  \n",
       "min            20.000000  \n",
       "25%            40.000000  \n",
       "50%            60.000000  \n",
       "75%           100.000000  \n",
       "max          4000.000000  "
      ]
     },
     "execution_count": 8,
     "metadata": {},
     "output_type": "execute_result"
    }
   ],
   "source": [
    "df_review_helpful.describe()"
   ]
  },
  {
   "cell_type": "code",
   "execution_count": 9,
   "metadata": {},
   "outputs": [
    {
     "data": {
      "text/plain": [
       "<matplotlib.axes._subplots.AxesSubplot at 0x237109916a0>"
      ]
     },
     "execution_count": 9,
     "metadata": {},
     "output_type": "execute_result"
    },
    {
     "data": {
      "image/png": "[encoded data removed]",
      "text/plain": [
       "<Figure size 432x288 with 1 Axes>"
      ]
     },
     "metadata": {
      "needs_background": "light"
     },
     "output_type": "display_data"
    }
   ],
   "source": [
    "df_review_helpful.helpful_score.hist()"
   ]
  },
  {
   "cell_type": "code",
   "execution_count": 10,
   "metadata": {},
   "outputs": [
    {
     "data": {
      "text/plain": [
       "<matplotlib.axes._subplots.AxesSubplot at 0x2373274a5f8>"
      ]
     },
     "execution_count": 10,
     "metadata": {},
     "output_type": "execute_result"
    },
    {
     "data": {
      "image/png": "[encoded data removed]",
      "text/plain": [
       "<Figure size 432x288 with 1 Axes>"
      ]
     },
     "metadata": {
      "needs_background": "light"
     },
     "output_type": "display_data"
    }
   ],
   "source": [
    "df_review_helpful[df_review_helpful.total_votes >2].helpful_score.hist()"
   ]
  },
  {
   "cell_type": "code",
   "execution_count": 11,
   "metadata": {},
   "outputs": [
    {
     "data": {
      "text/plain": [
       "(12774, 7274, 66948)"
      ]
     },
     "execution_count": 11,
     "metadata": {},
     "output_type": "execute_result"
    }
   ],
   "source": [
    "len(df_review_helpful[df_review_helpful.helpful_score < 0.5]), len(df_review_helpful[df_review_helpful.helpful_score == 0.5]), len(df_review_helpful[df_review_helpful.helpful_score > 0.5])"
   ]
  },
  {
   "cell_type": "code",
   "execution_count": 12,
   "metadata": {},
   "outputs": [
    {
     "data": {
      "text/plain": [
       "(3053, 7274, 37224)"
      ]
     },
     "execution_count": 12,
     "metadata": {},
     "output_type": "execute_result"
    }
   ],
   "source": [
    "len(df_review_helpful[(df_review_helpful.total_votes >=2) & (df_review_helpful.helpful_score < 0.5)]), len(df_review_helpful[(df_review_helpful.total_votes >= 2) & (df_review_helpful.helpful_score == 0.5)]), len(df_review_helpful[(df_review_helpful.total_votes >= 2) & (df_review_helpful.helpful_score > 0.5)])"
   ]
  },
  {
   "cell_type": "code",
   "execution_count": 13,
   "metadata": {},
   "outputs": [
    {
     "data": {
      "text/plain": [
       "Text(0.5, 1.0, 'Observations with total helpful votes >= 2')"
      ]
     },
     "execution_count": 13,
     "metadata": {},
     "output_type": "execute_result"
    },
    {
     "data": {
      "image/png": "[encoded data removed]",
      "text/plain": [
       "<Figure size 864x216 with 2 Axes>"
      ]
     },
     "metadata": {
      "needs_background": "light"
     },
     "output_type": "display_data"
    }
   ],
   "source": [
    "fig = plt.figure(figsize=(12, 3))\n",
    "ax = plt.subplot(1,2, 1)   \n",
    "#ax = fig.add_axes([0,0,1,1])\n",
    "type = ['Unhelpful', 'Neutral', \"Helpful\"]\n",
    "counts = [len(df_review_helpful[df_review_helpful.helpful_score < 0.5]), len(df_review_helpful[df_review_helpful.helpful_score == 0.5]), len(df_review_helpful[df_review_helpful.helpful_score > 0.5])]\n",
    "ax.bar(type,counts)\n",
    "ax.set_title('Observations with total helpful votes > 0')\n",
    "\n",
    "ax2 = plt.subplot(1,2, 2)   \n",
    "type = ['Unhelpful', 'Neutral', \"Helpful\"]\n",
    "counts2 = [len(df_review_helpful[(df_review_helpful.total_votes >=2) & (df_review_helpful.helpful_score < 0.5)]), len(df_review_helpful[(df_review_helpful.total_votes >= 2) & (df_review_helpful.helpful_score == 0.5)]), len(df_review_helpful[(df_review_helpful.total_votes >= 2) & (df_review_helpful.helpful_score > 0.5)])]\n",
    "ax2.bar(type,counts2)\n",
    "ax2.set_title('Observations with total helpful votes >= 2')"
   ]
  },
  {
   "cell_type": "markdown",
   "metadata": {},
   "source": [
    "__comment:__ There are significantly more helpful votes (helpful score > 0.5) than unhelpful votes (helpful score < 0.5). The difference is even more pronounced if we look at reviews with two or more total votes"
   ]
  },
  {
   "cell_type": "code",
   "execution_count": 14,
   "metadata": {},
   "outputs": [
    {
     "data": {
      "text/plain": [
       "(12368, 6870, 61962)"
      ]
     },
     "execution_count": 14,
     "metadata": {},
     "output_type": "execute_result"
    }
   ],
   "source": [
    "len(df_review_helpful[(df_review_helpful.helpful_score < 0.5) & (df_review_helpful.word_count <= 200)]), len(df_review_helpful[(df_review_helpful.helpful_score == 0.5) & (df_review_helpful.word_count <= 200)]), len(df_review_helpful[(df_review_helpful.helpful_score > 0.5) & (df_review_helpful.word_count <= 200)])"
   ]
  },
  {
   "cell_type": "code",
   "execution_count": 15,
   "metadata": {},
   "outputs": [
    {
     "data": {
      "text/plain": [
       "(2893, 6870, 33349)"
      ]
     },
     "execution_count": 15,
     "metadata": {},
     "output_type": "execute_result"
    }
   ],
   "source": [
    "len(df_review_helpful[(df_review_helpful.total_votes >=2) & (df_review_helpful.helpful_score < 0.5) & (df_review_helpful.word_count <= 200)]), len(df_review_helpful[(df_review_helpful.total_votes >= 2) & (df_review_helpful.helpful_score == 0.5) & (df_review_helpful.word_count <= 200)]), len(df_review_helpful[(df_review_helpful.total_votes >= 2) & (df_review_helpful.helpful_score > 0.5) & (df_review_helpful.word_count <= 200)])"
   ]
  },
  {
   "cell_type": "markdown",
   "metadata": {},
   "source": [
    "__comment:__ let's create a filtered dataset containing only unhelpful and helpful votes, using 0.5 as a threshold, with a maximum word count of 200 and having at least one vote"
   ]
  },
  {
   "cell_type": "code",
   "execution_count": 17,
   "metadata": {},
   "outputs": [
    {
     "name": "stderr",
     "output_type": "stream",
     "text": [
      "C:\\Users\\Susan\\Anaconda3\\envs\\thesis\\lib\\site-packages\\ipykernel_launcher.py:3: SettingWithCopyWarning: \n",
      "A value is trying to be set on a copy of a slice from a DataFrame.\n",
      "Try using .loc[row_indexer,col_indexer] = value instead\n",
      "\n",
      "See the caveats in the documentation: http://pandas.pydata.org/pandas-docs/stable/indexing.html#indexing-view-versus-copy\n",
      "  This is separate from the ipykernel package so we can avoid doing imports until\n"
     ]
    },
    {
     "data": {
      "text/plain": [
       "1    61962\n",
       "0    12368\n",
       "Name: target, dtype: int64"
      ]
     },
     "execution_count": 17,
     "metadata": {},
     "output_type": "execute_result"
    }
   ],
   "source": [
    "df_review_filtered = df_review_helpful[(df_review_helpful.word_count <= 200) & (df_review_helpful.helpful_score != 0.5)]\n",
    "\n",
    "df_review_filtered[\"target\"] = df_review_filtered[\"helpful_score\"].apply(lambda x: 1 if x > 0.5 else 0)\n",
    "\n",
    "df_review_filtered.target.value_counts()"
   ]
  },
  {
   "cell_type": "markdown",
   "metadata": {},
   "source": [
    "### Undersample the Majority class (Helpful votes)"
   ]
  },
  {
   "cell_type": "code",
   "execution_count": 19,
   "metadata": {},
   "outputs": [],
   "source": [
    "rus = RandomUnderSampler(random_state=0)"
   ]
  },
  {
   "cell_type": "code",
   "execution_count": 20,
   "metadata": {},
   "outputs": [
    {
     "data": {
      "text/plain": [
       "Index(['Unnamed: 0', 'reviewTime', 'num_helpful', 'total_votes',\n",
       "       'helpful_score', 'overall', 'word_count', 'summary', 'reviewText',\n",
       "       'reviewerID', 'reviewerName', 'year', 'month', 'day', 'dow',\n",
       "       'reviewYearMonth', 'word_count_binned', 'word_count_binned2',\n",
       "       'combinedText', 'target'],\n",
       "      dtype='object')"
      ]
     },
     "execution_count": 20,
     "metadata": {},
     "output_type": "execute_result"
    }
   ],
   "source": [
    "df_review_filtered.columns"
   ]
  },
  {
   "cell_type": "code",
   "execution_count": 21,
   "metadata": {},
   "outputs": [],
   "source": [
    "X = df_review_filtered.drop(columns=['Unnamed: 0', 'num_helpful', 'total_votes',\n",
    "       'helpful_score', \"target\"])"
   ]
  },
  {
   "cell_type": "code",
   "execution_count": 22,
   "metadata": {},
   "outputs": [],
   "source": [
    "y = df_review_filtered[\"target\"]"
   ]
  },
  {
   "cell_type": "code",
   "execution_count": 23,
   "metadata": {},
   "outputs": [
    {
     "data": {
      "text/html": [
       "<div>\n",
       "<style scoped>\n",
       "    .dataframe tbody tr th:only-of-type {\n",
       "        vertical-align: middle;\n",
       "    }\n",
       "\n",
       "    .dataframe tbody tr th {\n",
       "        vertical-align: top;\n",
       "    }\n",
       "\n",
       "    .dataframe thead th {\n",
       "        text-align: right;\n",
       "    }\n",
       "</style>\n",
       "<table border=\"1\" class=\"dataframe\">\n",
       "  <thead>\n",
       "    <tr style=\"text-align: right;\">\n",
       "      <th></th>\n",
       "      <th>reviewTime</th>\n",
       "      <th>overall</th>\n",
       "      <th>word_count</th>\n",
       "      <th>summary</th>\n",
       "      <th>reviewText</th>\n",
       "      <th>reviewerID</th>\n",
       "      <th>reviewerName</th>\n",
       "      <th>year</th>\n",
       "      <th>month</th>\n",
       "      <th>day</th>\n",
       "      <th>dow</th>\n",
       "      <th>reviewYearMonth</th>\n",
       "      <th>word_count_binned</th>\n",
       "      <th>word_count_binned2</th>\n",
       "      <th>combinedText</th>\n",
       "    </tr>\n",
       "  </thead>\n",
       "  <tbody>\n",
       "    <tr>\n",
       "      <th>0</th>\n",
       "      <td>2014-07-03</td>\n",
       "      <td>5</td>\n",
       "      <td>10</td>\n",
       "      <td>Five Stars</td>\n",
       "      <td>I love these. So cute and just right</td>\n",
       "      <td>AZH1SOHEON09U</td>\n",
       "      <td>Sandy Elizabeth Donis</td>\n",
       "      <td>2014</td>\n",
       "      <td>7</td>\n",
       "      <td>3</td>\n",
       "      <td>3</td>\n",
       "      <td>2014-07</td>\n",
       "      <td>20</td>\n",
       "      <td>(-2.881, 130.367]</td>\n",
       "      <td>Five Stars I love these. So cute and just right</td>\n",
       "    </tr>\n",
       "    <tr>\n",
       "      <th>1</th>\n",
       "      <td>2007-05-13</td>\n",
       "      <td>5</td>\n",
       "      <td>17</td>\n",
       "      <td>Levi's 501 Original Fit Button Fly Jeans (Purc...</td>\n",
       "      <td>It is perfect. It fits me great.</td>\n",
       "      <td>A2DQPW08PVTYUK</td>\n",
       "      <td>Pedro A. Salcedo Quijano</td>\n",
       "      <td>2007</td>\n",
       "      <td>5</td>\n",
       "      <td>13</td>\n",
       "      <td>6</td>\n",
       "      <td>2007-05</td>\n",
       "      <td>20</td>\n",
       "      <td>(-2.881, 130.367]</td>\n",
       "      <td>Levi's 501 Original Fit Button Fly Jeans (Purc...</td>\n",
       "    </tr>\n",
       "    <tr>\n",
       "      <th>2</th>\n",
       "      <td>2007-06-15</td>\n",
       "      <td>5</td>\n",
       "      <td>10</td>\n",
       "      <td>Love it</td>\n",
       "      <td>Invicta makes a great product for the money.</td>\n",
       "      <td>A3INN916E4VION</td>\n",
       "      <td>S. Kosloske</td>\n",
       "      <td>2007</td>\n",
       "      <td>6</td>\n",
       "      <td>15</td>\n",
       "      <td>4</td>\n",
       "      <td>2007-06</td>\n",
       "      <td>20</td>\n",
       "      <td>(-2.881, 130.367]</td>\n",
       "      <td>Love it Invicta makes a great product for the ...</td>\n",
       "    </tr>\n",
       "    <tr>\n",
       "      <th>3</th>\n",
       "      <td>2014-07-01</td>\n",
       "      <td>5</td>\n",
       "      <td>3</td>\n",
       "      <td>Five Stars</td>\n",
       "      <td>nice</td>\n",
       "      <td>A3ACCVELQ149WV</td>\n",
       "      <td>Rosie</td>\n",
       "      <td>2014</td>\n",
       "      <td>7</td>\n",
       "      <td>1</td>\n",
       "      <td>1</td>\n",
       "      <td>2014-07</td>\n",
       "      <td>20</td>\n",
       "      <td>(-2.881, 130.367]</td>\n",
       "      <td>Five Stars nice</td>\n",
       "    </tr>\n",
       "    <tr>\n",
       "      <th>4</th>\n",
       "      <td>2014-07-09</td>\n",
       "      <td>5</td>\n",
       "      <td>5</td>\n",
       "      <td>Five Stars</td>\n",
       "      <td>love it !</td>\n",
       "      <td>A2HZMU26RB3CZ5</td>\n",
       "      <td>Shalva Julukhadze</td>\n",
       "      <td>2014</td>\n",
       "      <td>7</td>\n",
       "      <td>9</td>\n",
       "      <td>2</td>\n",
       "      <td>2014-07</td>\n",
       "      <td>20</td>\n",
       "      <td>(-2.881, 130.367]</td>\n",
       "      <td>Five Stars love it !</td>\n",
       "    </tr>\n",
       "  </tbody>\n",
       "</table>\n",
       "</div>"
      ],
      "text/plain": [
       "   reviewTime  overall  word_count  \\\n",
       "0  2014-07-03        5          10   \n",
       "1  2007-05-13        5          17   \n",
       "2  2007-06-15        5          10   \n",
       "3  2014-07-01        5           3   \n",
       "4  2014-07-09        5           5   \n",
       "\n",
       "                                             summary  \\\n",
       "0                                         Five Stars   \n",
       "1  Levi's 501 Original Fit Button Fly Jeans (Purc...   \n",
       "2                                            Love it   \n",
       "3                                         Five Stars   \n",
       "4                                         Five Stars   \n",
       "\n",
       "                                     reviewText      reviewerID  \\\n",
       "0          I love these. So cute and just right   AZH1SOHEON09U   \n",
       "1              It is perfect. It fits me great.  A2DQPW08PVTYUK   \n",
       "2  Invicta makes a great product for the money.  A3INN916E4VION   \n",
       "3                                          nice  A3ACCVELQ149WV   \n",
       "4                                     love it !  A2HZMU26RB3CZ5   \n",
       "\n",
       "               reviewerName  year  month  day  dow reviewYearMonth  \\\n",
       "0     Sandy Elizabeth Donis  2014      7    3    3         2014-07   \n",
       "1  Pedro A. Salcedo Quijano  2007      5   13    6         2007-05   \n",
       "2               S. Kosloske  2007      6   15    4         2007-06   \n",
       "3                     Rosie  2014      7    1    1         2014-07   \n",
       "4         Shalva Julukhadze  2014      7    9    2         2014-07   \n",
       "\n",
       "   word_count_binned word_count_binned2  \\\n",
       "0                 20  (-2.881, 130.367]   \n",
       "1                 20  (-2.881, 130.367]   \n",
       "2                 20  (-2.881, 130.367]   \n",
       "3                 20  (-2.881, 130.367]   \n",
       "4                 20  (-2.881, 130.367]   \n",
       "\n",
       "                                        combinedText  \n",
       "0    Five Stars I love these. So cute and just right  \n",
       "1  Levi's 501 Original Fit Button Fly Jeans (Purc...  \n",
       "2  Love it Invicta makes a great product for the ...  \n",
       "3                                    Five Stars nice  \n",
       "4                               Five Stars love it !  "
      ]
     },
     "execution_count": 23,
     "metadata": {},
     "output_type": "execute_result"
    }
   ],
   "source": [
    "X.head()"
   ]
  },
  {
   "cell_type": "code",
   "execution_count": 24,
   "metadata": {},
   "outputs": [
    {
     "data": {
      "text/plain": [
       "0    1\n",
       "1    1\n",
       "2    0\n",
       "3    0\n",
       "4    0\n",
       "Name: target, dtype: int64"
      ]
     },
     "execution_count": 24,
     "metadata": {},
     "output_type": "execute_result"
    }
   ],
   "source": [
    "y.head()"
   ]
  },
  {
   "cell_type": "code",
   "execution_count": 25,
   "metadata": {},
   "outputs": [],
   "source": [
    "X_resampled, y_resampled = rus.fit_resample(X, y)"
   ]
  },
  {
   "cell_type": "code",
   "execution_count": 26,
   "metadata": {},
   "outputs": [
    {
     "name": "stdout",
     "output_type": "stream",
     "text": [
      "Resampled dataset shape Counter({0: 12368, 1: 12368})\n"
     ]
    }
   ],
   "source": [
    "from collections import Counter\n",
    "print('Resampled dataset shape %s' % Counter(y_resampled))"
   ]
  },
  {
   "cell_type": "code",
   "execution_count": 27,
   "metadata": {},
   "outputs": [
    {
     "data": {
      "text/plain": [
       "(24736, 15)"
      ]
     },
     "execution_count": 27,
     "metadata": {},
     "output_type": "execute_result"
    }
   ],
   "source": [
    "X_resampled.shape"
   ]
  },
  {
   "cell_type": "markdown",
   "metadata": {},
   "source": [
    "## Preprocess Text"
   ]
  },
  {
   "cell_type": "code",
   "execution_count": 29,
   "metadata": {},
   "outputs": [],
   "source": [
    " def remove_punctuation(x):\n",
    "    #pattern = r'[^a-zA-z0-9\\s]'\n",
    "    #pattern = r'[^a-zA-z\\s]'\n",
    "    #text = re.sub(pattern, '', x)\n",
    "    return x.translate(str.maketrans('', '', string.punctuation))\n",
    "    #return x\n",
    "\n",
    "def replace_numbers(x):\n",
    "    if re.search(r'\\d', x):\n",
    "        x = re.sub('[0-9]{5,}', '#####', x)\n",
    "        x = re.sub('[0-9]{4}', '####', x)\n",
    "        x = re.sub('[0-9]{3}', '###', x)\n",
    "        x = re.sub('[0-9]{2}', '##', x)\n",
    "        x = re.sub('[0-9]{1}', '#', x)\n",
    "    return x\n",
    "\n",
    "spell = SpellChecker()\n",
    "\n",
    "def correct_spellings(text):\n",
    "    corrected_text = []\n",
    "    misspelled_words = spell.unknown(text.split())\n",
    "    for word in text.split():\n",
    "        if word in misspelled_words:\n",
    "            corrected_text.append(spell.correction(word))\n",
    "        else:\n",
    "            corrected_text.append(word)\n",
    "    return \" \".join(corrected_text)\n",
    "\n",
    "#@jit(target =\"cuda\") \n",
    "contraction_dict = {\"ain't\": \"is not\", \"aren't\": \"are not\",\"can't\": \"cannot\", \"'cause\": \"because\", \"could've\": \"could have\", \"couldn't\": \"could not\", \"didn't\": \"did not\",  \"doesn't\": \"does not\", \"don't\": \"do not\", \"hadn't\": \"had not\", \"hasn't\": \"has not\", \"haven't\": \"have not\", \"he'd\": \"he would\",\"he'll\": \"he will\", \"he's\": \"he is\", \"how'd\": \"how did\", \"how'd'y\": \"how do you\", \"how'll\": \"how will\", \"how's\": \"how is\",  \"I'd\": \"I would\", \"I'd've\": \"I would have\", \"I'll\": \"I will\", \"I'll've\": \"I will have\",\"I'm\": \"I am\", \"I've\": \"I have\", \"i'd\": \"i would\", \"i'd've\": \"i would have\", \"i'll\": \"i will\",  \"i'll've\": \"i will have\",\"i'm\": \"i am\", \"i've\": \"i have\", \"isn't\": \"is not\", \"it'd\": \"it would\", \"it'd've\": \"it would have\", \"it'll\": \"it will\", \"it'll've\": \"it will have\",\"it's\": \"it is\", \"let's\": \"let us\", \"ma'am\": \"madam\", \"mayn't\": \"may not\", \"might've\": \"might have\",\"mightn't\": \"might not\",\"mightn't've\": \"might not have\", \"must've\": \"must have\", \"mustn't\": \"must not\", \"mustn't've\": \"must not have\", \"needn't\": \"need not\", \"needn't've\": \"need not have\",\"o'clock\": \"of the clock\", \"oughtn't\": \"ought not\", \"oughtn't've\": \"ought not have\", \"shan't\": \"shall not\", \"sha'n't\": \"shall not\", \"shan't've\": \"shall not have\", \"she'd\": \"she would\", \"she'd've\": \"she would have\", \"she'll\": \"she will\", \"she'll've\": \"she will have\", \"she's\": \"she is\", \"should've\": \"should have\", \"shouldn't\": \"should not\", \"shouldn't've\": \"should not have\", \"so've\": \"so have\",\"so's\": \"so as\", \"this's\": \"this is\",\"that'd\": \"that would\", \"that'd've\": \"that would have\", \"that's\": \"that is\", \"there'd\": \"there would\", \"there'd've\": \"there would have\", \"there's\": \"there is\", \"here's\": \"here is\",\"they'd\": \"they would\", \"they'd've\": \"they would have\", \"they'll\": \"they will\", \"they'll've\": \"they will have\", \"they're\": \"they are\", \"they've\": \"they have\", \"to've\": \"to have\", \"wasn't\": \"was not\", \"we'd\": \"we would\", \"we'd've\": \"we would have\", \"we'll\": \"we will\", \"we'll've\": \"we will have\", \"we're\": \"we are\", \"we've\": \"we have\", \"weren't\": \"were not\", \"what'll\": \"what will\", \"what'll've\": \"what will have\", \"what're\": \"what are\",  \"what's\": \"what is\", \"what've\": \"what have\", \"when's\": \"when is\", \"when've\": \"when have\", \"where'd\": \"where did\", \"where's\": \"where is\", \"where've\": \"where have\", \"who'll\": \"who will\", \"who'll've\": \"who will have\", \"who's\": \"who is\", \"who've\": \"who have\", \"why's\": \"why is\", \"why've\": \"why have\", \"will've\": \"will have\", \"won't\": \"will not\", \"won't've\": \"will not have\", \"would've\": \"would have\", \"wouldn't\": \"would not\", \"wouldn't've\": \"would not have\", \"y'all\": \"you all\", \"y'all'd\": \"you all would\",\"y'all'd've\": \"you all would have\",\"y'all're\": \"you all are\",\"y'all've\": \"you all have\",\"you'd\": \"you would\", \"you'd've\": \"you would have\", \"you'll\": \"you will\", \"you'll've\": \"you will have\", \"you're\": \"you are\", \"you've\": \"you have\"}\n",
    "\n",
    "#@jit(target =\"cuda\") \n",
    "def _get_contractions(contraction_dict):\n",
    "    contraction_re = re.compile('(%s)' % '|'.join(contraction_dict.keys()))\n",
    "    return contraction_dict, contraction_re\n",
    "\n",
    "contractions, contractions_re = _get_contractions(contraction_dict)\n",
    "\n",
    "#@jit(target =\"cuda\") \n",
    "def replace_contractions(text):\n",
    "    def replace(match):\n",
    "        return contractions[match.group(0)]\n",
    "    return contractions_re.sub(replace, text)"
   ]
  },
  {
   "cell_type": "code",
   "execution_count": 34,
   "metadata": {},
   "outputs": [
    {
     "data": {
      "text/plain": [
       "'this is a text with contraction'"
      ]
     },
     "execution_count": 34,
     "metadata": {},
     "output_type": "execute_result"
    }
   ],
   "source": [
    "replace_contractions(\"this's a text with contraction\")"
   ]
  },
  {
   "cell_type": "markdown",
   "metadata": {},
   "source": [
    "Combine \"summary\" with \"reviewText\""
   ]
  },
  {
   "cell_type": "code",
   "execution_count": 35,
   "metadata": {},
   "outputs": [],
   "source": [
    "X_resampled[\"combinedText\"] =  X_resampled[\"summary\"] + \" \" + X_resampled[\"reviewText\"]"
   ]
  },
  {
   "cell_type": "code",
   "execution_count": 36,
   "metadata": {},
   "outputs": [
    {
     "data": {
      "text/html": [
       "<div>\n",
       "<style scoped>\n",
       "    .dataframe tbody tr th:only-of-type {\n",
       "        vertical-align: middle;\n",
       "    }\n",
       "\n",
       "    .dataframe tbody tr th {\n",
       "        vertical-align: top;\n",
       "    }\n",
       "\n",
       "    .dataframe thead th {\n",
       "        text-align: right;\n",
       "    }\n",
       "</style>\n",
       "<table border=\"1\" class=\"dataframe\">\n",
       "  <thead>\n",
       "    <tr style=\"text-align: right;\">\n",
       "      <th></th>\n",
       "      <th>reviewTime</th>\n",
       "      <th>overall</th>\n",
       "      <th>word_count</th>\n",
       "      <th>summary</th>\n",
       "      <th>reviewText</th>\n",
       "      <th>reviewerID</th>\n",
       "      <th>reviewerName</th>\n",
       "      <th>year</th>\n",
       "      <th>month</th>\n",
       "      <th>day</th>\n",
       "      <th>dow</th>\n",
       "      <th>reviewYearMonth</th>\n",
       "      <th>word_count_binned</th>\n",
       "      <th>word_count_binned2</th>\n",
       "      <th>combinedText</th>\n",
       "    </tr>\n",
       "  </thead>\n",
       "  <tbody>\n",
       "    <tr>\n",
       "      <th>0</th>\n",
       "      <td>2007-06-15</td>\n",
       "      <td>5</td>\n",
       "      <td>10</td>\n",
       "      <td>Love it</td>\n",
       "      <td>Invicta makes a great product for the money.</td>\n",
       "      <td>A3INN916E4VION</td>\n",
       "      <td>S. Kosloske</td>\n",
       "      <td>2007</td>\n",
       "      <td>6</td>\n",
       "      <td>15</td>\n",
       "      <td>4</td>\n",
       "      <td>2007-06</td>\n",
       "      <td>20</td>\n",
       "      <td>(-2.881, 130.367]</td>\n",
       "      <td>Love it Invicta makes a great product for the ...</td>\n",
       "    </tr>\n",
       "    <tr>\n",
       "      <th>1</th>\n",
       "      <td>2014-07-01</td>\n",
       "      <td>5</td>\n",
       "      <td>3</td>\n",
       "      <td>Five Stars</td>\n",
       "      <td>nice</td>\n",
       "      <td>A3ACCVELQ149WV</td>\n",
       "      <td>Rosie</td>\n",
       "      <td>2014</td>\n",
       "      <td>7</td>\n",
       "      <td>1</td>\n",
       "      <td>1</td>\n",
       "      <td>2014-07</td>\n",
       "      <td>20</td>\n",
       "      <td>(-2.881, 130.367]</td>\n",
       "      <td>Five Stars nice</td>\n",
       "    </tr>\n",
       "    <tr>\n",
       "      <th>2</th>\n",
       "      <td>2014-07-09</td>\n",
       "      <td>5</td>\n",
       "      <td>5</td>\n",
       "      <td>Five Stars</td>\n",
       "      <td>love it !</td>\n",
       "      <td>A2HZMU26RB3CZ5</td>\n",
       "      <td>Shalva Julukhadze</td>\n",
       "      <td>2014</td>\n",
       "      <td>7</td>\n",
       "      <td>9</td>\n",
       "      <td>2</td>\n",
       "      <td>2014-07</td>\n",
       "      <td>20</td>\n",
       "      <td>(-2.881, 130.367]</td>\n",
       "      <td>Five Stars love it !</td>\n",
       "    </tr>\n",
       "    <tr>\n",
       "      <th>3</th>\n",
       "      <td>2014-07-08</td>\n",
       "      <td>5</td>\n",
       "      <td>3</td>\n",
       "      <td>Perfect</td>\n",
       "      <td>Very comfy.</td>\n",
       "      <td>A2C6NK705NIWKV</td>\n",
       "      <td>P  R</td>\n",
       "      <td>2014</td>\n",
       "      <td>7</td>\n",
       "      <td>8</td>\n",
       "      <td>1</td>\n",
       "      <td>2014-07</td>\n",
       "      <td>20</td>\n",
       "      <td>(-2.881, 130.367]</td>\n",
       "      <td>Perfect Very comfy.</td>\n",
       "    </tr>\n",
       "    <tr>\n",
       "      <th>4</th>\n",
       "      <td>2014-07-06</td>\n",
       "      <td>4</td>\n",
       "      <td>4</td>\n",
       "      <td>Four Stars</td>\n",
       "      <td>good belt</td>\n",
       "      <td>A1Y5MCG52TBL1I</td>\n",
       "      <td>OSCAR</td>\n",
       "      <td>2014</td>\n",
       "      <td>7</td>\n",
       "      <td>6</td>\n",
       "      <td>6</td>\n",
       "      <td>2014-07</td>\n",
       "      <td>20</td>\n",
       "      <td>(-2.881, 130.367]</td>\n",
       "      <td>Four Stars good belt</td>\n",
       "    </tr>\n",
       "  </tbody>\n",
       "</table>\n",
       "</div>"
      ],
      "text/plain": [
       "   reviewTime  overall  word_count     summary  \\\n",
       "0  2007-06-15        5          10     Love it   \n",
       "1  2014-07-01        5           3  Five Stars   \n",
       "2  2014-07-09        5           5  Five Stars   \n",
       "3  2014-07-08        5           3     Perfect   \n",
       "4  2014-07-06        4           4  Four Stars   \n",
       "\n",
       "                                     reviewText      reviewerID  \\\n",
       "0  Invicta makes a great product for the money.  A3INN916E4VION   \n",
       "1                                          nice  A3ACCVELQ149WV   \n",
       "2                                     love it !  A2HZMU26RB3CZ5   \n",
       "3                                   Very comfy.  A2C6NK705NIWKV   \n",
       "4                                     good belt  A1Y5MCG52TBL1I   \n",
       "\n",
       "        reviewerName  year  month  day  dow reviewYearMonth  \\\n",
       "0        S. Kosloske  2007      6   15    4         2007-06   \n",
       "1              Rosie  2014      7    1    1         2014-07   \n",
       "2  Shalva Julukhadze  2014      7    9    2         2014-07   \n",
       "3               P  R  2014      7    8    1         2014-07   \n",
       "4              OSCAR  2014      7    6    6         2014-07   \n",
       "\n",
       "   word_count_binned word_count_binned2  \\\n",
       "0                 20  (-2.881, 130.367]   \n",
       "1                 20  (-2.881, 130.367]   \n",
       "2                 20  (-2.881, 130.367]   \n",
       "3                 20  (-2.881, 130.367]   \n",
       "4                 20  (-2.881, 130.367]   \n",
       "\n",
       "                                        combinedText  \n",
       "0  Love it Invicta makes a great product for the ...  \n",
       "1                                    Five Stars nice  \n",
       "2                               Five Stars love it !  \n",
       "3                                Perfect Very comfy.  \n",
       "4                               Four Stars good belt  "
      ]
     },
     "execution_count": 36,
     "metadata": {},
     "output_type": "execute_result"
    }
   ],
   "source": [
    "X_resampled.head()"
   ]
  },
  {
   "cell_type": "code",
   "execution_count": 38,
   "metadata": {},
   "outputs": [],
   "source": [
    "tqdm.pandas(desc='Progress')"
   ]
  },
  {
   "cell_type": "code",
   "execution_count": 39,
   "metadata": {},
   "outputs": [],
   "source": [
    "#@jit(target =\"cuda\") \n",
    "def preprocess_text(text):\n",
    "    #print(\"p\")\n",
    "    #text = emoji.demojize(text)\n",
    "    text = replace_numbers(text)\n",
    "    text = replace_contractions(text)\n",
    "    text = remove_punctuation(text)    \n",
    "    text = correct_spellings(text).lower()\n",
    "    return text"
   ]
  },
  {
   "cell_type": "markdown",
   "metadata": {},
   "source": [
    "### Save Preprocessed Results to File"
   ]
  },
  {
   "cell_type": "code",
   "execution_count": 56,
   "metadata": {},
   "outputs": [],
   "source": [
    "def preproc_blocks(df_1, start_i:int, end_i:int, timer_flag=True, save=True, filename=\"df_preprocessed1.pkl\"):\n",
    "    print(start_i, end_i)\n",
    "    start = timer() \n",
    "    if timer_flag:\n",
    "        start = timer() \n",
    "    df_1[\"processedText\"].iloc[start_i:end_i] = df_1[\"combinedText\"].iloc[start_i:end_i].progress_apply(lambda x: preprocess_text(x))\n",
    "    if timer_flag:\n",
    "        print(\"without GPU:\", timer()-start)\n",
    "    if save:\n",
    "        df_1.iloc[start_i:end_i].to_pickle(filename) \n",
    "    return df_1"
   ]
  },
  {
   "cell_type": "code",
   "execution_count": null,
   "metadata": {},
   "outputs": [
    {
     "name": "stdout",
     "output_type": "stream",
     "text": [
      "0 1000\n"
     ]
    },
    {
     "name": "stderr",
     "output_type": "stream",
     "text": [
      "Progress: 100%|████████████████████████████████████████████████████████████████████| 1000/1000 [11:23<00:00,  1.46it/s]\n",
      "C:\\Users\\Susan\\Anaconda3\\envs\\thesis\\lib\\site-packages\\pandas\\core\\indexing.py:190: SettingWithCopyWarning: \n",
      "A value is trying to be set on a copy of a slice from a DataFrame\n",
      "\n",
      "See the caveats in the documentation: http://pandas.pydata.org/pandas-docs/stable/indexing.html#indexing-view-versus-copy\n",
      "  self._setitem_with_indexer(indexer, value)\n"
     ]
    },
    {
     "name": "stdout",
     "output_type": "stream",
     "text": [
      "without GPU: 683.7340084000001\n",
      "1000 2000\n"
     ]
    },
    {
     "name": "stderr",
     "output_type": "stream",
     "text": [
      "Progress:  73%|██████████████████████████████████████████████████▍                  | 731/1000 [08:53<12:37,  2.82s/it]"
     ]
    }
   ],
   "source": [
    "final_len = len(X_resampled) \n",
    "step = 1000\n",
    "\n",
    "start_index = 0\n",
    "i=0\n",
    "while start_index < final_len:\n",
    "    if start_index + step < final_len:\n",
    "        X_resampled = preproc_blocks(X_resampled, start_index, start_index + step, filename=\"df_preprocessed_\"+str(start_index)+\".pkl\")\n",
    "        start_index += step\n",
    "    else:\n",
    "        X_resampled = preproc_blocks(X_resampled, start_index, final_len,filename=\"df_preprocessed_\"+str(start_index)+\".pkl\")\n",
    "        break\n"
   ]
  },
  {
   "cell_type": "code",
   "execution_count": 68,
   "metadata": {},
   "outputs": [
    {
     "data": {
      "text/plain": [
       "0    love it invicta makes a great product for the ...\n",
       "1                                      five stars nice\n",
       "2                                   five stars love it\n",
       "3                                   perfect very comfy\n",
       "4                                 four stars good belt\n",
       "5    organizer would considerlikeneeded to be bigge...\n",
       "6                               five stars perfect fit\n",
       "7    not really great quality color not really grea...\n",
       "8               a waste of good money a waste of money\n",
       "9    great excelentedggfddffrgrgththrththrgthrergnf...\n",
       "Name: processedText, dtype: object"
      ]
     },
     "execution_count": 68,
     "metadata": {},
     "output_type": "execute_result"
    }
   ],
   "source": [
    "X_resampled.processedText.head(10)"
   ]
  },
  {
   "cell_type": "code",
   "execution_count": 76,
   "metadata": {},
   "outputs": [
    {
     "data": {
      "text/plain": [
       "1    12368\n",
       "0    12368\n",
       "Name: target, dtype: int64"
      ]
     },
     "execution_count": 76,
     "metadata": {},
     "output_type": "execute_result"
    }
   ],
   "source": [
    "y_resampled.value_counts()"
   ]
  },
  {
   "cell_type": "code",
   "execution_count": 79,
   "metadata": {},
   "outputs": [],
   "source": [
    "X_resampled.to_pickle(\"df_resampled.pkl\") "
   ]
  },
  {
   "cell_type": "code",
   "execution_count": 77,
   "metadata": {},
   "outputs": [],
   "source": [
    "y_resampled.to_pickle(\"target_resampled.pkl\") "
   ]
  },
  {
   "cell_type": "code",
   "execution_count": null,
   "metadata": {},
   "outputs": [],
   "source": []
  },
  {
   "cell_type": "code",
   "execution_count": 11,
   "metadata": {},
   "outputs": [],
   "source": [
    "X_resampled = pd.read_pickle(\"df_resampled.pkl\") "
   ]
  },
  {
   "cell_type": "code",
   "execution_count": 10,
   "metadata": {},
   "outputs": [],
   "source": [
    "y_resampled = pd.read_pickle(\"target_resampled.pkl\") "
   ]
  },
  {
   "cell_type": "code",
   "execution_count": null,
   "metadata": {},
   "outputs": [],
   "source": []
  },
  {
   "cell_type": "code",
   "execution_count": 12,
   "metadata": {},
   "outputs": [
    {
     "data": {
      "text/plain": [
       "((24736, 16), (24736,))"
      ]
     },
     "execution_count": 12,
     "metadata": {},
     "output_type": "execute_result"
    }
   ],
   "source": [
    "X_resampled.shape, y_resampled.shape"
   ]
  },
  {
   "cell_type": "code",
   "execution_count": 19,
   "metadata": {},
   "outputs": [],
   "source": [
    "df_combined = X_resampled.merge(y_resampled.to_frame(), left_index=True, right_index=True)"
   ]
  },
  {
   "cell_type": "code",
   "execution_count": 31,
   "metadata": {},
   "outputs": [],
   "source": [
    "df_combined['reviewTime']= pd.to_datetime(df_combined['reviewTime']) "
   ]
  },
  {
   "cell_type": "code",
   "execution_count": 32,
   "metadata": {
    "collapsed": true,
    "jupyter": {
     "outputs_hidden": true
    }
   },
   "outputs": [
    {
     "data": {
      "text/html": [
       "<div>\n",
       "<style scoped>\n",
       "    .dataframe tbody tr th:only-of-type {\n",
       "        vertical-align: middle;\n",
       "    }\n",
       "\n",
       "    .dataframe tbody tr th {\n",
       "        vertical-align: top;\n",
       "    }\n",
       "\n",
       "    .dataframe thead th {\n",
       "        text-align: right;\n",
       "    }\n",
       "</style>\n",
       "<table border=\"1\" class=\"dataframe\">\n",
       "  <thead>\n",
       "    <tr style=\"text-align: right;\">\n",
       "      <th></th>\n",
       "      <th>reviewTime</th>\n",
       "      <th>overall</th>\n",
       "      <th>word_count</th>\n",
       "      <th>summary</th>\n",
       "      <th>reviewText</th>\n",
       "      <th>reviewerID</th>\n",
       "      <th>reviewerName</th>\n",
       "      <th>year</th>\n",
       "      <th>month</th>\n",
       "      <th>day</th>\n",
       "      <th>dow</th>\n",
       "      <th>reviewYearMonth</th>\n",
       "      <th>word_count_binned</th>\n",
       "      <th>word_count_binned2</th>\n",
       "      <th>combinedText</th>\n",
       "      <th>processedText</th>\n",
       "      <th>target</th>\n",
       "    </tr>\n",
       "  </thead>\n",
       "  <tbody>\n",
       "    <tr>\n",
       "      <th>14334</th>\n",
       "      <td>2003-03-29</td>\n",
       "      <td>5</td>\n",
       "      <td>52</td>\n",
       "      <td>This bra is the most comfortable</td>\n",
       "      <td>This bra is the most comfortable bra I have ev...</td>\n",
       "      <td>A1X2LENOF84LCQ</td>\n",
       "      <td>D \"D\"</td>\n",
       "      <td>2003</td>\n",
       "      <td>3</td>\n",
       "      <td>29</td>\n",
       "      <td>5</td>\n",
       "      <td>2003-03</td>\n",
       "      <td>60</td>\n",
       "      <td>(-2.881, 130.367]</td>\n",
       "      <td>This bra is the most comfortable This bra is t...</td>\n",
       "      <td>this bra is the most comfortable this bra is t...</td>\n",
       "      <td>1</td>\n",
       "    </tr>\n",
       "    <tr>\n",
       "      <th>16971</th>\n",
       "      <td>2004-07-17</td>\n",
       "      <td>5</td>\n",
       "      <td>164</td>\n",
       "      <td>Absolutely My Favorite!</td>\n",
       "      <td>I just love this bra.  I was first introduced ...</td>\n",
       "      <td>A1Z54EM24Y40LL</td>\n",
       "      <td>csm</td>\n",
       "      <td>2004</td>\n",
       "      <td>7</td>\n",
       "      <td>17</td>\n",
       "      <td>5</td>\n",
       "      <td>2004-07</td>\n",
       "      <td>180</td>\n",
       "      <td>(130.367, 259.733]</td>\n",
       "      <td>Absolutely My Favorite! I just love this bra. ...</td>\n",
       "      <td>absolutely my favorite i just love this bra i ...</td>\n",
       "      <td>1</td>\n",
       "    </tr>\n",
       "    <tr>\n",
       "      <th>16626</th>\n",
       "      <td>2004-09-29</td>\n",
       "      <td>5</td>\n",
       "      <td>48</td>\n",
       "      <td>Agree with Momof2</td>\n",
       "      <td>I purchased these for a teenage cousin, and th...</td>\n",
       "      <td>AB2YZA2HLY75H</td>\n",
       "      <td>Reb</td>\n",
       "      <td>2004</td>\n",
       "      <td>9</td>\n",
       "      <td>29</td>\n",
       "      <td>2</td>\n",
       "      <td>2004-09</td>\n",
       "      <td>60</td>\n",
       "      <td>(-2.881, 130.367]</td>\n",
       "      <td>Agree with Momof2 I purchased these for a teen...</td>\n",
       "      <td>agree with momof i purchased these for a teena...</td>\n",
       "      <td>1</td>\n",
       "    </tr>\n",
       "    <tr>\n",
       "      <th>19830</th>\n",
       "      <td>2004-12-08</td>\n",
       "      <td>5</td>\n",
       "      <td>60</td>\n",
       "      <td>Terrific value for gold earrings</td>\n",
       "      <td>These earrings just arrived, and for $10 (Frid...</td>\n",
       "      <td>AAPPWNP9FWVWS</td>\n",
       "      <td>Kathlyn Storey \"Kathlyn A Storey\"</td>\n",
       "      <td>2004</td>\n",
       "      <td>12</td>\n",
       "      <td>8</td>\n",
       "      <td>2</td>\n",
       "      <td>2004-12</td>\n",
       "      <td>60</td>\n",
       "      <td>(-2.881, 130.367]</td>\n",
       "      <td>Terrific value for gold earrings These earring...</td>\n",
       "      <td>terrific value for gold earrings these earring...</td>\n",
       "      <td>1</td>\n",
       "    </tr>\n",
       "    <tr>\n",
       "      <th>14393</th>\n",
       "      <td>2005-03-02</td>\n",
       "      <td>4</td>\n",
       "      <td>103</td>\n",
       "      <td>Perfect watch for everyday</td>\n",
       "      <td>Extremely reliable, easy to read, looks like t...</td>\n",
       "      <td>ADS6Y2663M0W0</td>\n",
       "      <td>Little Mom</td>\n",
       "      <td>2005</td>\n",
       "      <td>3</td>\n",
       "      <td>2</td>\n",
       "      <td>2</td>\n",
       "      <td>2005-03</td>\n",
       "      <td>100</td>\n",
       "      <td>(-2.881, 130.367]</td>\n",
       "      <td>Perfect watch for everyday Extremely reliable,...</td>\n",
       "      <td>perfect watch for everyday extremely reliable ...</td>\n",
       "      <td>1</td>\n",
       "    </tr>\n",
       "    <tr>\n",
       "      <th>22834</th>\n",
       "      <td>2005-09-13</td>\n",
       "      <td>5</td>\n",
       "      <td>91</td>\n",
       "      <td>These are beautiful earrings!</td>\n",
       "      <td>I ordered these earrings and received tons of ...</td>\n",
       "      <td>A11WAEQIABD2FR</td>\n",
       "      <td>Micki Collar</td>\n",
       "      <td>2005</td>\n",
       "      <td>9</td>\n",
       "      <td>13</td>\n",
       "      <td>1</td>\n",
       "      <td>2005-09</td>\n",
       "      <td>100</td>\n",
       "      <td>(-2.881, 130.367]</td>\n",
       "      <td>These are beautiful earrings! I ordered these ...</td>\n",
       "      <td>these are beautiful earrings i ordered these e...</td>\n",
       "      <td>1</td>\n",
       "    </tr>\n",
       "    <tr>\n",
       "      <th>937</th>\n",
       "      <td>2005-09-21</td>\n",
       "      <td>5</td>\n",
       "      <td>37</td>\n",
       "      <td>Quick Service</td>\n",
       "      <td>I ordered at 4:45pm PST and they were able to ...</td>\n",
       "      <td>A36CILYDHT5XOS</td>\n",
       "      <td>Watch Fan \"Jack\"</td>\n",
       "      <td>2005</td>\n",
       "      <td>9</td>\n",
       "      <td>21</td>\n",
       "      <td>2</td>\n",
       "      <td>2005-09</td>\n",
       "      <td>40</td>\n",
       "      <td>(-2.881, 130.367]</td>\n",
       "      <td>Quick Service I ordered at 4:45pm PST and they...</td>\n",
       "      <td>quick service i ordered at pm pst and they wer...</td>\n",
       "      <td>0</td>\n",
       "    </tr>\n",
       "    <tr>\n",
       "      <th>804</th>\n",
       "      <td>2005-12-17</td>\n",
       "      <td>1</td>\n",
       "      <td>127</td>\n",
       "      <td>CHEAP-O WATCH.  GOOD FOR KIDS.</td>\n",
       "      <td>Well, upon getting this watch in the mail, I w...</td>\n",
       "      <td>A32S2SF5U73GZR</td>\n",
       "      <td>J. Wilson</td>\n",
       "      <td>2005</td>\n",
       "      <td>12</td>\n",
       "      <td>17</td>\n",
       "      <td>5</td>\n",
       "      <td>2005-12</td>\n",
       "      <td>140</td>\n",
       "      <td>(-2.881, 130.367]</td>\n",
       "      <td>CHEAP-O WATCH.  GOOD FOR KIDS. Well, upon gett...</td>\n",
       "      <td>cheapo watch good for kids well upon getting t...</td>\n",
       "      <td>0</td>\n",
       "    </tr>\n",
       "    <tr>\n",
       "      <th>14641</th>\n",
       "      <td>2005-12-27</td>\n",
       "      <td>4</td>\n",
       "      <td>78</td>\n",
       "      <td>Great watch for the price</td>\n",
       "      <td>I purchased this watch as a Christmas gift for...</td>\n",
       "      <td>AUKDOB4DXLZD7</td>\n",
       "      <td>Cheryl Deal</td>\n",
       "      <td>2005</td>\n",
       "      <td>12</td>\n",
       "      <td>27</td>\n",
       "      <td>1</td>\n",
       "      <td>2005-12</td>\n",
       "      <td>80</td>\n",
       "      <td>(-2.881, 130.367]</td>\n",
       "      <td>Great watch for the price I purchased this wat...</td>\n",
       "      <td>great watch for the price i purchased this wat...</td>\n",
       "      <td>1</td>\n",
       "    </tr>\n",
       "    <tr>\n",
       "      <th>21206</th>\n",
       "      <td>2006-01-20</td>\n",
       "      <td>5</td>\n",
       "      <td>94</td>\n",
       "      <td>Highly recommended!</td>\n",
       "      <td>Swarovski has been making crystal jewelry sinc...</td>\n",
       "      <td>A1P27BGF8NAI29</td>\n",
       "      <td>Alice in Wonderland</td>\n",
       "      <td>2006</td>\n",
       "      <td>1</td>\n",
       "      <td>20</td>\n",
       "      <td>4</td>\n",
       "      <td>2006-01</td>\n",
       "      <td>100</td>\n",
       "      <td>(-2.881, 130.367]</td>\n",
       "      <td>Highly recommended! Swarovski has been making ...</td>\n",
       "      <td>highly recommended swarovski has been making c...</td>\n",
       "      <td>1</td>\n",
       "    </tr>\n",
       "  </tbody>\n",
       "</table>\n",
       "</div>"
      ],
      "text/plain": [
       "      reviewTime  overall  word_count                           summary  \\\n",
       "14334 2003-03-29        5          52  This bra is the most comfortable   \n",
       "16971 2004-07-17        5         164           Absolutely My Favorite!   \n",
       "16626 2004-09-29        5          48                 Agree with Momof2   \n",
       "19830 2004-12-08        5          60  Terrific value for gold earrings   \n",
       "14393 2005-03-02        4         103        Perfect watch for everyday   \n",
       "22834 2005-09-13        5          91     These are beautiful earrings!   \n",
       "937   2005-09-21        5          37                     Quick Service   \n",
       "804   2005-12-17        1         127    CHEAP-O WATCH.  GOOD FOR KIDS.   \n",
       "14641 2005-12-27        4          78         Great watch for the price   \n",
       "21206 2006-01-20        5          94               Highly recommended!   \n",
       "\n",
       "                                              reviewText      reviewerID  \\\n",
       "14334  This bra is the most comfortable bra I have ev...  A1X2LENOF84LCQ   \n",
       "16971  I just love this bra.  I was first introduced ...  A1Z54EM24Y40LL   \n",
       "16626  I purchased these for a teenage cousin, and th...   AB2YZA2HLY75H   \n",
       "19830  These earrings just arrived, and for $10 (Frid...   AAPPWNP9FWVWS   \n",
       "14393  Extremely reliable, easy to read, looks like t...   ADS6Y2663M0W0   \n",
       "22834  I ordered these earrings and received tons of ...  A11WAEQIABD2FR   \n",
       "937    I ordered at 4:45pm PST and they were able to ...  A36CILYDHT5XOS   \n",
       "804    Well, upon getting this watch in the mail, I w...  A32S2SF5U73GZR   \n",
       "14641  I purchased this watch as a Christmas gift for...   AUKDOB4DXLZD7   \n",
       "21206  Swarovski has been making crystal jewelry sinc...  A1P27BGF8NAI29   \n",
       "\n",
       "                            reviewerName  year  month  day  dow  \\\n",
       "14334                              D \"D\"  2003      3   29    5   \n",
       "16971                                csm  2004      7   17    5   \n",
       "16626                                Reb  2004      9   29    2   \n",
       "19830  Kathlyn Storey \"Kathlyn A Storey\"  2004     12    8    2   \n",
       "14393                         Little Mom  2005      3    2    2   \n",
       "22834                       Micki Collar  2005      9   13    1   \n",
       "937                     Watch Fan \"Jack\"  2005      9   21    2   \n",
       "804                            J. Wilson  2005     12   17    5   \n",
       "14641                        Cheryl Deal  2005     12   27    1   \n",
       "21206                Alice in Wonderland  2006      1   20    4   \n",
       "\n",
       "      reviewYearMonth  word_count_binned  word_count_binned2  \\\n",
       "14334         2003-03                 60   (-2.881, 130.367]   \n",
       "16971         2004-07                180  (130.367, 259.733]   \n",
       "16626         2004-09                 60   (-2.881, 130.367]   \n",
       "19830         2004-12                 60   (-2.881, 130.367]   \n",
       "14393         2005-03                100   (-2.881, 130.367]   \n",
       "22834         2005-09                100   (-2.881, 130.367]   \n",
       "937           2005-09                 40   (-2.881, 130.367]   \n",
       "804           2005-12                140   (-2.881, 130.367]   \n",
       "14641         2005-12                 80   (-2.881, 130.367]   \n",
       "21206         2006-01                100   (-2.881, 130.367]   \n",
       "\n",
       "                                            combinedText  \\\n",
       "14334  This bra is the most comfortable This bra is t...   \n",
       "16971  Absolutely My Favorite! I just love this bra. ...   \n",
       "16626  Agree with Momof2 I purchased these for a teen...   \n",
       "19830  Terrific value for gold earrings These earring...   \n",
       "14393  Perfect watch for everyday Extremely reliable,...   \n",
       "22834  These are beautiful earrings! I ordered these ...   \n",
       "937    Quick Service I ordered at 4:45pm PST and they...   \n",
       "804    CHEAP-O WATCH.  GOOD FOR KIDS. Well, upon gett...   \n",
       "14641  Great watch for the price I purchased this wat...   \n",
       "21206  Highly recommended! Swarovski has been making ...   \n",
       "\n",
       "                                           processedText  target  \n",
       "14334  this bra is the most comfortable this bra is t...       1  \n",
       "16971  absolutely my favorite i just love this bra i ...       1  \n",
       "16626  agree with momof i purchased these for a teena...       1  \n",
       "19830  terrific value for gold earrings these earring...       1  \n",
       "14393  perfect watch for everyday extremely reliable ...       1  \n",
       "22834  these are beautiful earrings i ordered these e...       1  \n",
       "937    quick service i ordered at pm pst and they wer...       0  \n",
       "804    cheapo watch good for kids well upon getting t...       0  \n",
       "14641  great watch for the price i purchased this wat...       1  \n",
       "21206  highly recommended swarovski has been making c...       1  "
      ]
     },
     "execution_count": 32,
     "metadata": {},
     "output_type": "execute_result"
    }
   ],
   "source": [
    "df_combined.sort_values(\"reviewTime\").head(10)"
   ]
  },
  {
   "cell_type": "code",
   "execution_count": 35,
   "metadata": {},
   "outputs": [],
   "source": [
    "df_combined.to_pickle(\"df_combined1.pkl\") "
   ]
  },
  {
   "cell_type": "code",
   "execution_count": null,
   "metadata": {},
   "outputs": [],
   "source": []
  }
 ],
 "metadata": {
  "kernelspec": {
   "display_name": "Python [conda env:thesis]",
   "language": "python",
   "name": "conda-env-thesis-py"
  },
  "language_info": {
   "codemirror_mode": {
    "name": "ipython",
    "version": 3
   },
   "file_extension": ".py",
   "mimetype": "text/x-python",
   "name": "python",
   "nbconvert_exporter": "python",
   "pygments_lexer": "ipython3",
   "version": "3.6.8"
  }
 },
 "nbformat": 4,
 "nbformat_minor": 4
}
