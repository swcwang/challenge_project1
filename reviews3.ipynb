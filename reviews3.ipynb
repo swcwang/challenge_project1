{
 "cells": [
  {
   "cell_type": "markdown",
   "metadata": {},
   "source": [
    "# Cleverly Challenge - Part 3"
   ]
  },
  {
   "cell_type": "markdown",
   "metadata": {},
   "source": [
    "In this notebook we will use TorchText to iterate through the datasets, and create several models to predict helpfulness of reviews"
   ]
  },
  {
   "cell_type": "code",
   "execution_count": 2,
   "metadata": {},
   "outputs": [],
   "source": [
    "import os\n",
    "import numpy as np\n",
    "import pandas as pd\n",
    "import matplotlib.pyplot as plt\n",
    "import matplotlib.ticker as ticker\n",
    "import seaborn as sns\n",
    "import itertools\n",
    "import datetime\n",
    "import re\n",
    "\n",
    "import spacy\n",
    "\n",
    "import torchtext\n",
    "from torchtext.data import Field, BucketIterator, TabularDataset\n",
    "\n",
    "import itertools\n",
    "\n",
    "from sklearn.model_selection import train_test_split\n",
    "from sklearn.metrics import accuracy_score\n",
    "\n",
    "import torch\n",
    "import torch.nn as nn\n",
    "import torch.optim as optim\n",
    "from torch.autograd import Variable\n",
    "import torch.nn.functional as F\n",
    "from torch.nn.utils.rnn import pack_padded_sequence, pad_packed_sequence\n",
    "\n",
    "import torchtext\n",
    "from torchtext.data import Field, BucketIterator, TabularDataset\n",
    "\n",
    "import pickle"
   ]
  },
  {
   "cell_type": "code",
   "execution_count": 3,
   "metadata": {},
   "outputs": [],
   "source": [
    "device = torch.device(\"cuda:0\" if torch.cuda.is_available() else \"cpu\")"
   ]
  },
  {
   "cell_type": "code",
   "execution_count": 4,
   "metadata": {},
   "outputs": [],
   "source": [
    "path = \"data/\""
   ]
  },
  {
   "cell_type": "code",
   "execution_count": 5,
   "metadata": {},
   "outputs": [],
   "source": [
    "df = pd.read_pickle(os.path.join(path,\"df_combined.pkl\"))"
   ]
  },
  {
   "cell_type": "code",
   "execution_count": 6,
   "metadata": {},
   "outputs": [
    {
     "data": {
      "text/html": [
       "<div>\n",
       "<style scoped>\n",
       "    .dataframe tbody tr th:only-of-type {\n",
       "        vertical-align: middle;\n",
       "    }\n",
       "\n",
       "    .dataframe tbody tr th {\n",
       "        vertical-align: top;\n",
       "    }\n",
       "\n",
       "    .dataframe thead th {\n",
       "        text-align: right;\n",
       "    }\n",
       "</style>\n",
       "<table border=\"1\" class=\"dataframe\">\n",
       "  <thead>\n",
       "    <tr style=\"text-align: right;\">\n",
       "      <th></th>\n",
       "      <th>reviewTime</th>\n",
       "      <th>overall</th>\n",
       "      <th>word_count</th>\n",
       "      <th>summary</th>\n",
       "      <th>reviewText</th>\n",
       "      <th>reviewerID</th>\n",
       "      <th>reviewerName</th>\n",
       "      <th>year</th>\n",
       "      <th>month</th>\n",
       "      <th>day</th>\n",
       "      <th>dow</th>\n",
       "      <th>reviewYearMonth</th>\n",
       "      <th>word_count_binned</th>\n",
       "      <th>word_count_binned2</th>\n",
       "      <th>combinedText</th>\n",
       "      <th>processedText</th>\n",
       "      <th>target</th>\n",
       "    </tr>\n",
       "  </thead>\n",
       "  <tbody>\n",
       "    <tr>\n",
       "      <th>12355</th>\n",
       "      <td>2014-07-16</td>\n",
       "      <td>4</td>\n",
       "      <td>132</td>\n",
       "      <td>Take caution on sizing</td>\n",
       "      <td>I have found many of the Chinese styles very a...</td>\n",
       "      <td>A18NUOSGFUEBQC</td>\n",
       "      <td>Hot Cookie \"Yes, Chef!\"</td>\n",
       "      <td>2014</td>\n",
       "      <td>7</td>\n",
       "      <td>16</td>\n",
       "      <td>2</td>\n",
       "      <td>2014-07</td>\n",
       "      <td>140</td>\n",
       "      <td>(-2.881, 130.367]</td>\n",
       "      <td>Take caution on sizing I have found many of th...</td>\n",
       "      <td>take caution on sizing i have found many of th...</td>\n",
       "      <td>0</td>\n",
       "    </tr>\n",
       "    <tr>\n",
       "      <th>16005</th>\n",
       "      <td>2014-07-16</td>\n",
       "      <td>5</td>\n",
       "      <td>53</td>\n",
       "      <td>Very cute &amp; fun looking!</td>\n",
       "      <td>I'm 5'2 and 110lbs I ordered a small, fits gre...</td>\n",
       "      <td>AQ8NV95JJ5PUE</td>\n",
       "      <td>Kristine Termini</td>\n",
       "      <td>2014</td>\n",
       "      <td>7</td>\n",
       "      <td>16</td>\n",
       "      <td>2</td>\n",
       "      <td>2014-07</td>\n",
       "      <td>60</td>\n",
       "      <td>(-2.881, 130.367]</td>\n",
       "      <td>Very cute &amp; fun looking! I'm 5'2 and 110lbs I ...</td>\n",
       "      <td>very cute fun looking i am and lbs i ordered a...</td>\n",
       "      <td>1</td>\n",
       "    </tr>\n",
       "    <tr>\n",
       "      <th>24150</th>\n",
       "      <td>2014-07-16</td>\n",
       "      <td>4</td>\n",
       "      <td>58</td>\n",
       "      <td>Worth the investment!</td>\n",
       "      <td>I have nickel sensitivity and cannot wear prec...</td>\n",
       "      <td>A13KL1NOBZM6DL</td>\n",
       "      <td>stdparty</td>\n",
       "      <td>2014</td>\n",
       "      <td>7</td>\n",
       "      <td>16</td>\n",
       "      <td>2</td>\n",
       "      <td>2014-07</td>\n",
       "      <td>60</td>\n",
       "      <td>(-2.881, 130.367]</td>\n",
       "      <td>Worth the investment! I have nickel sensitivit...</td>\n",
       "      <td>worth the investment i have nickel sensitivity...</td>\n",
       "      <td>1</td>\n",
       "    </tr>\n",
       "    <tr>\n",
       "      <th>34</th>\n",
       "      <td>2014-07-20</td>\n",
       "      <td>1</td>\n",
       "      <td>8</td>\n",
       "      <td>One Star</td>\n",
       "      <td>turn colors after wearing for week</td>\n",
       "      <td>A1O0GKFCQ0OP9I</td>\n",
       "      <td>Patricia Stewart Dailey</td>\n",
       "      <td>2014</td>\n",
       "      <td>7</td>\n",
       "      <td>20</td>\n",
       "      <td>6</td>\n",
       "      <td>2014-07</td>\n",
       "      <td>20</td>\n",
       "      <td>(-2.881, 130.367]</td>\n",
       "      <td>One Star turn colors after wearing for week</td>\n",
       "      <td>one star turn colors after wearing for week</td>\n",
       "      <td>0</td>\n",
       "    </tr>\n",
       "    <tr>\n",
       "      <th>35</th>\n",
       "      <td>2014-07-21</td>\n",
       "      <td>5</td>\n",
       "      <td>9</td>\n",
       "      <td>Gorgeous</td>\n",
       "      <td>Love this blouse and have one in white.</td>\n",
       "      <td>A1L6LRVK79TZ0K</td>\n",
       "      <td>Amazon Customer</td>\n",
       "      <td>2014</td>\n",
       "      <td>7</td>\n",
       "      <td>21</td>\n",
       "      <td>0</td>\n",
       "      <td>2014-07</td>\n",
       "      <td>20</td>\n",
       "      <td>(-2.881, 130.367]</td>\n",
       "      <td>Gorgeous Love this blouse and have one in white.</td>\n",
       "      <td>gorgeous love this blouse and have one in white</td>\n",
       "      <td>0</td>\n",
       "    </tr>\n",
       "  </tbody>\n",
       "</table>\n",
       "</div>"
      ],
      "text/plain": [
       "      reviewTime  overall  word_count                   summary  \\\n",
       "12355 2014-07-16        4         132    Take caution on sizing   \n",
       "16005 2014-07-16        5          53  Very cute & fun looking!   \n",
       "24150 2014-07-16        4          58     Worth the investment!   \n",
       "34    2014-07-20        1           8                  One Star   \n",
       "35    2014-07-21        5           9                  Gorgeous   \n",
       "\n",
       "                                              reviewText      reviewerID  \\\n",
       "12355  I have found many of the Chinese styles very a...  A18NUOSGFUEBQC   \n",
       "16005  I'm 5'2 and 110lbs I ordered a small, fits gre...   AQ8NV95JJ5PUE   \n",
       "24150  I have nickel sensitivity and cannot wear prec...  A13KL1NOBZM6DL   \n",
       "34                    turn colors after wearing for week  A1O0GKFCQ0OP9I   \n",
       "35               Love this blouse and have one in white.  A1L6LRVK79TZ0K   \n",
       "\n",
       "                  reviewerName  year  month  day  dow reviewYearMonth  \\\n",
       "12355  Hot Cookie \"Yes, Chef!\"  2014      7   16    2         2014-07   \n",
       "16005         Kristine Termini  2014      7   16    2         2014-07   \n",
       "24150                 stdparty  2014      7   16    2         2014-07   \n",
       "34     Patricia Stewart Dailey  2014      7   20    6         2014-07   \n",
       "35             Amazon Customer  2014      7   21    0         2014-07   \n",
       "\n",
       "       word_count_binned word_count_binned2  \\\n",
       "12355                140  (-2.881, 130.367]   \n",
       "16005                 60  (-2.881, 130.367]   \n",
       "24150                 60  (-2.881, 130.367]   \n",
       "34                    20  (-2.881, 130.367]   \n",
       "35                    20  (-2.881, 130.367]   \n",
       "\n",
       "                                            combinedText  \\\n",
       "12355  Take caution on sizing I have found many of th...   \n",
       "16005  Very cute & fun looking! I'm 5'2 and 110lbs I ...   \n",
       "24150  Worth the investment! I have nickel sensitivit...   \n",
       "34           One Star turn colors after wearing for week   \n",
       "35      Gorgeous Love this blouse and have one in white.   \n",
       "\n",
       "                                           processedText  target  \n",
       "12355  take caution on sizing i have found many of th...       0  \n",
       "16005  very cute fun looking i am and lbs i ordered a...       1  \n",
       "24150  worth the investment i have nickel sensitivity...       1  \n",
       "34           one star turn colors after wearing for week       0  \n",
       "35       gorgeous love this blouse and have one in white       0  "
      ]
     },
     "execution_count": 6,
     "metadata": {},
     "output_type": "execute_result"
    }
   ],
   "source": [
    "df.tail()"
   ]
  },
  {
   "cell_type": "code",
   "execution_count": 8,
   "metadata": {},
   "outputs": [],
   "source": [
    "nlp = spacy.load('en_core_web_sm',disable=['parser', 'tagger', 'ner'])\n",
    "def tokenizer(s): return [w.text for w in nlp(s)]"
   ]
  },
  {
   "cell_type": "markdown",
   "metadata": {},
   "source": [
    "### 1. Define Fields"
   ]
  },
  {
   "cell_type": "markdown",
   "metadata": {},
   "source": [
    "Here we define the fields from the dataset to be fed into the model. In addition to the review text (processedText), we will also include __review year__, __word count__ and __overall rating__"
   ]
  },
  {
   "cell_type": "code",
   "execution_count": 14,
   "metadata": {},
   "outputs": [],
   "source": [
    "# RNN\n",
    "TEXT = Field(sequential=True, tokenize=tokenizer, include_lengths=True, use_vocab=True)\n",
    "TARGET = Field(sequential=False, use_vocab=False, pad_token=None, unk_token=None, is_target =True)\n",
    "NUMERIC_FEATURE = Field(sequential=False, use_vocab=False, pad_token=None, unk_token=None, is_target =False)"
   ]
  },
  {
   "cell_type": "code",
   "execution_count": 15,
   "metadata": {},
   "outputs": [
    {
     "data": {
      "text/plain": [
       "Index(['reviewTime', 'overall', 'word_count', 'summary', 'reviewText',\n",
       "       'reviewerID', 'reviewerName', 'year', 'month', 'day', 'dow',\n",
       "       'reviewYearMonth', 'word_count_binned', 'word_count_binned2',\n",
       "       'combinedText', 'processedText', 'target'],\n",
       "      dtype='object')"
      ]
     },
     "execution_count": 15,
     "metadata": {},
     "output_type": "execute_result"
    }
   ],
   "source": [
    "df.columns"
   ]
  },
  {
   "cell_type": "code",
   "execution_count": 16,
   "metadata": {},
   "outputs": [],
   "source": [
    "df_final = df[['reviewTime', 'year', 'overall', 'word_count','reviewerID','processedText', 'target']]"
   ]
  },
  {
   "cell_type": "code",
   "execution_count": 17,
   "metadata": {},
   "outputs": [
    {
     "data": {
      "text/plain": [
       "Index(['reviewTime', 'year', 'overall', 'word_count', 'reviewerID',\n",
       "       'processedText', 'target'],\n",
       "      dtype='object')"
      ]
     },
     "execution_count": 17,
     "metadata": {},
     "output_type": "execute_result"
    }
   ],
   "source": [
    "df_final.columns"
   ]
  },
  {
   "cell_type": "code",
   "execution_count": 20,
   "metadata": {},
   "outputs": [],
   "source": [
    "data_fields2 = [\n",
    "    (\"reviewTime\", None),\n",
    "    (\"year\", NUMERIC_FEATURE),\n",
    "    (\"overall\", NUMERIC_FEATURE),\n",
    "    (\"word_count\", NUMERIC_FEATURE),\n",
    "    (\"reviewerID\", None),    \n",
    "    (\"processedText\", TEXT), \n",
    "    (\"target\", TARGET)\n",
    "]"
   ]
  },
  {
   "cell_type": "code",
   "execution_count": 19,
   "metadata": {
    "collapsed": true,
    "jupyter": {
     "outputs_hidden": true
    }
   },
   "outputs": [
    {
     "data": {
      "text/html": [
       "<div>\n",
       "<style scoped>\n",
       "    .dataframe tbody tr th:only-of-type {\n",
       "        vertical-align: middle;\n",
       "    }\n",
       "\n",
       "    .dataframe tbody tr th {\n",
       "        vertical-align: top;\n",
       "    }\n",
       "\n",
       "    .dataframe thead th {\n",
       "        text-align: right;\n",
       "    }\n",
       "</style>\n",
       "<table border=\"1\" class=\"dataframe\">\n",
       "  <thead>\n",
       "    <tr style=\"text-align: right;\">\n",
       "      <th></th>\n",
       "      <th>reviewTime</th>\n",
       "      <th>year</th>\n",
       "      <th>overall</th>\n",
       "      <th>word_count</th>\n",
       "      <th>reviewerID</th>\n",
       "      <th>processedText</th>\n",
       "      <th>target</th>\n",
       "    </tr>\n",
       "  </thead>\n",
       "  <tbody>\n",
       "    <tr>\n",
       "      <th>9</th>\n",
       "      <td>2012-12-03</td>\n",
       "      <td>2012</td>\n",
       "      <td>5</td>\n",
       "      <td>2</td>\n",
       "      <td>A14VKVYI0OX3T6</td>\n",
       "      <td>great excelentedggfddffrgrgththrththrgthrergnf...</td>\n",
       "      <td>0</td>\n",
       "    </tr>\n",
       "    <tr>\n",
       "      <th>22</th>\n",
       "      <td>2014-05-06</td>\n",
       "      <td>2014</td>\n",
       "      <td>2</td>\n",
       "      <td>4</td>\n",
       "      <td>A2ZPVDF4FC3V9R</td>\n",
       "      <td>low quality low quality</td>\n",
       "      <td>0</td>\n",
       "    </tr>\n",
       "    <tr>\n",
       "      <th>16</th>\n",
       "      <td>2014-06-30</td>\n",
       "      <td>2014</td>\n",
       "      <td>5</td>\n",
       "      <td>4</td>\n",
       "      <td>A1NH58IRYR7NB2</td>\n",
       "      <td>five stars perfect fix</td>\n",
       "      <td>0</td>\n",
       "    </tr>\n",
       "    <tr>\n",
       "      <th>1</th>\n",
       "      <td>2014-07-01</td>\n",
       "      <td>2014</td>\n",
       "      <td>5</td>\n",
       "      <td>3</td>\n",
       "      <td>A3ACCVELQ149WV</td>\n",
       "      <td>five stars nice</td>\n",
       "      <td>0</td>\n",
       "    </tr>\n",
       "    <tr>\n",
       "      <th>24549</th>\n",
       "      <td>2014-07-03</td>\n",
       "      <td>2014</td>\n",
       "      <td>5</td>\n",
       "      <td>3</td>\n",
       "      <td>A1TWMUCAU35FMV</td>\n",
       "      <td>five stars perfect</td>\n",
       "      <td>1</td>\n",
       "    </tr>\n",
       "    <tr>\n",
       "      <th>17</th>\n",
       "      <td>2014-07-04</td>\n",
       "      <td>2014</td>\n",
       "      <td>4</td>\n",
       "      <td>3</td>\n",
       "      <td>A31NV4WVD1R4BX</td>\n",
       "      <td>four stars nice</td>\n",
       "      <td>0</td>\n",
       "    </tr>\n",
       "    <tr>\n",
       "      <th>18</th>\n",
       "      <td>2014-07-04</td>\n",
       "      <td>2014</td>\n",
       "      <td>3</td>\n",
       "      <td>3</td>\n",
       "      <td>A2BI4NFGV8LJVP</td>\n",
       "      <td>three stars returned</td>\n",
       "      <td>0</td>\n",
       "    </tr>\n",
       "    <tr>\n",
       "      <th>4</th>\n",
       "      <td>2014-07-06</td>\n",
       "      <td>2014</td>\n",
       "      <td>4</td>\n",
       "      <td>4</td>\n",
       "      <td>A1Y5MCG52TBL1I</td>\n",
       "      <td>four stars good belt</td>\n",
       "      <td>0</td>\n",
       "    </tr>\n",
       "    <tr>\n",
       "      <th>13</th>\n",
       "      <td>2014-07-07</td>\n",
       "      <td>2014</td>\n",
       "      <td>5</td>\n",
       "      <td>3</td>\n",
       "      <td>A25CY0I386755K</td>\n",
       "      <td>five stars perfect</td>\n",
       "      <td>0</td>\n",
       "    </tr>\n",
       "    <tr>\n",
       "      <th>6</th>\n",
       "      <td>2014-07-07</td>\n",
       "      <td>2014</td>\n",
       "      <td>5</td>\n",
       "      <td>4</td>\n",
       "      <td>A3OAFAJFR5K0U5</td>\n",
       "      <td>five stars perfect fit</td>\n",
       "      <td>0</td>\n",
       "    </tr>\n",
       "    <tr>\n",
       "      <th>19312</th>\n",
       "      <td>2014-07-08</td>\n",
       "      <td>2014</td>\n",
       "      <td>5</td>\n",
       "      <td>4</td>\n",
       "      <td>AZECSYX6RCGAI</td>\n",
       "      <td>five stars love it</td>\n",
       "      <td>1</td>\n",
       "    </tr>\n",
       "    <tr>\n",
       "      <th>3</th>\n",
       "      <td>2014-07-08</td>\n",
       "      <td>2014</td>\n",
       "      <td>5</td>\n",
       "      <td>3</td>\n",
       "      <td>A2C6NK705NIWKV</td>\n",
       "      <td>perfect very comfy</td>\n",
       "      <td>0</td>\n",
       "    </tr>\n",
       "    <tr>\n",
       "      <th>32</th>\n",
       "      <td>2014-07-12</td>\n",
       "      <td>2014</td>\n",
       "      <td>4</td>\n",
       "      <td>4</td>\n",
       "      <td>A3HAJ9WG9KQFUS</td>\n",
       "      <td>four stars very comfortable</td>\n",
       "      <td>0</td>\n",
       "    </tr>\n",
       "  </tbody>\n",
       "</table>\n",
       "</div>"
      ],
      "text/plain": [
       "      reviewTime  year  overall  word_count      reviewerID  \\\n",
       "9     2012-12-03  2012        5           2  A14VKVYI0OX3T6   \n",
       "22    2014-05-06  2014        2           4  A2ZPVDF4FC3V9R   \n",
       "16    2014-06-30  2014        5           4  A1NH58IRYR7NB2   \n",
       "1     2014-07-01  2014        5           3  A3ACCVELQ149WV   \n",
       "24549 2014-07-03  2014        5           3  A1TWMUCAU35FMV   \n",
       "17    2014-07-04  2014        4           3  A31NV4WVD1R4BX   \n",
       "18    2014-07-04  2014        3           3  A2BI4NFGV8LJVP   \n",
       "4     2014-07-06  2014        4           4  A1Y5MCG52TBL1I   \n",
       "13    2014-07-07  2014        5           3  A25CY0I386755K   \n",
       "6     2014-07-07  2014        5           4  A3OAFAJFR5K0U5   \n",
       "19312 2014-07-08  2014        5           4   AZECSYX6RCGAI   \n",
       "3     2014-07-08  2014        5           3  A2C6NK705NIWKV   \n",
       "32    2014-07-12  2014        4           4  A3HAJ9WG9KQFUS   \n",
       "\n",
       "                                           processedText  target  \n",
       "9      great excelentedggfddffrgrgththrththrgthrergnf...       0  \n",
       "22                               low quality low quality       0  \n",
       "16                                five stars perfect fix       0  \n",
       "1                                        five stars nice       0  \n",
       "24549                                 five stars perfect       1  \n",
       "17                                       four stars nice       0  \n",
       "18                                  three stars returned       0  \n",
       "4                                   four stars good belt       0  \n",
       "13                                    five stars perfect       0  \n",
       "6                                 five stars perfect fit       0  \n",
       "19312                                 five stars love it       1  \n",
       "3                                     perfect very comfy       0  \n",
       "32                           four stars very comfortable       0  "
      ]
     },
     "execution_count": 19,
     "metadata": {},
     "output_type": "execute_result"
    }
   ],
   "source": [
    "df_final[df_final.word_count<5]"
   ]
  },
  {
   "cell_type": "markdown",
   "metadata": {},
   "source": [
    "### 2. Create train and validation set "
   ]
  },
  {
   "cell_type": "code",
   "execution_count": 145,
   "metadata": {},
   "outputs": [],
   "source": [
    "### Create Train, Valid and Test datasets\n",
    "def split_train_test(df, target, test_size=0.2):\n",
    "    train, val = train_test_split(df, stratify = target, test_size=test_size,random_state=42)\n",
    "    return train.reset_index(drop=True), val.reset_index(drop=True)"
   ]
  },
  {
   "cell_type": "code",
   "execution_count": 146,
   "metadata": {},
   "outputs": [],
   "source": [
    "train_val, test = split_train_test(df_final, df_final.target, test_size=0.1)\n",
    "train, val = split_train_test(df_final, df_final.target, test_size=0.1)"
   ]
  },
  {
   "cell_type": "code",
   "execution_count": 147,
   "metadata": {},
   "outputs": [],
   "source": [
    "train.to_csv(\"train_full.csv\", index=False)\n",
    "val.to_csv(\"val_full.csv\", index=False)\n",
    "test.to_csv(\"test_full.csv\", index=False)"
   ]
  },
  {
   "cell_type": "code",
   "execution_count": 148,
   "metadata": {},
   "outputs": [
    {
     "data": {
      "text/plain": [
       "((22262, 7), (2474, 7), (2474, 7))"
      ]
     },
     "execution_count": 148,
     "metadata": {},
     "output_type": "execute_result"
    }
   ],
   "source": [
    "train.shape, val.shape, test.shape"
   ]
  },
  {
   "cell_type": "code",
   "execution_count": 149,
   "metadata": {},
   "outputs": [
    {
     "data": {
      "text/plain": [
       "[Text(0, 0.5, 'counts'), Text(0.5, 0, 'Labels'), Text(0.5, 1.0, 'test')]"
      ]
     },
     "execution_count": 149,
     "metadata": {},
     "output_type": "execute_result"
    },
    {
     "data": {
      "image/png": "[encoded data removed]",
      "text/plain": [
       "<Figure size 720x288 with 3 Axes>"
      ]
     },
     "metadata": {
      "needs_background": "light"
     },
     "output_type": "display_data"
    }
   ],
   "source": [
    "fig = plt.figure(figsize=(10,4))\n",
    "fig.subplots_adjust(hspace=0.4, wspace=0.4)\n",
    "\n",
    "ax = fig.add_subplot(1,3,1)\n",
    "ax = sns.barplot(x=train.target.unique(),y=train.target.value_counts())\n",
    "ax.set(xlabel='Labels', ylabel=\"counts\", title=\"train\")\n",
    "\n",
    "ax1 = fig.add_subplot(1,3,2)\n",
    "ax1 = sns.barplot(x=val.target.unique(),y=val.target.value_counts())\n",
    "ax1.set(xlabel='Labels', ylabel=\"counts\", title=\"validation\")\n",
    "\n",
    "ax2 = fig.add_subplot(1,3,3)\n",
    "ax2 = sns.barplot(x=test.target.unique(),y=test.target.value_counts())\n",
    "ax2.set(xlabel='Labels', ylabel=\"counts\", title=\"test\")"
   ]
  },
  {
   "cell_type": "code",
   "execution_count": 150,
   "metadata": {},
   "outputs": [
    {
     "name": "stdout",
     "output_type": "stream",
     "text": [
      "Wall time: 40.5 s\n"
     ]
    }
   ],
   "source": [
    "%%time\n",
    "train_data, val_data, test_data = TabularDataset.splits(\n",
    "    path='./', \n",
    "    format='csv', \n",
    "    train='train_full.csv', \n",
    "    validation='val_full.csv', \n",
    "    test='test_full.csv', \n",
    "    fields=data_fields2, \n",
    "    skip_header=True)"
   ]
  },
  {
   "cell_type": "code",
   "execution_count": null,
   "metadata": {},
   "outputs": [],
   "source": []
  },
  {
   "cell_type": "markdown",
   "metadata": {},
   "source": [
    "### 2b. Alternatively, start with a smaller set for testing purpose"
   ]
  },
  {
   "cell_type": "code",
   "execution_count": 22,
   "metadata": {},
   "outputs": [],
   "source": [
    "df_small = df_final[df_final.word_count > 5].sample(3000)"
   ]
  },
  {
   "cell_type": "code",
   "execution_count": 23,
   "metadata": {},
   "outputs": [],
   "source": [
    "train_val_sub, test_sub = split_train_test(df_small, df_small.target, test_size=0.2)\n",
    "train_sub, val_sub = split_train_test(df_small, df_small.target, test_size=0.2)"
   ]
  },
  {
   "cell_type": "code",
   "execution_count": 24,
   "metadata": {},
   "outputs": [],
   "source": [
    "train_sub.to_csv(\"train_sub.csv\", index=False)\n",
    "val_sub.to_csv(\"val_sub.csv\", index=False)\n",
    "test_sub.to_csv(\"test_sub.csv\", index=False)"
   ]
  },
  {
   "cell_type": "code",
   "execution_count": 25,
   "metadata": {},
   "outputs": [
    {
     "data": {
      "text/plain": [
       "((2400, 7), (600, 7), (600, 7))"
      ]
     },
     "execution_count": 25,
     "metadata": {},
     "output_type": "execute_result"
    }
   ],
   "source": [
    "train_sub.shape, val_sub.shape, test_sub.shape"
   ]
  },
  {
   "cell_type": "code",
   "execution_count": 26,
   "metadata": {},
   "outputs": [
    {
     "data": {
      "text/plain": [
       "[Text(0, 0.5, 'counts'), Text(0.5, 0, 'Labels'), Text(0.5, 1.0, 'test')]"
      ]
     },
     "execution_count": 26,
     "metadata": {},
     "output_type": "execute_result"
    },
    {
     "data": {
      "image/png": "[encoded data removed]",
      "text/plain": [
       "<Figure size 720x288 with 3 Axes>"
      ]
     },
     "metadata": {
      "needs_background": "light"
     },
     "output_type": "display_data"
    }
   ],
   "source": [
    "fig = plt.figure(figsize=(10,4))\n",
    "fig.subplots_adjust(hspace=0.4, wspace=0.4)\n",
    "\n",
    "ax = fig.add_subplot(1,3,1)\n",
    "ax = sns.barplot(x=train_sub.target.unique(),y=train_sub.target.value_counts())\n",
    "ax.set(xlabel='Labels', ylabel=\"counts\", title=\"train\")\n",
    "\n",
    "ax1 = fig.add_subplot(1,3,2)\n",
    "ax1 = sns.barplot(x=val_sub.target.unique(),y=val_sub.target.value_counts())\n",
    "ax1.set(xlabel='Labels', ylabel=\"counts\", title=\"validation\")\n",
    "\n",
    "ax2 = fig.add_subplot(1,3,3)\n",
    "ax2 = sns.barplot(x=test_sub.target.unique(),y=test_sub.target.value_counts())\n",
    "ax2.set(xlabel='Labels', ylabel=\"counts\", title=\"test\")"
   ]
  },
  {
   "cell_type": "code",
   "execution_count": 27,
   "metadata": {},
   "outputs": [
    {
     "name": "stdout",
     "output_type": "stream",
     "text": [
      "Wall time: 5.51 s\n"
     ]
    }
   ],
   "source": [
    "%%time\n",
    "## use additional features\n",
    "\n",
    "train_data, val_data, test_data = TabularDataset.splits(\n",
    "    path='./', \n",
    "    format='csv', \n",
    "    train='train_sub.csv', \n",
    "    validation='val_sub.csv', \n",
    "    test='test_sub.csv', \n",
    "    fields=data_fields2, \n",
    "    skip_header=True)"
   ]
  },
  {
   "cell_type": "code",
   "execution_count": null,
   "metadata": {},
   "outputs": [],
   "source": []
  },
  {
   "cell_type": "markdown",
   "metadata": {},
   "source": [
    "### 3. Build vocabulary, using glove pretrained embeddings"
   ]
  },
  {
   "cell_type": "code",
   "execution_count": 32,
   "metadata": {},
   "outputs": [],
   "source": [
    "path_embed = \"/Users/Susan/Documents/embeddings\""
   ]
  },
  {
   "cell_type": "markdown",
   "metadata": {},
   "source": [
    "%%time\n",
    "vec = torchtext.vocab.Vectors('glove.42B.300d.txt', '/Users/Susan/Documents/embeddings/glove.42B.300d')"
   ]
  },
  {
   "cell_type": "markdown",
   "metadata": {},
   "source": [
    "pickle.dump(vec, open(\"vec.pkl\", \"wb\"))"
   ]
  },
  {
   "cell_type": "code",
   "execution_count": 151,
   "metadata": {},
   "outputs": [
    {
     "name": "stdout",
     "output_type": "stream",
     "text": [
      "Wall time: 7.22 s\n"
     ]
    }
   ],
   "source": [
    "%%time\n",
    "vec = pickle.load(open(\"vec.pkl\", \"rb\"))"
   ]
  },
  {
   "cell_type": "code",
   "execution_count": 152,
   "metadata": {},
   "outputs": [
    {
     "name": "stdout",
     "output_type": "stream",
     "text": [
      "Wall time: 897 ms\n"
     ]
    }
   ],
   "source": [
    "%%time\n",
    "MAX_VOCAB_SIZE = 100_000\n",
    "\n",
    "TEXT.build_vocab(train_data, \n",
    "                 max_size = MAX_VOCAB_SIZE,\n",
    "                 vectors=vec)\n",
    "\n",
    "TARGET.build_vocab(train_data)"
   ]
  },
  {
   "cell_type": "code",
   "execution_count": 153,
   "metadata": {},
   "outputs": [
    {
     "data": {
      "text/plain": [
       "torch.Size([29714, 300])"
      ]
     },
     "execution_count": 153,
     "metadata": {},
     "output_type": "execute_result"
    }
   ],
   "source": [
    "TEXT.vocab.vectors.shape"
   ]
  },
  {
   "cell_type": "code",
   "execution_count": 154,
   "metadata": {},
   "outputs": [
    {
     "data": {
      "text/plain": [
       "[('i', 60994),\n",
       " ('the', 60335),\n",
       " ('and', 43024),\n",
       " ('a', 38919),\n",
       " ('it', 32494),\n",
       " ('to', 28761),\n",
       " ('is', 26804),\n",
       " ('not', 21181),\n",
       " ('for', 20080),\n",
       " ('this', 17507)]"
      ]
     },
     "execution_count": 154,
     "metadata": {},
     "output_type": "execute_result"
    }
   ],
   "source": [
    "TEXT.vocab.freqs.most_common(10)"
   ]
  },
  {
   "cell_type": "code",
   "execution_count": 155,
   "metadata": {},
   "outputs": [
    {
     "data": {
      "text/plain": [
       "dict_keys(['year', 'overall', 'word_count', 'processedText', 'target'])"
      ]
     },
     "execution_count": 155,
     "metadata": {},
     "output_type": "execute_result"
    }
   ],
   "source": [
    "train_data[0].__dict__.keys()"
   ]
  },
  {
   "cell_type": "code",
   "execution_count": 156,
   "metadata": {},
   "outputs": [
    {
     "data": {
      "text/plain": [
       "['new', 'balace', 'not']"
      ]
     },
     "execution_count": 156,
     "metadata": {},
     "output_type": "execute_result"
    }
   ],
   "source": [
    "train_data[0].processedText[:3]"
   ]
  },
  {
   "cell_type": "code",
   "execution_count": null,
   "metadata": {},
   "outputs": [],
   "source": []
  },
  {
   "cell_type": "markdown",
   "metadata": {},
   "source": [
    "### 4. Load data in batches"
   ]
  },
  {
   "cell_type": "code",
   "execution_count": 157,
   "metadata": {},
   "outputs": [],
   "source": [
    "train_loader, val_loader, test_loader = BucketIterator.splits(datasets=(train_data, val_data, test_data), \n",
    "                                            batch_sizes=(32, 32,32), \n",
    "                                            sort_key=lambda x: len(x.processedText), \n",
    "                                            device=None, \n",
    "                                            sort_within_batch=False, ##\n",
    "                                            repeat=False)"
   ]
  },
  {
   "cell_type": "code",
   "execution_count": 158,
   "metadata": {},
   "outputs": [
    {
     "data": {
      "text/plain": [
       "(696, 78, 78)"
      ]
     },
     "execution_count": 158,
     "metadata": {},
     "output_type": "execute_result"
    }
   ],
   "source": [
    "len(train_loader), len(val_loader), len(test_loader)"
   ]
  },
  {
   "cell_type": "code",
   "execution_count": 159,
   "metadata": {},
   "outputs": [
    {
     "data": {
      "text/plain": [
       "<generator object Dataset.__getattr__ at 0x000001A80E0EF518>"
      ]
     },
     "execution_count": 159,
     "metadata": {},
     "output_type": "execute_result"
    }
   ],
   "source": [
    "train_loader.dataset.word_count"
   ]
  },
  {
   "cell_type": "code",
   "execution_count": 160,
   "metadata": {},
   "outputs": [
    {
     "data": {
      "text/plain": [
       "\n",
       "[torchtext.data.batch.Batch of size 32]\n",
       "\t[.year]:[torch.LongTensor of size 32]\n",
       "\t[.overall]:[torch.LongTensor of size 32]\n",
       "\t[.word_count]:[torch.LongTensor of size 32]\n",
       "\t[.processedText]:('[torch.LongTensor of size 113x32]', '[torch.LongTensor of size 32]')\n",
       "\t[.target]:[torch.LongTensor of size 32]"
      ]
     },
     "execution_count": 160,
     "metadata": {},
     "output_type": "execute_result"
    }
   ],
   "source": [
    "batch = next(iter(train_loader))\n",
    "batch"
   ]
  },
  {
   "cell_type": "code",
   "execution_count": 161,
   "metadata": {},
   "outputs": [
    {
     "data": {
      "text/plain": [
       "tensor([1, 0, 1, 0, 1, 0, 1, 0, 0, 1, 0, 0, 0, 1, 0, 1, 0, 1, 0, 0, 0, 0, 1, 1,\n",
       "        0, 1, 0, 0, 0, 0, 1, 1])"
      ]
     },
     "execution_count": 161,
     "metadata": {},
     "output_type": "execute_result"
    }
   ],
   "source": [
    "batch.target"
   ]
  },
  {
   "cell_type": "code",
   "execution_count": 162,
   "metadata": {},
   "outputs": [
    {
     "data": {
      "text/plain": [
       "(tensor([[ 111,    2,   41,  ..., 9814,   30,   40],\n",
       "         [  18,   39,   67,  ...,  446,  236,  121],\n",
       "         [ 134,   11,    3,  ...,   37,    2,   11],\n",
       "         ...,\n",
       "         [  85,    1,    1,  ...,    1,    1,    1],\n",
       "         [  11,    1,    1,  ...,    1,    1,    1],\n",
       "         [ 157,    1,    1,  ...,    1,    1,    1]]),\n",
       " tensor([113,  62, 103,  39,  47, 110,  28,  27,  61,  47,  56, 102,  72,  30,\n",
       "          98,  74,  35,  23,  28,  56,  39,  60,  80,  48,  44,  33,  71,  91,\n",
       "          49,  52,  84,  22]))"
      ]
     },
     "execution_count": 162,
     "metadata": {},
     "output_type": "execute_result"
    }
   ],
   "source": [
    "batch.processedText"
   ]
  },
  {
   "cell_type": "code",
   "execution_count": 163,
   "metadata": {},
   "outputs": [],
   "source": [
    "def idxtosent(batch, idx):\n",
    "    return ' '.join([TEXT.vocab.itos[i] for i in batch.processedText[0][:,idx].cpu().data.numpy()])"
   ]
  },
  {
   "cell_type": "code",
   "execution_count": 164,
   "metadata": {},
   "outputs": [
    {
     "data": {
      "text/plain": [
       "'could have been a little larger i bought another top and was happy with it but decided for some reason that i cannon remember to buy this top in white it turned out to be a lot smaller than the other top that came and i loved this top is more of that feeling of plastic where it does not have any stretch and is a lot hotter than it should be also it does not fall down as low as the other t top i bought so it does not fall below another shirt as i was hoping for its too tight too short and too uncomfortablei will not buy this again'"
      ]
     },
     "execution_count": 164,
     "metadata": {},
     "output_type": "execute_result"
    }
   ],
   "source": [
    "idxtosent(batch,0)"
   ]
  },
  {
   "cell_type": "code",
   "execution_count": 165,
   "metadata": {},
   "outputs": [
    {
     "data": {
      "text/plain": [
       "{'batch_size': 32,\n",
       " 'dataset': <torchtext.data.dataset.TabularDataset at 0x1a89fe85e10>,\n",
       " 'fields': dict_keys(['reviewTime', 'year', 'overall', 'word_count', 'reviewerID', 'processedText', 'target']),\n",
       " 'input_fields': ['year', 'overall', 'word_count', 'processedText'],\n",
       " 'target_fields': ['target'],\n",
       " 'year': tensor([2014, 2013, 2011, 2013, 2013, 2013, 2013, 2014, 2014, 2013, 2013, 2014,\n",
       "         2012, 2011, 2014, 2014, 2014, 2013, 2013, 2014, 2014, 2014, 2012, 2012,\n",
       "         2013, 2008, 2014, 2014, 2013, 2012, 2013, 2013]),\n",
       " 'overall': tensor([2, 5, 4, 3, 4, 5, 5, 5, 5, 5, 4, 4, 5, 5, 3, 4, 5, 5, 5, 4, 4, 3, 5, 5,\n",
       "         5, 5, 1, 5, 3, 2, 4, 4]),\n",
       " 'word_count': tensor([109,  61, 103,  39,  47, 107,  28,  27,  65,  47,  53, 100,  72,  30,\n",
       "          98,  73,  35,  22,  30,  57,  35,  56,  79,  48,  42,  33,  67,  91,\n",
       "          50,  52,  84,  22]),\n",
       " 'processedText': (tensor([[ 111,    2,   41,  ..., 9814,   30,   40],\n",
       "          [  18,   39,   67,  ...,  446,  236,  121],\n",
       "          [ 134,   11,    3,  ...,   37,    2,   11],\n",
       "          ...,\n",
       "          [  85,    1,    1,  ...,    1,    1,    1],\n",
       "          [  11,    1,    1,  ...,    1,    1,    1],\n",
       "          [ 157,    1,    1,  ...,    1,    1,    1]]),\n",
       "  tensor([113,  62, 103,  39,  47, 110,  28,  27,  61,  47,  56, 102,  72,  30,\n",
       "           98,  74,  35,  23,  28,  56,  39,  60,  80,  48,  44,  33,  71,  91,\n",
       "           49,  52,  84,  22])),\n",
       " 'target': tensor([1, 0, 1, 0, 1, 0, 1, 0, 0, 1, 0, 0, 0, 1, 0, 1, 0, 1, 0, 0, 0, 0, 1, 1,\n",
       "         0, 1, 0, 0, 0, 0, 1, 1])}"
      ]
     },
     "execution_count": 165,
     "metadata": {},
     "output_type": "execute_result"
    }
   ],
   "source": [
    "batch.__dict__"
   ]
  },
  {
   "cell_type": "code",
   "execution_count": 166,
   "metadata": {},
   "outputs": [],
   "source": [
    "class BatchGenerator_features:\n",
    "    def __init__(self, dl, x_field, year, wc, ov, y_field):\n",
    "        self.dl, self.x_field, self.y_field = dl, x_field, y_field\n",
    "        self.year = year\n",
    "        self.wc = wc\n",
    "        self.ov = ov\n",
    "        \n",
    "    def __len__(self):\n",
    "        return len(self.dl)\n",
    "    \n",
    "    def __iter__(self):\n",
    "        for batch in self.dl:\n",
    "            year = getattr(batch, self.year)\n",
    "            wc = getattr(batch, self.wc)\n",
    "            ov = getattr(batch, self.ov)\n",
    "            X = getattr(batch, self.x_field)\n",
    "            y = getattr(batch, self.y_field)\n",
    "            yield (year, wc, ov, X, y)"
   ]
  },
  {
   "cell_type": "code",
   "execution_count": 167,
   "metadata": {},
   "outputs": [
    {
     "data": {
      "text/plain": [
       "(tensor([2013, 2014, 2013, 2013, 2014, 2014, 2014, 2013, 2014, 2014, 2012, 2013,\n",
       "         2014, 2013, 2013, 2013, 2013, 2013, 2014, 2014, 2013, 2014, 2013, 2010,\n",
       "         2013, 2012, 2013, 2014, 2013, 2013, 2013, 2014]),\n",
       " tensor([ 76, 167,  28,  35,  81,  58,  64,  28,  27,  33,  41,  56,  62,  30,\n",
       "         118,  42,  69,  59,  52,  99,  36,  21,  57,  26,  30,  31,  75,  23,\n",
       "          26,  27, 109, 134]),\n",
       " tensor([3, 2, 4, 5, 5, 4, 1, 5, 3, 5, 3, 1, 3, 4, 2, 5, 3, 5, 3, 3, 5, 3, 4, 3,\n",
       "         5, 5, 5, 3, 4, 3, 5, 5]),\n",
       " (tensor([[25998,    67,    23,  ...,    23,   187,   806],\n",
       "          [   77,  1125,    44,  ...,    61,   542,  4177],\n",
       "          [  586,  3021,   144,  ...,   430,   464,     2],\n",
       "          ...,\n",
       "          [    1,    13,     1,  ...,     1,     1,     1],\n",
       "          [    1,    11,     1,  ...,     1,     1,     1],\n",
       "          [    1,   159,     1,  ...,     1,     1,     1]]),\n",
       "  tensor([ 77, 167,  29,  35,  86,  57,  61,  28,  27,  33,  42,  56,  62,  30,\n",
       "          120,  42,  73,  59,  53, 100,  35,  21,  56,  27,  30,  31,  75,  23,\n",
       "           26,  27, 110, 133])),\n",
       " tensor([0, 0, 0, 0, 1, 1, 0, 0, 0, 0, 0, 1, 1, 1, 0, 1, 0, 0, 0, 0, 1, 0, 1, 0,\n",
       "         0, 0, 1, 0, 0, 0, 1, 1]))"
      ]
     },
     "execution_count": 167,
     "metadata": {},
     "output_type": "execute_result"
    }
   ],
   "source": [
    "train_batch_it = BatchGenerator_features(train_loader, 'processedText', \"year\", \"word_count\", \"overall\", 'target')\n",
    "next(iter(train_batch_it))"
   ]
  },
  {
   "cell_type": "code",
   "execution_count": 168,
   "metadata": {},
   "outputs": [],
   "source": [
    "train_loader, val_loader, test_loader = BucketIterator.splits(datasets=(train_data, val_data, test_data), \n",
    "                                            batch_sizes=(32,32,32), \n",
    "                                            sort_key=lambda x: len(x.processedText), \n",
    "                                            device=device, \n",
    "                                            sort_within_batch=True, \n",
    "                                            repeat=False)"
   ]
  },
  {
   "cell_type": "code",
   "execution_count": 169,
   "metadata": {},
   "outputs": [
    {
     "data": {
      "text/plain": [
       "(696, 78, 78)"
      ]
     },
     "execution_count": 169,
     "metadata": {},
     "output_type": "execute_result"
    }
   ],
   "source": [
    "len(train_loader), len(val_loader), len(test_loader)"
   ]
  },
  {
   "cell_type": "code",
   "execution_count": 170,
   "metadata": {},
   "outputs": [],
   "source": [
    "train_batch_it = BatchGenerator_features(train_loader, 'processedText', \"year\", \"word_count\", \"overall\", 'target')\n",
    "val_batch_it = BatchGenerator_features(val_loader, 'processedText',  \"year\", \"word_count\", \"overall\", 'target')\n",
    "test_batch_it = BatchGenerator_features(test_loader, 'processedText', \"year\", \"word_count\", \"overall\", 'target')"
   ]
  },
  {
   "cell_type": "code",
   "execution_count": null,
   "metadata": {},
   "outputs": [],
   "source": []
  },
  {
   "cell_type": "markdown",
   "metadata": {},
   "source": [
    "### 5. Define Models"
   ]
  },
  {
   "cell_type": "code",
   "execution_count": 50,
   "metadata": {},
   "outputs": [],
   "source": [
    "#SimpleBiGRU\n",
    "vocab_size = len(TEXT.vocab)\n",
    "embedding_dim = 300\n",
    "n_hidden = 64\n",
    "n_out = 2\n",
    "drop_out = 0.6\n",
    "recurrent_drop_out = 0.3"
   ]
  },
  {
   "cell_type": "code",
   "execution_count": 73,
   "metadata": {},
   "outputs": [],
   "source": [
    "class SimpleBiGRU(nn.Module):\n",
    "    def __init__(self, vocab_size, embedding_dim, n_hidden, n_out, pretrained_vec, dropout, bidirectional=True, rec_dropout=0.1):\n",
    "        super().__init__()\n",
    "        self.vocab_size,self.embedding_dim,self.n_hidden,self.n_out = vocab_size, embedding_dim, n_hidden, n_out\n",
    "        self.bidirectional = bidirectional\n",
    "\n",
    "        self.emb = nn.Embedding(self.vocab_size, self.embedding_dim)\n",
    "        self.emb.weight.data.copy_(pretrained_vec)\n",
    "        self.emb.weight.requires_grad = False\n",
    "        \n",
    "        self.gru = nn.GRU(self.embedding_dim, self.n_hidden, bidirectional=bidirectional, dropout = rec_dropout)\n",
    "        \n",
    "        self.relu = nn.ReLU()\n",
    "        self.dropout = nn.Dropout(dropout)\n",
    "        \n",
    "        if bidirectional:\n",
    "            #print(\"n hidden=\", self.n_hidden*2)\n",
    "            self.fc = nn.Linear(self.n_hidden*2+1, self.n_out)\n",
    "        else:\n",
    "            self.fc = nn.Linear(self.n_hidden+1, self.n_out)\n",
    "\n",
    "        \n",
    "    def forward(self, seq, lengths):\n",
    "        bs = seq.size(1) # batch size\n",
    "        self.h = self.init_hidden(bs) # initialize hidden state of GRU\n",
    "\n",
    "        embs = self.emb(seq)\n",
    "        \n",
    "        embs = pack_padded_sequence(embs, lengths) # unpad\n",
    "        gru_out, self.h = self.gru(embs, self.h) # gru returns hidden state of all timesteps as well as hidden state at last timestep\n",
    "        gru_out, lengths = pad_packed_sequence(gru_out) # pad the sequence to the max length in the batch\n",
    "        \n",
    "#        print(\"h:\", self.h.shape)\n",
    "#        print(\"gru:\", gru_out.shape)\n",
    "#        print(\"lengths:\", lengths.shape)\n",
    "        \n",
    "#        print(\"h -1:\",self.h[:, -1, :].shape)\n",
    "        \n",
    "        #hid_enc = torch.cat([self.h[0,:, :], self.h[1,:,:]], dim=1).unsqueeze(0)\n",
    "        #print(\"hid_enc:\", hid_enc.shape)\n",
    "                \n",
    "        \n",
    "#        hid = self.h[-1]#.view(-1, 2) # self.h[-1] contains hidden state of last timestep\n",
    "#        print(\"hid:\", hid.shape)\n",
    "        \n",
    "        hid_bidir = torch.cat((self.h[-2], self.h[-1]), dim=1)\n",
    "        #print(\"hid_bidir:\", hid_bidir.shape)\n",
    "        #print(\"lengths:\", lengths.unsqueeze(1).shape)\n",
    "        #print(\"concat:\", torch.cat((hid_bidir, lengths.unsqueeze(1).type(torch.FloatTensor).to(device)), dim=1).shape)\n",
    "        cat = torch.cat((hid_bidir, lengths.unsqueeze(1).type(torch.FloatTensor).to(device)), dim=1)\n",
    "        \n",
    "        hid = self.relu(cat)\n",
    "        #hid = self.relu(hid_bidir)\n",
    "        #cat = self.relu(cat)\n",
    "\n",
    "        outp = self.fc(self.dropout(hid)) \n",
    "        #outp = self.fc(self.dropout(hid)) \n",
    "        \n",
    "        return F.log_softmax(outp, dim=-1)\n",
    "    \n",
    "    def init_hidden(self, batch_size):\n",
    "        #return Variable(torch.zeros((1,batch_size,self.n_hidden))).to(device)\n",
    "        if self.bidirectional:\n",
    "            return Variable(torch.zeros((2,batch_size,self.n_hidden))).to(device)\n",
    "            #return torch.zeros((2,batch_size,self.n_hidden)).to(device)\n",
    "        else:\n",
    "            return Variable(torch.zeros((1,batch_size,self.n_hidden))).to(device)\n",
    "            #return torch.zeros((1,batch_size,self.n_hidden)).to(device)    "
   ]
  },
  {
   "cell_type": "code",
   "execution_count": null,
   "metadata": {},
   "outputs": [],
   "source": []
  },
  {
   "cell_type": "code",
   "execution_count": 62,
   "metadata": {},
   "outputs": [],
   "source": [
    "#SimpleBiGRU\n",
    "vocab_size = len(TEXT.vocab)\n",
    "embedding_dim = 300\n",
    "n_hidden = 64\n",
    "n_out = 2\n",
    "drop_out = 0.6\n",
    "recurrent_drop_out = 0.3\n",
    "include_features = True"
   ]
  },
  {
   "cell_type": "code",
   "execution_count": 91,
   "metadata": {},
   "outputs": [],
   "source": [
    "class SimpleBiGRU_features(nn.Module):\n",
    "    def __init__(self, vocab_size, embedding_dim, n_hidden, n_out, pretrained_vec, dropout, bidirectional=True, rec_dropout=0.1, include_features=True):\n",
    "        super().__init__()\n",
    "        self.vocab_size,self.embedding_dim,self.n_hidden,self.n_out = vocab_size, embedding_dim, n_hidden, n_out\n",
    "        self.bidirectional = bidirectional\n",
    "        self.include_features = include_features\n",
    "\n",
    "        self.emb = nn.Embedding(self.vocab_size, self.embedding_dim)\n",
    "        self.emb.weight.data.copy_(pretrained_vec)\n",
    "        self.emb.weight.requires_grad = False\n",
    "        \n",
    "        self.gru = nn.GRU(self.embedding_dim, self.n_hidden, bidirectional=bidirectional)#, dropout = rec_dropout)\n",
    "        \n",
    "        self.relu = nn.ReLU()\n",
    "        self.dropout = nn.Dropout(dropout)\n",
    "        \n",
    "        if bidirectional:\n",
    "            if include_features:\n",
    "                self.fc = nn.Linear(self.n_hidden*2+3, self.n_out)\n",
    "            else:\n",
    "                self.fc = nn.Linear(self.n_hidden*2, self.n_out)\n",
    "        else:\n",
    "            if include_features:\n",
    "                self.fc = nn.Linear(self.n_hidden+3, self.n_out)\n",
    "            else:\n",
    "                self.fc = nn.Linear(self.n_hidden, self.n_out)\n",
    "        \n",
    "    def forward(self, seq, lengths, year, word_count, overall):\n",
    "        bs = seq.size(1) # batch size\n",
    "        self.h = self.init_hidden(bs) # initialize hidden state of GRU\n",
    "\n",
    "        embs = self.emb(seq)\n",
    "        \n",
    "        embs = pack_padded_sequence(embs, lengths) # unpad\n",
    "        gru_out, self.h = self.gru(embs, self.h) # gru returns hidden state of all timesteps as well as hidden state at last timestep\n",
    "        gru_out, lengths = pad_packed_sequence(gru_out) # pad the sequence to the max length in the batch\n",
    "                                        \n",
    "        hid_bidir = torch.cat((self.h[-2], self.h[-1]), dim=1)\n",
    "        \n",
    "        if self.include_features:\n",
    "            cat = torch.cat((hid_bidir, year.unsqueeze(1).type(torch.FloatTensor).to(device),\n",
    "                        word_count.unsqueeze(1).type(torch.FloatTensor).to(device),\n",
    "                        overall.unsqueeze(1).type(torch.FloatTensor).to(device)\n",
    "                        ), dim=1)\n",
    "        else:\n",
    "            cat = hid_bidir\n",
    "        \n",
    "        hid = self.relu(cat)\n",
    "        outp = self.fc(self.dropout(hid)) \n",
    "        \n",
    "        return F.log_softmax(outp, dim=-1)\n",
    "    \n",
    "    def init_hidden(self, batch_size):        \n",
    "        if self.bidirectional:\n",
    "            return Variable(torch.zeros((2,batch_size,self.n_hidden))).to(device)\n",
    "            #return torch.zeros((2,batch_size,self.n_hidden)).to(device)\n",
    "        else:\n",
    "            return Variable(torch.zeros((1,batch_size,self.n_hidden))).to(device)\n",
    "            #return torch.zeros((1,batch_size,self.n_hidden)).to(device)    "
   ]
  },
  {
   "cell_type": "code",
   "execution_count": null,
   "metadata": {},
   "outputs": [],
   "source": []
  },
  {
   "cell_type": "code",
   "execution_count": 772,
   "metadata": {},
   "outputs": [],
   "source": [
    "#ConcatPoolingGRUAdaptive\n",
    "vocab_size = len(TEXT.vocab)\n",
    "embedding_dim = 300\n",
    "n_hidden = 64\n",
    "n_out = 2\n",
    "drop_out = 0.7\n",
    "recurrent_drop_out = 0.2"
   ]
  },
  {
   "cell_type": "code",
   "execution_count": 119,
   "metadata": {},
   "outputs": [],
   "source": [
    "class ConcatPoolingGRUAdaptive_features(nn.Module):\n",
    "    def __init__(self, vocab_size, embedding_dim, n_hidden, n_out, pretrained_vec, dropout, bidirectional=True, rec_dropout=0.1, include_features=True):\n",
    "        super().__init__()\n",
    "        self.vocab_size = vocab_size\n",
    "        self.embedding_dim = embedding_dim\n",
    "        self.n_hidden = n_hidden\n",
    "        self.n_out = n_out\n",
    "        self.bidirectional = bidirectional\n",
    "        self.include_features = include_features\n",
    "        #self.max_length = max_length\n",
    "        \n",
    "        self.emb = nn.Embedding(self.vocab_size, self.embedding_dim)\n",
    "        self.emb.weight.data.copy_(pretrained_vec)\n",
    "        self.emb.weight.requires_grad = False\n",
    "        \n",
    "        self.gru = nn.GRU(self.embedding_dim, self.n_hidden, bidirectional=bidirectional)#, dropout = rec_dropout)\n",
    "\n",
    "        if bidirectional:\n",
    "            if include_features:\n",
    "                self.fc = nn.Linear(self.n_hidden*2*2+3, self.n_out)\n",
    "            else:\n",
    "                self.fc = nn.Linear(self.n_hidden*2*2, self.n_out)\n",
    "        else:\n",
    "            if include_features:\n",
    "                self.fc = nn.Linear(self.n_hidden*2+3, self.n_out)\n",
    "            else:\n",
    "                self.fc = nn.Linear(self.n_hidden*2, self.n_out)            \n",
    "            \n",
    "        self.dropout = nn.Dropout(dropout)\n",
    "        self.relu = nn.ReLU()\n",
    "        \n",
    "    def forward(self, seq, lengths, year, word_count, overall):\n",
    "        bs = seq.size(1)\n",
    "        self.h = self.init_hidden(bs)\n",
    "        \n",
    "        seq = seq.transpose(0,1)\n",
    "        embs = self.emb(seq)\n",
    "        embs = embs.transpose(0,1)\n",
    "        \n",
    "        embs = pack_padded_sequence(embs, lengths)\n",
    "        gru_out, self.h = self.gru(embs, self.h)\n",
    "        gru_out, lengths = pad_packed_sequence(gru_out)        \n",
    "                \n",
    "        avg_pool = F.adaptive_avg_pool1d(gru_out.permute(1,2,0),1).view(bs,-1)\n",
    "        max_pool = F.adaptive_max_pool1d(gru_out.permute(1,2,0),1).view(bs,-1) \n",
    "        \n",
    "        cat_pool = torch.cat([avg_pool,max_pool],dim=1)\n",
    "        \n",
    "        if self.include_features:\n",
    "            cat = torch.cat((cat_pool, year.unsqueeze(1).type(torch.FloatTensor).to(device),\n",
    "                        word_count.unsqueeze(1).type(torch.FloatTensor).to(device),\n",
    "                        overall.unsqueeze(1).type(torch.FloatTensor).to(device)\n",
    "                        ), dim=1)\n",
    "        else:\n",
    "            cat = cat_pool\n",
    "            \n",
    "        cat = self.relu(cat)\n",
    "            \n",
    "        #cat = self.dropout(torch.cat([avg_pool,max_pool],dim=1))\n",
    "        cat = self.dropout(cat)\n",
    "                \n",
    "        outp = self.fc(cat)\n",
    "        return F.log_softmax(outp)\n",
    "        #return F.softmax(outp)\n",
    "    \n",
    "    def init_hidden(self, batch_size): \n",
    "        if self.bidirectional:\n",
    "            return torch.zeros((2,batch_size,self.n_hidden)).to(device)\n",
    "        else:\n",
    "            return torch.zeros((1,batch_size,self.n_hidden)).to(device)"
   ]
  },
  {
   "cell_type": "markdown",
   "metadata": {},
   "source": [
    "m.to(device)"
   ]
  },
  {
   "cell_type": "code",
   "execution_count": 53,
   "metadata": {},
   "outputs": [
    {
     "data": {
      "text/plain": [
       "(75, 19, 19)"
      ]
     },
     "execution_count": 53,
     "metadata": {},
     "output_type": "execute_result"
    }
   ],
   "source": [
    "len(train_loader), len(val_loader), len(test_loader)"
   ]
  },
  {
   "cell_type": "markdown",
   "metadata": {},
   "source": [
    "### 6. Define Training and Evaluation Process"
   ]
  },
  {
   "cell_type": "code",
   "execution_count": 177,
   "metadata": {},
   "outputs": [],
   "source": [
    "def train(model, iterator, optimizer, criterion, num_batch):\n",
    "        y_true_train = list()\n",
    "        y_pred_train = list()\n",
    "        total_loss_train = 0  \n",
    "  \n",
    "        #t = tqdm_notebook(iterator, leave=False, total=num_batch)\n",
    "        model.train()\n",
    "        \n",
    "        #for (X,lengths),y in iterator:\n",
    "        for year, wc, overall, (X,lengths),y in iterator:\n",
    "\n",
    "            if (lengths== 0).any():\n",
    "                #print(seq)                \n",
    "                #print(lengths)\n",
    "                num_batch -= 1\n",
    "                continue\n",
    "                \n",
    "            #t.set_description(f'Epoch {epoch}')\n",
    "            lengths = lengths.cpu().numpy()\n",
    "\n",
    "            opt.zero_grad()\n",
    "\n",
    "            pred = model(X, lengths, year, wc, overall)\n",
    "            loss = criterion(pred, y)\n",
    "\n",
    "            loss.backward()\n",
    "            opt.step()\n",
    "\n",
    "            #t.set_postfix(loss=loss.item())\n",
    "            pred_idx = torch.max(pred, dim=1)[1]\n",
    "\n",
    "            y_true_train += list(y.cpu().data.numpy())\n",
    "            y_pred_train += list(pred_idx.cpu().data.numpy())\n",
    "            total_loss_train += loss.item()\n",
    "            \n",
    "        train_acc = accuracy_score(y_true_train, y_pred_train)\n",
    "        train_loss = total_loss_train/num_batch\n",
    "        return train_loss, train_acc"
   ]
  },
  {
   "cell_type": "code",
   "execution_count": 178,
   "metadata": {},
   "outputs": [],
   "source": [
    "def evaluate(model, iterator, criterion, num_batch):\n",
    "            model.eval()\n",
    "            y_true_val = list()\n",
    "            y_pred_val = list()\n",
    "            \n",
    "            total_loss_val = 0\n",
    "            \n",
    "            #for (X,lengths),y in iterator: #tqdm_notebook(iterator, leave=False): \n",
    "            for year, wc, overall, (X,lengths),y in iterator:                \n",
    "\n",
    "                if (lengths== 0).any():\n",
    "                    #print(seq)                \n",
    "                    #print(lengths)\n",
    "                    num_batch -= 1\n",
    "                    continue\n",
    "                pred = model(X, lengths, year, wc, overall)\n",
    "                \n",
    "                #pred = model(X, lengths.cpu().numpy())\n",
    "                loss = criterion(pred, y)\n",
    "              \n",
    "                pred_idx = torch.max(pred, 1)[1]\n",
    "                y_true_val += list(y.cpu().data.numpy())\n",
    "                y_pred_val += list(pred_idx.cpu().data.numpy())\n",
    "                total_loss_val += loss.item()\n",
    "                \n",
    "            valacc = accuracy_score(y_true_val, y_pred_val)\n",
    "            valloss = total_loss_val/num_batch\n",
    "            return valloss, valacc"
   ]
  },
  {
   "cell_type": "code",
   "execution_count": 58,
   "metadata": {},
   "outputs": [
    {
     "data": {
      "text/plain": [
       "device(type='cuda', index=0)"
      ]
     },
     "execution_count": 58,
     "metadata": {},
     "output_type": "execute_result"
    }
   ],
   "source": [
    "device"
   ]
  },
  {
   "cell_type": "markdown",
   "metadata": {},
   "source": [
    "### Create Model and Start Training - 1 - GRU with additional features"
   ]
  },
  {
   "cell_type": "code",
   "execution_count": 68,
   "metadata": {},
   "outputs": [],
   "source": [
    "#SimpleBiGRU_features\n",
    "vocab_size = len(TEXT.vocab)\n",
    "embedding_dim = 300\n",
    "n_hidden = 64\n",
    "n_out = 2\n",
    "drop_out = 0.6\n",
    "recurrent_drop_out = 0.3\n",
    "include_features = True"
   ]
  },
  {
   "cell_type": "code",
   "execution_count": 72,
   "metadata": {},
   "outputs": [],
   "source": [
    "m = SimpleBiGRU_features(vocab_size, embedding_dim, n_hidden, n_out, train_data.fields['processedText'].vocab.vectors, drop_out, True, recurrent_drop_out, include_features).to(device)\n",
    "opt = optim.Adam(filter(lambda p: p.requires_grad, m.parameters()), 2e-4)"
   ]
  },
  {
   "cell_type": "code",
   "execution_count": null,
   "metadata": {},
   "outputs": [],
   "source": []
  },
  {
   "cell_type": "code",
   "execution_count": 73,
   "metadata": {},
   "outputs": [],
   "source": [
    "loss_fn=F.nll_loss\n",
    "#epochs=50"
   ]
  },
  {
   "cell_type": "code",
   "execution_count": 74,
   "metadata": {},
   "outputs": [],
   "source": [
    "import time\n",
    "\n",
    "def epoch_time(start_time, end_time):\n",
    "    elapsed_time = end_time - start_time\n",
    "    elapsed_mins = int(elapsed_time / 60)\n",
    "    elapsed_secs = int(elapsed_time - (elapsed_mins * 60))\n",
    "    return elapsed_mins, elapsed_secs"
   ]
  },
  {
   "cell_type": "code",
   "execution_count": 75,
   "metadata": {},
   "outputs": [],
   "source": [
    "import warnings\n",
    "warnings.filterwarnings(\"ignore\")"
   ]
  },
  {
   "cell_type": "code",
   "execution_count": 76,
   "metadata": {},
   "outputs": [],
   "source": [
    "model_name=\"GRU_features3_sub_1.pt\""
   ]
  },
  {
   "cell_type": "code",
   "execution_count": 186,
   "metadata": {},
   "outputs": [],
   "source": [
    "def start_training(m, epochs, train_batch_it, val_batch_it, opt, loss_fn, model_name):\n",
    "    best_valid_loss = float('inf')\n",
    "\n",
    "    train_losses , train_accuracy = [],[]\n",
    "    val_losses , val_accuracy = [],[]\n",
    "\n",
    "    total_start_time = time.time()\n",
    "\n",
    "    for epoch in range(epochs):      \n",
    "\n",
    "        start_time = time.time()\n",
    "\n",
    "        train_loss, train_acc = train(m, iter(train_batch_it), opt, loss_fn, len(train_batch_it))\n",
    "        valid_loss, valid_acc = evaluate(m, iter(val_batch_it), loss_fn, len(val_batch_it))\n",
    "\n",
    "        end_time = time.time()\n",
    "\n",
    "        epoch_mins, epoch_secs = epoch_time(start_time, end_time)\n",
    "\n",
    "        train_losses.append(train_loss)\n",
    "        train_accuracy.append(train_acc)\n",
    "        val_losses.append(valid_loss)\n",
    "        val_accuracy.append(valid_acc)\n",
    "\n",
    "\n",
    "        if valid_loss < best_valid_loss:\n",
    "            best_valid_loss = valid_loss\n",
    "            torch.save(m.state_dict(), model_name)\n",
    "\n",
    "\n",
    "        print(f'Epoch {epoch}: train_loss: {train_loss:.4f} train_acc: {train_acc:.4f} | val_loss: {valid_loss:.4f} val_acc: {valid_acc:.4f} | epoch_time: {epoch_mins}:{epoch_secs}')\n",
    "\n",
    "    total_end = time.time()\n",
    "    print((total_end - total_start_time)/60)   \n",
    "\n",
    "    print(\"Execution Time: \", round(((total_end - total_start_time)/60),1), \"minutes\")\n",
    "    return train_losses , train_accuracy, val_losses , val_accuracy"
   ]
  },
  {
   "cell_type": "code",
   "execution_count": null,
   "metadata": {},
   "outputs": [],
   "source": []
  },
  {
   "cell_type": "code",
   "execution_count": 77,
   "metadata": {},
   "outputs": [
    {
     "name": "stdout",
     "output_type": "stream",
     "text": [
      "Epoch 0: train_loss: 142.1185 train_acc: 0.5092 | val_loss: 125.1705 val_acc: 0.4983 | epoch_time: 0:1\n",
      "Epoch 1: train_loss: 116.0837 train_acc: 0.4954 | val_loss: 96.5925 val_acc: 0.4983 | epoch_time: 0:1\n",
      "Epoch 2: train_loss: 84.2627 train_acc: 0.5088 | val_loss: 68.7828 val_acc: 0.4983 | epoch_time: 0:1\n",
      "Epoch 3: train_loss: 55.5376 train_acc: 0.4958 | val_loss: 41.3314 val_acc: 0.4983 | epoch_time: 0:1\n",
      "Epoch 4: train_loss: 27.9345 train_acc: 0.5108 | val_loss: 13.3568 val_acc: 0.4983 | epoch_time: 0:1\n",
      "Epoch 5: train_loss: 4.2331 train_acc: 0.5188 | val_loss: 0.6860 val_acc: 0.5383 | epoch_time: 0:1\n",
      "Epoch 6: train_loss: 0.6946 train_acc: 0.5504 | val_loss: 0.7024 val_acc: 0.5150 | epoch_time: 0:1\n",
      "Epoch 7: train_loss: 0.6792 train_acc: 0.5750 | val_loss: 0.6818 val_acc: 0.5683 | epoch_time: 0:1\n",
      "Epoch 8: train_loss: 0.6717 train_acc: 0.5975 | val_loss: 0.6862 val_acc: 0.5417 | epoch_time: 0:1\n",
      "Epoch 9: train_loss: 0.6732 train_acc: 0.5967 | val_loss: 0.6859 val_acc: 0.5700 | epoch_time: 0:1\n",
      "Epoch 10: train_loss: 0.6718 train_acc: 0.5929 | val_loss: 0.6861 val_acc: 0.5500 | epoch_time: 0:1\n",
      "Epoch 11: train_loss: 0.6590 train_acc: 0.6058 | val_loss: 0.6886 val_acc: 0.5533 | epoch_time: 0:1\n",
      "Epoch 12: train_loss: 0.6588 train_acc: 0.6171 | val_loss: 0.6817 val_acc: 0.5733 | epoch_time: 0:1\n",
      "Epoch 13: train_loss: 0.6601 train_acc: 0.6058 | val_loss: 0.6859 val_acc: 0.5583 | epoch_time: 0:1\n",
      "Epoch 14: train_loss: 0.6455 train_acc: 0.6271 | val_loss: 0.6845 val_acc: 0.5617 | epoch_time: 0:1\n",
      "Epoch 15: train_loss: 0.6341 train_acc: 0.6346 | val_loss: 0.6868 val_acc: 0.5650 | epoch_time: 0:1\n",
      "Epoch 16: train_loss: 0.6353 train_acc: 0.6525 | val_loss: 0.6822 val_acc: 0.5617 | epoch_time: 0:1\n",
      "Epoch 17: train_loss: 0.6126 train_acc: 0.6717 | val_loss: 0.6924 val_acc: 0.5567 | epoch_time: 0:1\n",
      "Epoch 18: train_loss: 0.6130 train_acc: 0.6650 | val_loss: 0.6978 val_acc: 0.5417 | epoch_time: 0:1\n",
      "Epoch 19: train_loss: 0.6035 train_acc: 0.6783 | val_loss: 0.6848 val_acc: 0.5633 | epoch_time: 0:1\n",
      "Epoch 20: train_loss: 0.6075 train_acc: 0.6683 | val_loss: 0.6909 val_acc: 0.5517 | epoch_time: 0:1\n",
      "Epoch 21: train_loss: 0.5924 train_acc: 0.6767 | val_loss: 0.6884 val_acc: 0.5367 | epoch_time: 0:1\n",
      "Epoch 22: train_loss: 0.5996 train_acc: 0.6858 | val_loss: 0.6939 val_acc: 0.5717 | epoch_time: 0:1\n",
      "Epoch 23: train_loss: 0.5735 train_acc: 0.7042 | val_loss: 0.6951 val_acc: 0.5800 | epoch_time: 0:1\n",
      "Epoch 24: train_loss: 0.5516 train_acc: 0.7279 | val_loss: 0.7032 val_acc: 0.5583 | epoch_time: 0:1\n",
      "Epoch 25: train_loss: 0.5579 train_acc: 0.7246 | val_loss: 0.7109 val_acc: 0.5733 | epoch_time: 0:1\n",
      "Epoch 26: train_loss: 0.5386 train_acc: 0.7362 | val_loss: 0.7310 val_acc: 0.5600 | epoch_time: 0:1\n",
      "Epoch 27: train_loss: 0.5213 train_acc: 0.7446 | val_loss: 0.7102 val_acc: 0.5583 | epoch_time: 0:1\n",
      "Epoch 28: train_loss: 0.5184 train_acc: 0.7525 | val_loss: 0.7189 val_acc: 0.5600 | epoch_time: 0:1\n",
      "Epoch 29: train_loss: 0.5058 train_acc: 0.7662 | val_loss: 0.7212 val_acc: 0.5567 | epoch_time: 0:1\n",
      "Epoch 30: train_loss: 0.4760 train_acc: 0.7863 | val_loss: 0.7318 val_acc: 0.5617 | epoch_time: 0:1\n",
      "Epoch 31: train_loss: 0.4748 train_acc: 0.7771 | val_loss: 0.7516 val_acc: 0.5600 | epoch_time: 0:1\n",
      "Epoch 32: train_loss: 0.4544 train_acc: 0.7892 | val_loss: 0.7458 val_acc: 0.5683 | epoch_time: 0:1\n",
      "Epoch 33: train_loss: 0.4204 train_acc: 0.8271 | val_loss: 0.7806 val_acc: 0.5783 | epoch_time: 0:1\n",
      "Epoch 34: train_loss: 0.4063 train_acc: 0.8287 | val_loss: 0.7990 val_acc: 0.5683 | epoch_time: 0:1\n",
      "Epoch 35: train_loss: 0.3763 train_acc: 0.8433 | val_loss: 0.8258 val_acc: 0.5733 | epoch_time: 0:1\n",
      "Epoch 36: train_loss: 0.3599 train_acc: 0.8458 | val_loss: 0.8411 val_acc: 0.5733 | epoch_time: 0:1\n",
      "Epoch 37: train_loss: 0.3424 train_acc: 0.8621 | val_loss: 0.8453 val_acc: 0.5783 | epoch_time: 0:1\n",
      "Epoch 38: train_loss: 0.3125 train_acc: 0.8746 | val_loss: 0.8888 val_acc: 0.5617 | epoch_time: 0:1\n",
      "Epoch 39: train_loss: 0.2997 train_acc: 0.8788 | val_loss: 0.8992 val_acc: 0.5850 | epoch_time: 0:1\n",
      "0.8953676342964172\n",
      "Execution Time:  0.9 minutes\n"
     ]
    }
   ],
   "source": [
    "best_valid_loss = float('inf')\n",
    "\n",
    "epochs=40\n",
    "\n",
    "train_losses , train_accuracy = [],[]\n",
    "val_losses , val_accuracy = [],[]\n",
    "\n",
    "total_start_time = time.time()\n",
    "\n",
    "for epoch in range(epochs):      \n",
    "\n",
    "    start_time = time.time()\n",
    "    \n",
    "    train_loss, train_acc = train(m, iter(train_batch_it), opt, loss_fn, len(train_batch_it))\n",
    "    valid_loss, valid_acc = evaluate(m, iter(val_batch_it), loss_fn, len(val_batch_it))\n",
    "\n",
    "    end_time = time.time()\n",
    "\n",
    "    epoch_mins, epoch_secs = epoch_time(start_time, end_time)\n",
    "    \n",
    "    train_losses.append(train_loss)\n",
    "    train_accuracy.append(train_acc)\n",
    "    val_losses.append(valid_loss)\n",
    "    val_accuracy.append(valid_acc)\n",
    "    \n",
    "    \n",
    "    if valid_loss < best_valid_loss:\n",
    "        best_valid_loss = valid_loss\n",
    "        torch.save(m.state_dict(), model_name)\n",
    "          \n",
    "        \n",
    "    print(f'Epoch {epoch}: train_loss: {train_loss:.4f} train_acc: {train_acc:.4f} | val_loss: {valid_loss:.4f} val_acc: {valid_acc:.4f} | epoch_time: {epoch_mins}:{epoch_secs}')\n",
    "\n",
    "total_end = time.time()\n",
    "print((total_end - total_start_time)/60)   \n",
    "\n",
    "print(\"Execution Time: \", round(((total_end - total_start_time)/60),1), \"minutes\")"
   ]
  },
  {
   "cell_type": "code",
   "execution_count": 72,
   "metadata": {},
   "outputs": [],
   "source": [
    "m = SimpleBiGRU_features(vocab_size, embedding_dim, n_hidden, n_out, train_data.fields['processedText'].vocab.vectors, drop_out, True, recurrent_drop_out, include_features).to(device)\n",
    "opt = optim.Adam(filter(lambda p: p.requires_grad, m.parameters()), 2e-4)"
   ]
  },
  {
   "cell_type": "code",
   "execution_count": 79,
   "metadata": {},
   "outputs": [
    {
     "data": {
      "text/plain": [
       "'GRU_features3_sub_1'"
      ]
     },
     "execution_count": 79,
     "metadata": {},
     "output_type": "execute_result"
    }
   ],
   "source": [
    "model_name[:-3]"
   ]
  },
  {
   "cell_type": "code",
   "execution_count": 80,
   "metadata": {},
   "outputs": [
    {
     "data": {
      "image/png": "[encoded data removed]",
      "text/plain": [
       "<Figure size 432x288 with 1 Axes>"
      ]
     },
     "metadata": {
      "needs_background": "light"
     },
     "output_type": "display_data"
    }
   ],
   "source": [
    "import matplotlib.pyplot as plt\n",
    "%matplotlib inline\n",
    "\n",
    "fig = plt.figure()\n",
    "plt.plot(range(1,len(train_losses)+1),train_losses,'bo',label = 'training loss')\n",
    "plt.plot(range(1,len(val_losses)+1),val_losses,'r',label = 'validation loss')\n",
    "plt.title(\"loss plot for \" + model_name)\n",
    "plt.legend()\n",
    "fig.savefig(os.path.join(\"plots\",model_name[:-3] + '_loss.png'), dpi=fig.dpi)"
   ]
  },
  {
   "cell_type": "code",
   "execution_count": 81,
   "metadata": {},
   "outputs": [
    {
     "data": {
      "image/png": "[encoded data removed]",
      "text/plain": [
       "<Figure size 432x288 with 1 Axes>"
      ]
     },
     "metadata": {
      "needs_background": "light"
     },
     "output_type": "display_data"
    }
   ],
   "source": [
    "fig = plt.figure()\n",
    "plt.plot(range(1,len(train_accuracy)+1),train_accuracy,'bo',label = 'train accuracy')\n",
    "plt.plot(range(1,len(val_accuracy)+1),val_accuracy,'r',label = 'val accuracy')\n",
    "plt.title(\"accuracy plot for \" + model_name)\n",
    "plt.legend()\n",
    "fig.savefig(os.path.join(\"plots\",model_name[:-3] +'_acc.png'), dpi=fig.dpi)"
   ]
  },
  {
   "cell_type": "code",
   "execution_count": 129,
   "metadata": {},
   "outputs": [
    {
     "name": "stdout",
     "output_type": "stream",
     "text": [
      "Test Loss: 0.998 | Test Acc: 55.50%\n"
     ]
    }
   ],
   "source": [
    "test_loss, test_acc = evaluate(m, iter(test_batch_it), loss_fn, len(test_batch_it))\n",
    "\n",
    "print(f'Test Loss: {test_loss:.3f} | Test Acc: {test_acc*100:.2f}%')"
   ]
  },
  {
   "cell_type": "code",
   "execution_count": 82,
   "metadata": {},
   "outputs": [
    {
     "data": {
      "text/plain": [
       "SimpleBiGRU_features(\n",
       "  (emb): Embedding(8665, 300)\n",
       "  (gru): GRU(300, 64, bidirectional=True)\n",
       "  (relu): ReLU()\n",
       "  (dropout): Dropout(p=0.6)\n",
       "  (fc): Linear(in_features=131, out_features=2, bias=True)\n",
       ")"
      ]
     },
     "execution_count": 82,
     "metadata": {},
     "output_type": "execute_result"
    }
   ],
   "source": [
    "m = SimpleBiGRU_features(vocab_size, embedding_dim, n_hidden, n_out, train_data.fields['processedText'].vocab.vectors, drop_out, True, recurrent_drop_out, include_features).to(device)\n",
    "m.load_state_dict(torch.load(model_name))\n",
    "m.eval()"
   ]
  },
  {
   "cell_type": "code",
   "execution_count": 718,
   "metadata": {},
   "outputs": [
    {
     "data": {
      "text/plain": [
       "ConcatPoolingGRUAdaptive(\n",
       "  (emb): Embedding(8781, 300)\n",
       "  (gru): GRU(300, 64, dropout=0.2, bidirectional=True)\n",
       "  (fc): Linear(in_features=256, out_features=2, bias=True)\n",
       "  (dropout): Dropout(p=0.7)\n",
       "  (relu): ReLU()\n",
       ")"
      ]
     },
     "execution_count": 718,
     "metadata": {},
     "output_type": "execute_result"
    }
   ],
   "source": [
    "m = ConcatPoolingGRUAdaptive(vocab_size, embedding_dim, n_hidden, n_out, train_data.fields['processedText'].vocab.vectors, drop_out, True, recurrent_drop_out).to(device)\n",
    "m.load_state_dict(torch.load(model_name))\n",
    "m.eval()"
   ]
  },
  {
   "cell_type": "code",
   "execution_count": null,
   "metadata": {},
   "outputs": [],
   "source": []
  },
  {
   "cell_type": "code",
   "execution_count": 83,
   "metadata": {},
   "outputs": [
    {
     "name": "stdout",
     "output_type": "stream",
     "text": [
      "Test Loss: 0.682 | Test Acc: 57.33%\n"
     ]
    }
   ],
   "source": [
    "test_loss, test_acc = evaluate(m, iter(test_batch_it), loss_fn, len(test_batch_it))\n",
    "\n",
    "print(f'Test Loss: {test_loss:.3f} | Test Acc: {test_acc*100:.2f}%')"
   ]
  },
  {
   "cell_type": "code",
   "execution_count": null,
   "metadata": {},
   "outputs": [],
   "source": []
  },
  {
   "cell_type": "code",
   "execution_count": null,
   "metadata": {},
   "outputs": [],
   "source": []
  },
  {
   "cell_type": "markdown",
   "metadata": {},
   "source": [
    "### Create Model and Start Training - 2 - GRU without features"
   ]
  },
  {
   "cell_type": "code",
   "execution_count": 92,
   "metadata": {},
   "outputs": [],
   "source": [
    "#SimpleBiGRU_features\n",
    "vocab_size = len(TEXT.vocab)\n",
    "embedding_dim = 300\n",
    "n_hidden = 64\n",
    "n_out = 2\n",
    "drop_out = 0.6\n",
    "recurrent_drop_out = 0.3"
   ]
  },
  {
   "cell_type": "code",
   "execution_count": 93,
   "metadata": {},
   "outputs": [],
   "source": [
    "include_features = False"
   ]
  },
  {
   "cell_type": "code",
   "execution_count": 94,
   "metadata": {},
   "outputs": [],
   "source": [
    "m = SimpleBiGRU_features(vocab_size, embedding_dim, n_hidden, n_out, train_data.fields['processedText'].vocab.vectors, drop_out, True, recurrent_drop_out, include_features).to(device)\n",
    "opt = optim.Adam(filter(lambda p: p.requires_grad, m.parameters()), 2e-4)"
   ]
  },
  {
   "cell_type": "code",
   "execution_count": 95,
   "metadata": {},
   "outputs": [],
   "source": [
    "model_name=\"GRU_features_0_sub_1.pt\""
   ]
  },
  {
   "cell_type": "code",
   "execution_count": 96,
   "metadata": {},
   "outputs": [
    {
     "name": "stdout",
     "output_type": "stream",
     "text": [
      "Epoch 0: train_loss: 0.7050 train_acc: 0.4883 | val_loss: 0.6900 val_acc: 0.5333 | epoch_time: 0:1\n",
      "Epoch 1: train_loss: 0.6937 train_acc: 0.5217 | val_loss: 0.6870 val_acc: 0.5467 | epoch_time: 0:1\n",
      "Epoch 2: train_loss: 0.6881 train_acc: 0.5475 | val_loss: 0.6840 val_acc: 0.5483 | epoch_time: 0:1\n",
      "Epoch 3: train_loss: 0.6797 train_acc: 0.5683 | val_loss: 0.6828 val_acc: 0.5583 | epoch_time: 0:1\n",
      "Epoch 4: train_loss: 0.6729 train_acc: 0.5850 | val_loss: 0.6822 val_acc: 0.5517 | epoch_time: 0:1\n",
      "Epoch 5: train_loss: 0.6698 train_acc: 0.5908 | val_loss: 0.6796 val_acc: 0.5550 | epoch_time: 0:1\n",
      "Epoch 6: train_loss: 0.6620 train_acc: 0.6133 | val_loss: 0.6792 val_acc: 0.5633 | epoch_time: 0:1\n",
      "Epoch 7: train_loss: 0.6594 train_acc: 0.6175 | val_loss: 0.6780 val_acc: 0.5650 | epoch_time: 0:1\n",
      "Epoch 8: train_loss: 0.6498 train_acc: 0.6350 | val_loss: 0.6783 val_acc: 0.5567 | epoch_time: 0:1\n",
      "Epoch 9: train_loss: 0.6407 train_acc: 0.6329 | val_loss: 0.6774 val_acc: 0.5650 | epoch_time: 0:1\n",
      "Epoch 10: train_loss: 0.6370 train_acc: 0.6575 | val_loss: 0.6852 val_acc: 0.5700 | epoch_time: 0:1\n",
      "Epoch 11: train_loss: 0.6317 train_acc: 0.6517 | val_loss: 0.6916 val_acc: 0.5617 | epoch_time: 0:1\n",
      "Epoch 12: train_loss: 0.6233 train_acc: 0.6583 | val_loss: 0.6820 val_acc: 0.5700 | epoch_time: 0:1\n",
      "Epoch 13: train_loss: 0.6161 train_acc: 0.6729 | val_loss: 0.6881 val_acc: 0.5717 | epoch_time: 0:1\n",
      "Epoch 14: train_loss: 0.6117 train_acc: 0.6725 | val_loss: 0.6877 val_acc: 0.5700 | epoch_time: 0:1\n",
      "Epoch 15: train_loss: 0.6041 train_acc: 0.6963 | val_loss: 0.6808 val_acc: 0.5617 | epoch_time: 0:1\n",
      "Epoch 16: train_loss: 0.5910 train_acc: 0.6883 | val_loss: 0.6842 val_acc: 0.5633 | epoch_time: 0:1\n",
      "Epoch 17: train_loss: 0.5852 train_acc: 0.6937 | val_loss: 0.6892 val_acc: 0.5717 | epoch_time: 0:1\n",
      "Epoch 18: train_loss: 0.5710 train_acc: 0.7196 | val_loss: 0.6990 val_acc: 0.5600 | epoch_time: 0:1\n",
      "Epoch 19: train_loss: 0.5660 train_acc: 0.7221 | val_loss: 0.6927 val_acc: 0.5667 | epoch_time: 0:1\n",
      "Epoch 20: train_loss: 0.5499 train_acc: 0.7350 | val_loss: 0.6961 val_acc: 0.5617 | epoch_time: 0:1\n",
      "Epoch 21: train_loss: 0.5460 train_acc: 0.7333 | val_loss: 0.7012 val_acc: 0.5633 | epoch_time: 0:1\n",
      "Epoch 22: train_loss: 0.5270 train_acc: 0.7529 | val_loss: 0.7111 val_acc: 0.5667 | epoch_time: 0:1\n",
      "Epoch 23: train_loss: 0.5207 train_acc: 0.7571 | val_loss: 0.7157 val_acc: 0.5583 | epoch_time: 0:1\n",
      "Epoch 24: train_loss: 0.5016 train_acc: 0.7667 | val_loss: 0.7244 val_acc: 0.5517 | epoch_time: 0:1\n",
      "Epoch 25: train_loss: 0.4916 train_acc: 0.7762 | val_loss: 0.7261 val_acc: 0.5567 | epoch_time: 0:1\n",
      "Epoch 26: train_loss: 0.4844 train_acc: 0.7817 | val_loss: 0.7406 val_acc: 0.5683 | epoch_time: 0:1\n",
      "Epoch 27: train_loss: 0.4701 train_acc: 0.7887 | val_loss: 0.7396 val_acc: 0.5683 | epoch_time: 0:1\n",
      "Epoch 28: train_loss: 0.4662 train_acc: 0.7979 | val_loss: 0.7659 val_acc: 0.5617 | epoch_time: 0:1\n",
      "Epoch 29: train_loss: 0.4427 train_acc: 0.8146 | val_loss: 0.7644 val_acc: 0.5717 | epoch_time: 0:1\n",
      "Epoch 30: train_loss: 0.4234 train_acc: 0.8263 | val_loss: 0.8082 val_acc: 0.5333 | epoch_time: 0:1\n",
      "Epoch 31: train_loss: 0.4158 train_acc: 0.8221 | val_loss: 0.7920 val_acc: 0.5600 | epoch_time: 0:1\n",
      "Epoch 32: train_loss: 0.4083 train_acc: 0.8279 | val_loss: 0.8033 val_acc: 0.5400 | epoch_time: 0:1\n",
      "Epoch 33: train_loss: 0.3804 train_acc: 0.8438 | val_loss: 0.8320 val_acc: 0.5600 | epoch_time: 0:1\n",
      "Epoch 34: train_loss: 0.3720 train_acc: 0.8488 | val_loss: 0.8403 val_acc: 0.5567 | epoch_time: 0:1\n",
      "Epoch 35: train_loss: 0.3453 train_acc: 0.8679 | val_loss: 0.8596 val_acc: 0.5633 | epoch_time: 0:1\n",
      "Epoch 36: train_loss: 0.3234 train_acc: 0.8721 | val_loss: 0.9067 val_acc: 0.5583 | epoch_time: 0:1\n",
      "Epoch 37: train_loss: 0.3215 train_acc: 0.8738 | val_loss: 0.9048 val_acc: 0.5533 | epoch_time: 0:1\n",
      "Epoch 38: train_loss: 0.2959 train_acc: 0.8892 | val_loss: 0.9283 val_acc: 0.5483 | epoch_time: 0:1\n",
      "Epoch 39: train_loss: 0.2804 train_acc: 0.8962 | val_loss: 0.9696 val_acc: 0.5600 | epoch_time: 0:1\n",
      "0.8432670950889587\n",
      "Execution Time:  0.8 minutes\n"
     ]
    }
   ],
   "source": [
    "best_valid_loss = float('inf')\n",
    "\n",
    "epochs=40\n",
    "\n",
    "train_losses , train_accuracy = [],[]\n",
    "val_losses , val_accuracy = [],[]\n",
    "\n",
    "total_start_time = time.time()\n",
    "\n",
    "for epoch in range(epochs):      \n",
    "\n",
    "    start_time = time.time()\n",
    "    \n",
    "    train_loss, train_acc = train(m, iter(train_batch_it), opt, loss_fn, len(train_batch_it))\n",
    "    valid_loss, valid_acc = evaluate(m, iter(val_batch_it), loss_fn, len(val_batch_it))\n",
    "\n",
    "    end_time = time.time()\n",
    "\n",
    "    epoch_mins, epoch_secs = epoch_time(start_time, end_time)\n",
    "    \n",
    "    train_losses.append(train_loss)\n",
    "    train_accuracy.append(train_acc)\n",
    "    val_losses.append(valid_loss)\n",
    "    val_accuracy.append(valid_acc)\n",
    "    \n",
    "    \n",
    "    if valid_loss < best_valid_loss:\n",
    "        best_valid_loss = valid_loss\n",
    "        torch.save(m.state_dict(), model_name)\n",
    "          \n",
    "        \n",
    "    print(f'Epoch {epoch}: train_loss: {train_loss:.4f} train_acc: {train_acc:.4f} | val_loss: {valid_loss:.4f} val_acc: {valid_acc:.4f} | epoch_time: {epoch_mins}:{epoch_secs}')\n",
    "\n",
    "total_end = time.time()\n",
    "print((total_end - total_start_time)/60)   \n",
    "\n",
    "print(\"Execution Time: \", round(((total_end - total_start_time)/60),1), \"minutes\")"
   ]
  },
  {
   "cell_type": "code",
   "execution_count": 98,
   "metadata": {},
   "outputs": [
    {
     "data": {
      "image/png": "[encoded data removed]",
      "text/plain": [
       "<Figure size 432x288 with 1 Axes>"
      ]
     },
     "metadata": {
      "needs_background": "light"
     },
     "output_type": "display_data"
    }
   ],
   "source": [
    "import matplotlib.pyplot as plt\n",
    "%matplotlib inline\n",
    "\n",
    "fig = plt.figure()\n",
    "plt.plot(range(1,len(train_losses)+1),train_losses,'bo',label = 'training loss')\n",
    "plt.plot(range(1,len(val_losses)+1),val_losses,'r',label = 'validation loss')\n",
    "plt.title(\"loss plot for \" + model_name)\n",
    "plt.legend()\n",
    "fig.savefig(os.path.join(\"plots\",model_name[:-3] + '_loss.png'), dpi=fig.dpi)"
   ]
  },
  {
   "cell_type": "code",
   "execution_count": 99,
   "metadata": {},
   "outputs": [
    {
     "data": {
      "image/png": "[encoded data removed]",
      "text/plain": [
       "<Figure size 432x288 with 1 Axes>"
      ]
     },
     "metadata": {
      "needs_background": "light"
     },
     "output_type": "display_data"
    }
   ],
   "source": [
    "fig = plt.figure()\n",
    "plt.plot(range(1,len(train_accuracy)+1),train_accuracy,'bo',label = 'train accuracy')\n",
    "plt.plot(range(1,len(val_accuracy)+1),val_accuracy,'r',label = 'val accuracy')\n",
    "plt.title(\"accuracy plot for \" + model_name)\n",
    "plt.legend()\n",
    "fig.savefig(os.path.join(\"plots\",model_name[:-3] +'_acc.png'), dpi=fig.dpi)"
   ]
  },
  {
   "cell_type": "code",
   "execution_count": 100,
   "metadata": {},
   "outputs": [
    {
     "name": "stdout",
     "output_type": "stream",
     "text": [
      "Test Loss: 0.970 | Test Acc: 56.00%\n"
     ]
    }
   ],
   "source": [
    "test_loss, test_acc = evaluate(m, iter(test_batch_it), loss_fn, len(test_batch_it))\n",
    "\n",
    "print(f'Test Loss: {test_loss:.3f} | Test Acc: {test_acc*100:.2f}%')"
   ]
  },
  {
   "cell_type": "code",
   "execution_count": 101,
   "metadata": {},
   "outputs": [
    {
     "data": {
      "text/plain": [
       "SimpleBiGRU_features(\n",
       "  (emb): Embedding(8665, 300)\n",
       "  (gru): GRU(300, 64, bidirectional=True)\n",
       "  (relu): ReLU()\n",
       "  (dropout): Dropout(p=0.6)\n",
       "  (fc): Linear(in_features=128, out_features=2, bias=True)\n",
       ")"
      ]
     },
     "execution_count": 101,
     "metadata": {},
     "output_type": "execute_result"
    }
   ],
   "source": [
    "m = SimpleBiGRU_features(vocab_size, embedding_dim, n_hidden, n_out, train_data.fields['processedText'].vocab.vectors, drop_out, True, recurrent_drop_out, False).to(device)\n",
    "m.load_state_dict(torch.load(model_name))\n",
    "m.eval()"
   ]
  },
  {
   "cell_type": "code",
   "execution_count": 102,
   "metadata": {},
   "outputs": [
    {
     "name": "stdout",
     "output_type": "stream",
     "text": [
      "Test Loss: 0.677 | Test Acc: 56.50%\n"
     ]
    }
   ],
   "source": [
    "test_loss, test_acc = evaluate(m, iter(test_batch_it), loss_fn, len(test_batch_it))\n",
    "\n",
    "print(f'Test Loss: {test_loss:.3f} | Test Acc: {test_acc*100:.2f}%')"
   ]
  },
  {
   "cell_type": "code",
   "execution_count": null,
   "metadata": {},
   "outputs": [],
   "source": []
  },
  {
   "cell_type": "markdown",
   "metadata": {},
   "source": [
    "### Create Model and Start Training - 3 - Concat Pooling with additional features"
   ]
  },
  {
   "cell_type": "code",
   "execution_count": 108,
   "metadata": {},
   "outputs": [],
   "source": [
    "#ConcatPoolingGRUAdaptive\n",
    "vocab_size = len(TEXT.vocab)\n",
    "embedding_dim = 300\n",
    "n_hidden = 64\n",
    "n_out = 2\n",
    "drop_out = 0.7\n",
    "recurrent_drop_out = 0.2"
   ]
  },
  {
   "cell_type": "code",
   "execution_count": 109,
   "metadata": {},
   "outputs": [],
   "source": [
    "include_features = True"
   ]
  },
  {
   "cell_type": "code",
   "execution_count": 120,
   "metadata": {},
   "outputs": [],
   "source": [
    "m = ConcatPoolingGRUAdaptive_features(vocab_size, embedding_dim, n_hidden, n_out, train_data.fields['processedText'].vocab.vectors, drop_out, True, recurrent_drop_out, include_features).to(device)\n",
    "opt = optim.Adam(filter(lambda p: p.requires_grad, m.parameters()), 2e-4)"
   ]
  },
  {
   "cell_type": "code",
   "execution_count": 121,
   "metadata": {},
   "outputs": [],
   "source": [
    "model_name=\"ConcatPooling_features3_sub_1.pt\""
   ]
  },
  {
   "cell_type": "code",
   "execution_count": 122,
   "metadata": {},
   "outputs": [],
   "source": [
    "epochs = 10"
   ]
  },
  {
   "cell_type": "code",
   "execution_count": 123,
   "metadata": {},
   "outputs": [
    {
     "name": "stdout",
     "output_type": "stream",
     "text": [
      "Epoch 0: train_loss: 27.4124 train_acc: 0.4950 | val_loss: 10.5009 val_acc: 0.4983 | epoch_time: 0:1\n",
      "Epoch 1: train_loss: 3.5060 train_acc: 0.4983 | val_loss: 0.8903 val_acc: 0.4983 | epoch_time: 0:1\n",
      "Epoch 2: train_loss: 0.8717 train_acc: 0.5142 | val_loss: 0.6872 val_acc: 0.5400 | epoch_time: 0:1\n",
      "Epoch 3: train_loss: 0.7147 train_acc: 0.5325 | val_loss: 0.6853 val_acc: 0.5500 | epoch_time: 0:1\n",
      "Epoch 4: train_loss: 0.7198 train_acc: 0.5346 | val_loss: 0.6926 val_acc: 0.5217 | epoch_time: 0:1\n",
      "Epoch 5: train_loss: 0.7127 train_acc: 0.5513 | val_loss: 0.6953 val_acc: 0.5133 | epoch_time: 0:1\n",
      "Epoch 6: train_loss: 0.7167 train_acc: 0.5363 | val_loss: 0.6792 val_acc: 0.5917 | epoch_time: 0:1\n",
      "Epoch 7: train_loss: 0.6913 train_acc: 0.5487 | val_loss: 0.6773 val_acc: 0.5950 | epoch_time: 0:1\n",
      "Epoch 8: train_loss: 0.7001 train_acc: 0.5733 | val_loss: 0.6836 val_acc: 0.5283 | epoch_time: 0:1\n",
      "Epoch 9: train_loss: 0.7001 train_acc: 0.5629 | val_loss: 0.6763 val_acc: 0.6050 | epoch_time: 0:1\n",
      "Epoch 10: train_loss: 0.6767 train_acc: 0.5800 | val_loss: 0.6741 val_acc: 0.5767 | epoch_time: 0:1\n",
      "Epoch 11: train_loss: 0.6662 train_acc: 0.5929 | val_loss: 0.6750 val_acc: 0.5750 | epoch_time: 0:1\n",
      "Epoch 12: train_loss: 0.6684 train_acc: 0.5904 | val_loss: 0.6710 val_acc: 0.5883 | epoch_time: 0:1\n",
      "Epoch 13: train_loss: 0.6621 train_acc: 0.6129 | val_loss: 0.6838 val_acc: 0.5633 | epoch_time: 0:1\n",
      "Epoch 14: train_loss: 0.6625 train_acc: 0.6100 | val_loss: 0.6748 val_acc: 0.5950 | epoch_time: 0:1\n",
      "Epoch 15: train_loss: 0.6819 train_acc: 0.6054 | val_loss: 0.6709 val_acc: 0.5883 | epoch_time: 0:1\n",
      "Epoch 16: train_loss: 0.6516 train_acc: 0.6138 | val_loss: 0.6881 val_acc: 0.5550 | epoch_time: 0:1\n",
      "Epoch 17: train_loss: 0.6649 train_acc: 0.6204 | val_loss: 0.6691 val_acc: 0.6033 | epoch_time: 0:1\n",
      "Epoch 18: train_loss: 0.6329 train_acc: 0.6462 | val_loss: 0.6697 val_acc: 0.5967 | epoch_time: 0:1\n",
      "Epoch 19: train_loss: 0.6478 train_acc: 0.6242 | val_loss: 0.6647 val_acc: 0.6100 | epoch_time: 0:1\n",
      "Epoch 20: train_loss: 0.6338 train_acc: 0.6479 | val_loss: 0.6721 val_acc: 0.6050 | epoch_time: 0:1\n",
      "Epoch 21: train_loss: 0.6265 train_acc: 0.6442 | val_loss: 0.6681 val_acc: 0.6133 | epoch_time: 0:1\n",
      "Epoch 22: train_loss: 0.6278 train_acc: 0.6500 | val_loss: 0.6742 val_acc: 0.6033 | epoch_time: 0:1\n",
      "Epoch 23: train_loss: 0.6197 train_acc: 0.6512 | val_loss: 0.6715 val_acc: 0.6067 | epoch_time: 0:1\n",
      "Epoch 24: train_loss: 0.6146 train_acc: 0.6654 | val_loss: 0.7068 val_acc: 0.5500 | epoch_time: 0:1\n",
      "Epoch 25: train_loss: 0.5990 train_acc: 0.6746 | val_loss: 0.6641 val_acc: 0.6033 | epoch_time: 0:1\n",
      "Epoch 26: train_loss: 0.6263 train_acc: 0.6621 | val_loss: 0.6950 val_acc: 0.5783 | epoch_time: 0:1\n",
      "Epoch 27: train_loss: 0.6006 train_acc: 0.6725 | val_loss: 0.6736 val_acc: 0.5950 | epoch_time: 0:1\n",
      "Epoch 28: train_loss: 0.5938 train_acc: 0.6942 | val_loss: 0.6668 val_acc: 0.5933 | epoch_time: 0:1\n",
      "Epoch 29: train_loss: 0.6030 train_acc: 0.6867 | val_loss: 0.6707 val_acc: 0.5850 | epoch_time: 0:1\n",
      "Epoch 30: train_loss: 0.5771 train_acc: 0.6929 | val_loss: 0.6896 val_acc: 0.5917 | epoch_time: 0:1\n",
      "Epoch 31: train_loss: 0.5829 train_acc: 0.6954 | val_loss: 0.6803 val_acc: 0.5917 | epoch_time: 0:1\n",
      "Epoch 32: train_loss: 0.5681 train_acc: 0.7108 | val_loss: 0.7334 val_acc: 0.5817 | epoch_time: 0:1\n",
      "Epoch 33: train_loss: 0.5575 train_acc: 0.7167 | val_loss: 0.6676 val_acc: 0.5983 | epoch_time: 0:1\n",
      "Epoch 34: train_loss: 0.5415 train_acc: 0.7321 | val_loss: 0.6824 val_acc: 0.6083 | epoch_time: 0:1\n",
      "Epoch 35: train_loss: 0.5547 train_acc: 0.7183 | val_loss: 0.6875 val_acc: 0.5917 | epoch_time: 0:1\n",
      "Epoch 36: train_loss: 0.5206 train_acc: 0.7512 | val_loss: 0.6964 val_acc: 0.5783 | epoch_time: 0:1\n",
      "Epoch 37: train_loss: 0.5222 train_acc: 0.7404 | val_loss: 0.7160 val_acc: 0.5783 | epoch_time: 0:1\n",
      "Epoch 38: train_loss: 0.5114 train_acc: 0.7508 | val_loss: 0.7273 val_acc: 0.5900 | epoch_time: 0:1\n",
      "Epoch 39: train_loss: 0.5116 train_acc: 0.7604 | val_loss: 0.7379 val_acc: 0.5883 | epoch_time: 0:1\n",
      "1.0104181567827861\n",
      "Execution Time:  1.0 minutes\n"
     ]
    }
   ],
   "source": [
    "train_losses , train_accuracy, val_losses , val_accuracy = start_training(m, epochs, train_batch_it, val_batch_it, opt, loss_fn, model_name)"
   ]
  },
  {
   "cell_type": "code",
   "execution_count": 124,
   "metadata": {},
   "outputs": [
    {
     "data": {
      "image/png": "[encoded data removed]",
      "text/plain": [
       "<Figure size 432x288 with 1 Axes>"
      ]
     },
     "metadata": {
      "needs_background": "light"
     },
     "output_type": "display_data"
    }
   ],
   "source": [
    "import matplotlib.pyplot as plt\n",
    "%matplotlib inline\n",
    "\n",
    "fig = plt.figure()\n",
    "plt.plot(range(1,len(train_losses)+1),train_losses,'bo',label = 'training loss')\n",
    "plt.plot(range(1,len(val_losses)+1),val_losses,'r',label = 'validation loss')\n",
    "plt.title(\"loss plot for \" + model_name)\n",
    "plt.legend()\n",
    "fig.savefig(os.path.join(\"plots\",model_name[:-3] + '_loss.png'), dpi=fig.dpi)"
   ]
  },
  {
   "cell_type": "code",
   "execution_count": 125,
   "metadata": {},
   "outputs": [
    {
     "data": {
      "image/png": "[encoded data removed]",
      "text/plain": [
       "<Figure size 432x288 with 1 Axes>"
      ]
     },
     "metadata": {
      "needs_background": "light"
     },
     "output_type": "display_data"
    }
   ],
   "source": [
    "fig = plt.figure()\n",
    "plt.plot(range(1,len(train_accuracy)+1),train_accuracy,'bo',label = 'train accuracy')\n",
    "plt.plot(range(1,len(val_accuracy)+1),val_accuracy,'r',label = 'val accuracy')\n",
    "plt.title(\"accuracy plot for \" + model_name)\n",
    "plt.legend()\n",
    "fig.savefig(os.path.join(\"plots\",model_name[:-3] +'_acc.png'), dpi=fig.dpi)"
   ]
  },
  {
   "cell_type": "code",
   "execution_count": 126,
   "metadata": {},
   "outputs": [
    {
     "name": "stdout",
     "output_type": "stream",
     "text": [
      "Test Loss: 0.738 | Test Acc: 58.83%\n"
     ]
    }
   ],
   "source": [
    "test_loss, test_acc = evaluate(m, iter(test_batch_it), loss_fn, len(test_batch_it))\n",
    "\n",
    "print(f'Test Loss: {test_loss:.3f} | Test Acc: {test_acc*100:.2f}%')"
   ]
  },
  {
   "cell_type": "code",
   "execution_count": 127,
   "metadata": {},
   "outputs": [
    {
     "data": {
      "text/plain": [
       "ConcatPoolingGRUAdaptive_features(\n",
       "  (emb): Embedding(8665, 300)\n",
       "  (gru): GRU(300, 64, bidirectional=True)\n",
       "  (fc): Linear(in_features=259, out_features=2, bias=True)\n",
       "  (dropout): Dropout(p=0.7)\n",
       "  (relu): ReLU()\n",
       ")"
      ]
     },
     "execution_count": 127,
     "metadata": {},
     "output_type": "execute_result"
    }
   ],
   "source": [
    "m =  ConcatPoolingGRUAdaptive_features(vocab_size, embedding_dim, n_hidden, n_out, train_data.fields['processedText'].vocab.vectors, drop_out, True, recurrent_drop_out, include_features).to(device)\n",
    "m.load_state_dict(torch.load(model_name))\n",
    "m.eval()"
   ]
  },
  {
   "cell_type": "code",
   "execution_count": 128,
   "metadata": {},
   "outputs": [
    {
     "name": "stdout",
     "output_type": "stream",
     "text": [
      "Test Loss: 0.664 | Test Acc: 60.33%\n"
     ]
    }
   ],
   "source": [
    "test_loss, test_acc = evaluate(m, iter(test_batch_it), loss_fn, len(test_batch_it))\n",
    "\n",
    "print(f'Test Loss: {test_loss:.3f} | Test Acc: {test_acc*100:.2f}%')"
   ]
  },
  {
   "cell_type": "code",
   "execution_count": null,
   "metadata": {},
   "outputs": [],
   "source": []
  },
  {
   "cell_type": "code",
   "execution_count": null,
   "metadata": {},
   "outputs": [],
   "source": []
  },
  {
   "cell_type": "markdown",
   "metadata": {},
   "source": [
    "### Create Model and Start Training - 4 - Concat Pooling with no features"
   ]
  },
  {
   "cell_type": "code",
   "execution_count": 134,
   "metadata": {},
   "outputs": [],
   "source": [
    "#ConcatPoolingGRUAdaptive\n",
    "vocab_size = len(TEXT.vocab)\n",
    "embedding_dim = 300\n",
    "n_hidden = 64\n",
    "n_out = 2\n",
    "drop_out = 0.7\n",
    "recurrent_drop_out = 0.2"
   ]
  },
  {
   "cell_type": "code",
   "execution_count": 135,
   "metadata": {},
   "outputs": [],
   "source": [
    "include_features = False"
   ]
  },
  {
   "cell_type": "code",
   "execution_count": 136,
   "metadata": {},
   "outputs": [],
   "source": [
    "m = ConcatPoolingGRUAdaptive_features(vocab_size, embedding_dim, n_hidden, n_out, train_data.fields['processedText'].vocab.vectors, drop_out, True, recurrent_drop_out, include_features).to(device)\n",
    "opt = optim.Adam(filter(lambda p: p.requires_grad, m.parameters()), 2e-4)"
   ]
  },
  {
   "cell_type": "code",
   "execution_count": 137,
   "metadata": {},
   "outputs": [],
   "source": [
    "model_name=\"ConcatPooling_features_0_sub_1.pt\""
   ]
  },
  {
   "cell_type": "code",
   "execution_count": 138,
   "metadata": {},
   "outputs": [],
   "source": [
    "epochs = 40"
   ]
  },
  {
   "cell_type": "code",
   "execution_count": 139,
   "metadata": {},
   "outputs": [
    {
     "name": "stdout",
     "output_type": "stream",
     "text": [
      "Epoch 0: train_loss: 0.7093 train_acc: 0.5088 | val_loss: 0.6913 val_acc: 0.5017 | epoch_time: 0:1\n",
      "Epoch 1: train_loss: 0.6971 train_acc: 0.5183 | val_loss: 0.6888 val_acc: 0.5367 | epoch_time: 0:1\n",
      "Epoch 2: train_loss: 0.6855 train_acc: 0.5563 | val_loss: 0.6853 val_acc: 0.5617 | epoch_time: 0:1\n",
      "Epoch 3: train_loss: 0.6883 train_acc: 0.5529 | val_loss: 0.6833 val_acc: 0.5650 | epoch_time: 0:1\n",
      "Epoch 4: train_loss: 0.6812 train_acc: 0.5579 | val_loss: 0.6810 val_acc: 0.5783 | epoch_time: 0:1\n",
      "Epoch 5: train_loss: 0.6754 train_acc: 0.5892 | val_loss: 0.6804 val_acc: 0.5717 | epoch_time: 0:1\n",
      "Epoch 6: train_loss: 0.6725 train_acc: 0.5763 | val_loss: 0.6767 val_acc: 0.5733 | epoch_time: 0:1\n",
      "Epoch 7: train_loss: 0.6643 train_acc: 0.6033 | val_loss: 0.6745 val_acc: 0.5733 | epoch_time: 0:1\n",
      "Epoch 8: train_loss: 0.6603 train_acc: 0.6042 | val_loss: 0.6785 val_acc: 0.5633 | epoch_time: 0:1\n",
      "Epoch 9: train_loss: 0.6499 train_acc: 0.6204 | val_loss: 0.6716 val_acc: 0.5850 | epoch_time: 0:1\n",
      "Epoch 10: train_loss: 0.6484 train_acc: 0.6258 | val_loss: 0.6690 val_acc: 0.5900 | epoch_time: 0:1\n",
      "Epoch 11: train_loss: 0.6444 train_acc: 0.6271 | val_loss: 0.6670 val_acc: 0.5900 | epoch_time: 0:1\n",
      "Epoch 12: train_loss: 0.6417 train_acc: 0.6296 | val_loss: 0.6669 val_acc: 0.6017 | epoch_time: 0:1\n",
      "Epoch 13: train_loss: 0.6322 train_acc: 0.6492 | val_loss: 0.6637 val_acc: 0.5933 | epoch_time: 0:1\n",
      "Epoch 14: train_loss: 0.6265 train_acc: 0.6429 | val_loss: 0.6612 val_acc: 0.6067 | epoch_time: 0:1\n",
      "Epoch 15: train_loss: 0.6244 train_acc: 0.6529 | val_loss: 0.6607 val_acc: 0.6000 | epoch_time: 0:1\n",
      "Epoch 16: train_loss: 0.6188 train_acc: 0.6554 | val_loss: 0.6595 val_acc: 0.6000 | epoch_time: 0:1\n",
      "Epoch 17: train_loss: 0.6062 train_acc: 0.6713 | val_loss: 0.6683 val_acc: 0.5967 | epoch_time: 0:1\n",
      "Epoch 18: train_loss: 0.6086 train_acc: 0.6683 | val_loss: 0.6649 val_acc: 0.6050 | epoch_time: 0:1\n",
      "Epoch 19: train_loss: 0.6004 train_acc: 0.6725 | val_loss: 0.6550 val_acc: 0.6117 | epoch_time: 0:1\n",
      "Epoch 20: train_loss: 0.5997 train_acc: 0.6783 | val_loss: 0.6530 val_acc: 0.6150 | epoch_time: 0:1\n",
      "Epoch 21: train_loss: 0.5857 train_acc: 0.6954 | val_loss: 0.6533 val_acc: 0.6150 | epoch_time: 0:1\n",
      "Epoch 22: train_loss: 0.5780 train_acc: 0.7058 | val_loss: 0.6704 val_acc: 0.6067 | epoch_time: 0:1\n",
      "Epoch 23: train_loss: 0.5798 train_acc: 0.7004 | val_loss: 0.6580 val_acc: 0.6067 | epoch_time: 0:1\n",
      "Epoch 24: train_loss: 0.5706 train_acc: 0.7096 | val_loss: 0.6703 val_acc: 0.5817 | epoch_time: 0:1\n",
      "Epoch 25: train_loss: 0.5598 train_acc: 0.7100 | val_loss: 0.6661 val_acc: 0.6017 | epoch_time: 0:1\n",
      "Epoch 26: train_loss: 0.5505 train_acc: 0.7221 | val_loss: 0.6598 val_acc: 0.6083 | epoch_time: 0:1\n",
      "Epoch 27: train_loss: 0.5502 train_acc: 0.7238 | val_loss: 0.6596 val_acc: 0.6050 | epoch_time: 0:1\n",
      "Epoch 28: train_loss: 0.5429 train_acc: 0.7367 | val_loss: 0.6572 val_acc: 0.6133 | epoch_time: 0:1\n",
      "Epoch 29: train_loss: 0.5327 train_acc: 0.7471 | val_loss: 0.6597 val_acc: 0.6167 | epoch_time: 0:1\n",
      "Epoch 30: train_loss: 0.5249 train_acc: 0.7471 | val_loss: 0.6673 val_acc: 0.6167 | epoch_time: 0:1\n",
      "Epoch 31: train_loss: 0.5241 train_acc: 0.7504 | val_loss: 0.6608 val_acc: 0.6067 | epoch_time: 0:1\n",
      "Epoch 32: train_loss: 0.5179 train_acc: 0.7567 | val_loss: 0.6711 val_acc: 0.6033 | epoch_time: 0:1\n",
      "Epoch 33: train_loss: 0.5029 train_acc: 0.7633 | val_loss: 0.6684 val_acc: 0.6117 | epoch_time: 0:1\n",
      "Epoch 34: train_loss: 0.5107 train_acc: 0.7525 | val_loss: 0.6723 val_acc: 0.6033 | epoch_time: 0:1\n",
      "Epoch 35: train_loss: 0.4953 train_acc: 0.7758 | val_loss: 0.7211 val_acc: 0.5717 | epoch_time: 0:1\n",
      "Epoch 36: train_loss: 0.4706 train_acc: 0.7913 | val_loss: 0.6913 val_acc: 0.6000 | epoch_time: 0:1\n",
      "Epoch 37: train_loss: 0.4679 train_acc: 0.7942 | val_loss: 0.7008 val_acc: 0.6100 | epoch_time: 0:1\n",
      "Epoch 38: train_loss: 0.4805 train_acc: 0.7746 | val_loss: 0.6866 val_acc: 0.5983 | epoch_time: 0:1\n",
      "Epoch 39: train_loss: 0.4567 train_acc: 0.7979 | val_loss: 0.7285 val_acc: 0.5967 | epoch_time: 0:1\n",
      "0.9859092156092326\n",
      "Execution Time:  1.0 minutes\n"
     ]
    }
   ],
   "source": [
    "train_losses , train_accuracy, val_losses , val_accuracy = start_training(m, epochs, train_batch_it, val_batch_it, opt, loss_fn, model_name)"
   ]
  },
  {
   "cell_type": "code",
   "execution_count": 140,
   "metadata": {},
   "outputs": [
    {
     "data": {
      "image/png": "[encoded data removed]",
      "text/plain": [
       "<Figure size 432x288 with 1 Axes>"
      ]
     },
     "metadata": {
      "needs_background": "light"
     },
     "output_type": "display_data"
    }
   ],
   "source": [
    "import matplotlib.pyplot as plt\n",
    "%matplotlib inline\n",
    "\n",
    "fig = plt.figure()\n",
    "plt.plot(range(1,len(train_losses)+1),train_losses,'bo',label = 'training loss')\n",
    "plt.plot(range(1,len(val_losses)+1),val_losses,'r',label = 'validation loss')\n",
    "plt.title(\"loss plot for \" + model_name)\n",
    "plt.legend()\n",
    "fig.savefig(os.path.join(\"plots\",model_name[:-3] + '_loss.png'), dpi=fig.dpi)"
   ]
  },
  {
   "cell_type": "code",
   "execution_count": 141,
   "metadata": {},
   "outputs": [
    {
     "data": {
      "image/png": "[encoded data removed]",
      "text/plain": [
       "<Figure size 432x288 with 1 Axes>"
      ]
     },
     "metadata": {
      "needs_background": "light"
     },
     "output_type": "display_data"
    }
   ],
   "source": [
    "fig = plt.figure()\n",
    "plt.plot(range(1,len(train_accuracy)+1),train_accuracy,'bo',label = 'train accuracy')\n",
    "plt.plot(range(1,len(val_accuracy)+1),val_accuracy,'r',label = 'val accuracy')\n",
    "plt.title(\"accuracy plot for \" + model_name)\n",
    "plt.legend()\n",
    "fig.savefig(os.path.join(\"plots\",model_name[:-3] +'_acc.png'), dpi=fig.dpi)"
   ]
  },
  {
   "cell_type": "code",
   "execution_count": 142,
   "metadata": {},
   "outputs": [
    {
     "name": "stdout",
     "output_type": "stream",
     "text": [
      "Test Loss: 0.729 | Test Acc: 59.67%\n"
     ]
    }
   ],
   "source": [
    "test_loss, test_acc = evaluate(m, iter(test_batch_it), loss_fn, len(test_batch_it))\n",
    "\n",
    "print(f'Test Loss: {test_loss:.3f} | Test Acc: {test_acc*100:.2f}%')"
   ]
  },
  {
   "cell_type": "code",
   "execution_count": 143,
   "metadata": {},
   "outputs": [
    {
     "data": {
      "text/plain": [
       "ConcatPoolingGRUAdaptive_features(\n",
       "  (emb): Embedding(8665, 300)\n",
       "  (gru): GRU(300, 64, bidirectional=True)\n",
       "  (fc): Linear(in_features=256, out_features=2, bias=True)\n",
       "  (dropout): Dropout(p=0.7)\n",
       "  (relu): ReLU()\n",
       ")"
      ]
     },
     "execution_count": 143,
     "metadata": {},
     "output_type": "execute_result"
    }
   ],
   "source": [
    "m =  ConcatPoolingGRUAdaptive_features(vocab_size, embedding_dim, n_hidden, n_out, train_data.fields['processedText'].vocab.vectors, drop_out, True, recurrent_drop_out, include_features).to(device)\n",
    "m.load_state_dict(torch.load(model_name))\n",
    "m.eval()"
   ]
  },
  {
   "cell_type": "code",
   "execution_count": 144,
   "metadata": {},
   "outputs": [
    {
     "name": "stdout",
     "output_type": "stream",
     "text": [
      "Test Loss: 0.653 | Test Acc: 61.50%\n"
     ]
    }
   ],
   "source": [
    "test_loss, test_acc = evaluate(m, iter(test_batch_it), loss_fn, len(test_batch_it))\n",
    "\n",
    "print(f'Test Loss: {test_loss:.3f} | Test Acc: {test_acc*100:.2f}%')"
   ]
  },
  {
   "cell_type": "code",
   "execution_count": null,
   "metadata": {},
   "outputs": [],
   "source": []
  },
  {
   "cell_type": "markdown",
   "metadata": {},
   "source": [
    "### Create Model and Start Training (full set) - 5 - Concat Pooling with additional features"
   ]
  },
  {
   "cell_type": "code",
   "execution_count": 187,
   "metadata": {},
   "outputs": [],
   "source": [
    "#ConcatPoolingGRUAdaptive\n",
    "vocab_size = len(TEXT.vocab)\n",
    "embedding_dim = 300\n",
    "n_hidden = 64\n",
    "n_out = 2\n",
    "drop_out = 0.7\n",
    "recurrent_drop_out = 0.2"
   ]
  },
  {
   "cell_type": "code",
   "execution_count": 188,
   "metadata": {},
   "outputs": [],
   "source": [
    "include_features = True"
   ]
  },
  {
   "cell_type": "code",
   "execution_count": 189,
   "metadata": {},
   "outputs": [],
   "source": [
    "m = ConcatPoolingGRUAdaptive_features(vocab_size, embedding_dim, n_hidden, n_out, train_data.fields['processedText'].vocab.vectors, drop_out, True, recurrent_drop_out, include_features).to(device)\n",
    "opt = optim.Adam(filter(lambda p: p.requires_grad, m.parameters()), 5e-4)"
   ]
  },
  {
   "cell_type": "code",
   "execution_count": 190,
   "metadata": {},
   "outputs": [],
   "source": [
    "model_name=\"ConcatPooling_features3_full_1.pt\""
   ]
  },
  {
   "cell_type": "code",
   "execution_count": 191,
   "metadata": {},
   "outputs": [],
   "source": [
    "epochs = 80"
   ]
  },
  {
   "cell_type": "code",
   "execution_count": 192,
   "metadata": {},
   "outputs": [
    {
     "name": "stdout",
     "output_type": "stream",
     "text": [
      "Epoch 0: train_loss: 0.7790 train_acc: 0.5442 | val_loss: 0.6597 val_acc: 0.6128 | epoch_time: 0:12\n",
      "Epoch 1: train_loss: 0.7265 train_acc: 0.5759 | val_loss: 0.6971 val_acc: 0.5643 | epoch_time: 0:14\n",
      "Epoch 2: train_loss: 0.7322 train_acc: 0.5838 | val_loss: 0.7084 val_acc: 0.5174 | epoch_time: 0:13\n",
      "Epoch 3: train_loss: 0.7162 train_acc: 0.5978 | val_loss: 0.6735 val_acc: 0.5776 | epoch_time: 0:13\n",
      "Epoch 4: train_loss: 0.7251 train_acc: 0.5970 | val_loss: 0.6860 val_acc: 0.5764 | epoch_time: 0:12\n",
      "Epoch 5: train_loss: 0.7110 train_acc: 0.6031 | val_loss: 0.7807 val_acc: 0.5121 | epoch_time: 0:12\n",
      "Epoch 6: train_loss: 0.7151 train_acc: 0.6105 | val_loss: 0.6502 val_acc: 0.6225 | epoch_time: 0:12\n",
      "Epoch 7: train_loss: 0.7039 train_acc: 0.6145 | val_loss: 0.6850 val_acc: 0.5889 | epoch_time: 0:12\n",
      "Epoch 8: train_loss: 0.6906 train_acc: 0.6182 | val_loss: 0.6547 val_acc: 0.6297 | epoch_time: 0:12\n",
      "Epoch 9: train_loss: 0.7167 train_acc: 0.6229 | val_loss: 0.6555 val_acc: 0.6156 | epoch_time: 0:12\n",
      "Epoch 10: train_loss: 0.6749 train_acc: 0.6362 | val_loss: 0.6702 val_acc: 0.6128 | epoch_time: 0:12\n",
      "Epoch 11: train_loss: 0.6697 train_acc: 0.6401 | val_loss: 0.6492 val_acc: 0.6265 | epoch_time: 0:13\n",
      "Epoch 12: train_loss: 0.6714 train_acc: 0.6450 | val_loss: 0.6692 val_acc: 0.6237 | epoch_time: 0:12\n",
      "Epoch 13: train_loss: 0.6596 train_acc: 0.6446 | val_loss: 0.6985 val_acc: 0.6002 | epoch_time: 0:12\n",
      "Epoch 14: train_loss: 0.6577 train_acc: 0.6541 | val_loss: 0.6708 val_acc: 0.6120 | epoch_time: 0:12\n",
      "Epoch 15: train_loss: 0.6529 train_acc: 0.6600 | val_loss: 0.6729 val_acc: 0.6132 | epoch_time: 0:13\n",
      "Epoch 16: train_loss: 0.6268 train_acc: 0.6680 | val_loss: 0.7018 val_acc: 0.5796 | epoch_time: 0:13\n",
      "Epoch 17: train_loss: 0.6150 train_acc: 0.6823 | val_loss: 0.7197 val_acc: 0.6148 | epoch_time: 0:12\n",
      "Epoch 18: train_loss: 0.6066 train_acc: 0.6897 | val_loss: 0.7366 val_acc: 0.5954 | epoch_time: 0:12\n",
      "Epoch 19: train_loss: 0.6093 train_acc: 0.6921 | val_loss: 0.7244 val_acc: 0.5978 | epoch_time: 0:12\n",
      "Epoch 20: train_loss: 0.5838 train_acc: 0.7031 | val_loss: 0.7302 val_acc: 0.5962 | epoch_time: 0:12\n",
      "Epoch 21: train_loss: 0.5893 train_acc: 0.7089 | val_loss: 0.8222 val_acc: 0.5873 | epoch_time: 0:12\n",
      "Epoch 22: train_loss: 0.5751 train_acc: 0.7170 | val_loss: 0.7534 val_acc: 0.5926 | epoch_time: 0:12\n",
      "Epoch 23: train_loss: 0.5745 train_acc: 0.7250 | val_loss: 0.8468 val_acc: 0.5873 | epoch_time: 0:12\n",
      "Epoch 24: train_loss: 0.5697 train_acc: 0.7290 | val_loss: 0.8448 val_acc: 0.5909 | epoch_time: 0:12\n",
      "Epoch 25: train_loss: 0.5264 train_acc: 0.7421 | val_loss: 0.9331 val_acc: 0.5679 | epoch_time: 0:12\n",
      "Epoch 26: train_loss: 0.5018 train_acc: 0.7523 | val_loss: 0.8793 val_acc: 0.5914 | epoch_time: 0:12\n",
      "Epoch 27: train_loss: 0.5166 train_acc: 0.7538 | val_loss: 0.9280 val_acc: 0.5816 | epoch_time: 0:12\n",
      "Epoch 28: train_loss: 0.4807 train_acc: 0.7629 | val_loss: 0.9735 val_acc: 0.5768 | epoch_time: 0:12\n",
      "Epoch 29: train_loss: 0.4670 train_acc: 0.7721 | val_loss: 0.9856 val_acc: 0.5335 | epoch_time: 0:12\n",
      "Epoch 30: train_loss: 0.4921 train_acc: 0.7708 | val_loss: 1.0535 val_acc: 0.5679 | epoch_time: 0:12\n",
      "Epoch 31: train_loss: 0.4843 train_acc: 0.7770 | val_loss: 1.0145 val_acc: 0.5699 | epoch_time: 0:12\n",
      "Epoch 32: train_loss: 0.4634 train_acc: 0.7836 | val_loss: 1.1819 val_acc: 0.5744 | epoch_time: 0:12\n",
      "Epoch 33: train_loss: 0.4323 train_acc: 0.7943 | val_loss: 1.1556 val_acc: 0.5647 | epoch_time: 0:12\n",
      "Epoch 34: train_loss: 0.4476 train_acc: 0.7917 | val_loss: 1.1680 val_acc: 0.5744 | epoch_time: 0:12\n",
      "Epoch 35: train_loss: 0.4258 train_acc: 0.8038 | val_loss: 1.2579 val_acc: 0.5780 | epoch_time: 0:12\n",
      "Epoch 36: train_loss: 0.3912 train_acc: 0.8155 | val_loss: 1.1711 val_acc: 0.5752 | epoch_time: 0:12\n",
      "Epoch 37: train_loss: 0.4159 train_acc: 0.8086 | val_loss: 1.3469 val_acc: 0.5764 | epoch_time: 0:12\n",
      "Epoch 38: train_loss: 0.3966 train_acc: 0.8205 | val_loss: 1.4407 val_acc: 0.5618 | epoch_time: 0:12\n",
      "Epoch 39: train_loss: 0.3617 train_acc: 0.8321 | val_loss: 1.4935 val_acc: 0.5728 | epoch_time: 0:12\n",
      "Epoch 40: train_loss: 0.3661 train_acc: 0.8362 | val_loss: 1.5912 val_acc: 0.5736 | epoch_time: 0:12\n",
      "Epoch 41: train_loss: 0.3428 train_acc: 0.8398 | val_loss: 1.7080 val_acc: 0.5627 | epoch_time: 0:12\n",
      "Epoch 42: train_loss: 0.3714 train_acc: 0.8327 | val_loss: 1.5205 val_acc: 0.5780 | epoch_time: 0:13\n",
      "Epoch 43: train_loss: 0.3783 train_acc: 0.8354 | val_loss: 1.5957 val_acc: 0.5675 | epoch_time: 0:12\n",
      "Epoch 44: train_loss: 0.3183 train_acc: 0.8520 | val_loss: 1.8110 val_acc: 0.5691 | epoch_time: 0:13\n",
      "Epoch 45: train_loss: 0.3106 train_acc: 0.8554 | val_loss: 1.9520 val_acc: 0.5594 | epoch_time: 0:14\n",
      "Epoch 46: train_loss: 0.3293 train_acc: 0.8569 | val_loss: 2.0853 val_acc: 0.5562 | epoch_time: 0:14\n",
      "Epoch 47: train_loss: 0.3340 train_acc: 0.8494 | val_loss: 2.0592 val_acc: 0.5719 | epoch_time: 0:15\n",
      "Epoch 48: train_loss: 0.3405 train_acc: 0.8544 | val_loss: 2.0170 val_acc: 0.5748 | epoch_time: 0:14\n",
      "Epoch 49: train_loss: 0.3072 train_acc: 0.8630 | val_loss: 1.7526 val_acc: 0.5614 | epoch_time: 0:14\n",
      "Epoch 50: train_loss: 0.3469 train_acc: 0.8413 | val_loss: 2.0366 val_acc: 0.5667 | epoch_time: 0:14\n",
      "Epoch 51: train_loss: 0.3015 train_acc: 0.8661 | val_loss: 2.0664 val_acc: 0.5643 | epoch_time: 0:14\n",
      "Epoch 52: train_loss: 0.2779 train_acc: 0.8746 | val_loss: 2.2363 val_acc: 0.5574 | epoch_time: 0:14\n",
      "Epoch 53: train_loss: 0.2908 train_acc: 0.8739 | val_loss: 2.3174 val_acc: 0.5562 | epoch_time: 0:14\n",
      "Epoch 54: train_loss: 0.2859 train_acc: 0.8759 | val_loss: 2.1006 val_acc: 0.5509 | epoch_time: 0:14\n",
      "Epoch 55: train_loss: 0.2838 train_acc: 0.8780 | val_loss: 2.2907 val_acc: 0.5655 | epoch_time: 0:15\n",
      "Epoch 56: train_loss: 0.2549 train_acc: 0.8886 | val_loss: 2.2820 val_acc: 0.5562 | epoch_time: 0:16\n",
      "Epoch 57: train_loss: 0.2823 train_acc: 0.8816 | val_loss: 2.3054 val_acc: 0.5614 | epoch_time: 0:16\n",
      "Epoch 58: train_loss: 0.2479 train_acc: 0.8920 | val_loss: 2.5554 val_acc: 0.5558 | epoch_time: 0:15\n",
      "Epoch 59: train_loss: 0.2421 train_acc: 0.8944 | val_loss: 2.4933 val_acc: 0.5647 | epoch_time: 0:15\n",
      "Epoch 60: train_loss: 0.2396 train_acc: 0.8985 | val_loss: 2.5057 val_acc: 0.5639 | epoch_time: 0:15\n",
      "Epoch 61: train_loss: 0.2450 train_acc: 0.8943 | val_loss: 2.7396 val_acc: 0.5509 | epoch_time: 0:16\n",
      "Epoch 62: train_loss: 0.2636 train_acc: 0.8876 | val_loss: 2.7955 val_acc: 0.5627 | epoch_time: 0:15\n",
      "Epoch 63: train_loss: 0.2601 train_acc: 0.8919 | val_loss: 2.9262 val_acc: 0.5562 | epoch_time: 0:15\n",
      "Epoch 64: train_loss: 0.2290 train_acc: 0.9044 | val_loss: 2.8830 val_acc: 0.5590 | epoch_time: 0:16\n",
      "Epoch 65: train_loss: 0.2514 train_acc: 0.9006 | val_loss: 2.1973 val_acc: 0.5695 | epoch_time: 0:15\n",
      "Epoch 66: train_loss: 0.2526 train_acc: 0.8993 | val_loss: 2.7749 val_acc: 0.5606 | epoch_time: 0:16\n",
      "Epoch 67: train_loss: 0.2264 train_acc: 0.9079 | val_loss: 3.3852 val_acc: 0.5558 | epoch_time: 0:16\n",
      "Epoch 68: train_loss: 0.1991 train_acc: 0.9144 | val_loss: 2.8093 val_acc: 0.5554 | epoch_time: 0:16\n",
      "Epoch 69: train_loss: 0.2388 train_acc: 0.9075 | val_loss: 3.2203 val_acc: 0.5554 | epoch_time: 0:15\n",
      "Epoch 70: train_loss: 0.1993 train_acc: 0.9166 | val_loss: 2.9204 val_acc: 0.5622 | epoch_time: 0:15\n",
      "Epoch 71: train_loss: 0.2008 train_acc: 0.9157 | val_loss: 3.5581 val_acc: 0.5598 | epoch_time: 0:15\n",
      "Epoch 72: train_loss: 0.1961 train_acc: 0.9206 | val_loss: 3.9101 val_acc: 0.5530 | epoch_time: 0:16\n",
      "Epoch 73: train_loss: 0.2341 train_acc: 0.9077 | val_loss: 1.6630 val_acc: 0.5356 | epoch_time: 0:15\n",
      "Epoch 74: train_loss: 0.2239 train_acc: 0.9066 | val_loss: 3.3484 val_acc: 0.5622 | epoch_time: 0:15\n",
      "Epoch 75: train_loss: 0.1990 train_acc: 0.9219 | val_loss: 3.3095 val_acc: 0.5622 | epoch_time: 0:15\n",
      "Epoch 76: train_loss: 0.1668 train_acc: 0.9311 | val_loss: 3.2954 val_acc: 0.5691 | epoch_time: 0:15\n",
      "Epoch 77: train_loss: 0.2066 train_acc: 0.9193 | val_loss: 2.6022 val_acc: 0.5655 | epoch_time: 0:16\n",
      "Epoch 78: train_loss: 0.2016 train_acc: 0.9199 | val_loss: 3.4035 val_acc: 0.5550 | epoch_time: 0:15\n",
      "Epoch 79: train_loss: 0.1905 train_acc: 0.9293 | val_loss: 3.6340 val_acc: 0.5647 | epoch_time: 0:16\n",
      "18.616717064380644\n",
      "Execution Time:  18.6 minutes\n"
     ]
    }
   ],
   "source": [
    "train_losses , train_accuracy, val_losses , val_accuracy = start_training(m, epochs, train_batch_it, val_batch_it, opt, loss_fn, model_name)"
   ]
  },
  {
   "cell_type": "code",
   "execution_count": 180,
   "metadata": {},
   "outputs": [
    {
     "data": {
      "text/plain": [
       "(696, 78, 78)"
      ]
     },
     "execution_count": 180,
     "metadata": {},
     "output_type": "execute_result"
    }
   ],
   "source": [
    "len(train_loader), len(val_loader), len(test_loader)"
   ]
  },
  {
   "cell_type": "code",
   "execution_count": 181,
   "metadata": {},
   "outputs": [
    {
     "data": {
      "image/png": "[encoded data removed]",
      "text/plain": [
       "<Figure size 432x288 with 1 Axes>"
      ]
     },
     "metadata": {
      "needs_background": "light"
     },
     "output_type": "display_data"
    }
   ],
   "source": [
    "import matplotlib.pyplot as plt\n",
    "%matplotlib inline\n",
    "\n",
    "fig = plt.figure()\n",
    "plt.plot(range(1,len(train_losses)+1),train_losses,'bo',label = 'training loss')\n",
    "plt.plot(range(1,len(val_losses)+1),val_losses,'r',label = 'validation loss')\n",
    "plt.title(\"loss plot for \" + model_name)\n",
    "plt.legend()\n",
    "fig.savefig(os.path.join(\"plots\",model_name[:-3] + '_loss.png'), dpi=fig.dpi)"
   ]
  },
  {
   "cell_type": "code",
   "execution_count": 182,
   "metadata": {},
   "outputs": [
    {
     "data": {
      "image/png": "[encoded data removed]",
      "text/plain": [
       "<Figure size 432x288 with 1 Axes>"
      ]
     },
     "metadata": {
      "needs_background": "light"
     },
     "output_type": "display_data"
    }
   ],
   "source": [
    "fig = plt.figure()\n",
    "plt.plot(range(1,len(train_accuracy)+1),train_accuracy,'bo',label = 'train accuracy')\n",
    "plt.plot(range(1,len(val_accuracy)+1),val_accuracy,'r',label = 'val accuracy')\n",
    "plt.title(\"accuracy plot for \" + model_name)\n",
    "plt.legend()\n",
    "fig.savefig(os.path.join(\"plots\",model_name[:-3] +'_acc.png'), dpi=fig.dpi)"
   ]
  },
  {
   "cell_type": "code",
   "execution_count": 183,
   "metadata": {},
   "outputs": [
    {
     "name": "stdout",
     "output_type": "stream",
     "text": [
      "Test Loss: 0.771 | Test Acc: 59.09%\n"
     ]
    }
   ],
   "source": [
    "test_loss, test_acc = evaluate(m, iter(test_batch_it), loss_fn, len(test_batch_it))\n",
    "\n",
    "print(f'Test Loss: {test_loss:.3f} | Test Acc: {test_acc*100:.2f}%')"
   ]
  },
  {
   "cell_type": "code",
   "execution_count": 184,
   "metadata": {},
   "outputs": [
    {
     "data": {
      "text/plain": [
       "ConcatPoolingGRUAdaptive_features(\n",
       "  (emb): Embedding(29714, 300)\n",
       "  (gru): GRU(300, 64, bidirectional=True)\n",
       "  (fc): Linear(in_features=259, out_features=2, bias=True)\n",
       "  (dropout): Dropout(p=0.7)\n",
       "  (relu): ReLU()\n",
       ")"
      ]
     },
     "execution_count": 184,
     "metadata": {},
     "output_type": "execute_result"
    }
   ],
   "source": [
    "m =  ConcatPoolingGRUAdaptive_features(vocab_size, embedding_dim, n_hidden, n_out, train_data.fields['processedText'].vocab.vectors, drop_out, True, recurrent_drop_out, include_features).to(device)\n",
    "m.load_state_dict(torch.load(model_name))\n",
    "m.eval()"
   ]
  },
  {
   "cell_type": "code",
   "execution_count": 185,
   "metadata": {},
   "outputs": [
    {
     "name": "stdout",
     "output_type": "stream",
     "text": [
      "Test Loss: 0.644 | Test Acc: 62.00%\n"
     ]
    }
   ],
   "source": [
    "test_loss, test_acc = evaluate(m, iter(test_batch_it), loss_fn, len(test_batch_it))\n",
    "\n",
    "print(f'Test Loss: {test_loss:.3f} | Test Acc: {test_acc*100:.2f}%')"
   ]
  },
  {
   "cell_type": "code",
   "execution_count": null,
   "metadata": {},
   "outputs": [],
   "source": []
  }
 ],
 "metadata": {
  "kernelspec": {
   "display_name": "Python [conda env:thesis]",
   "language": "python",
   "name": "conda-env-thesis-py"
  },
  "language_info": {
   "codemirror_mode": {
    "name": "ipython",
    "version": 3
   },
   "file_extension": ".py",
   "mimetype": "text/x-python",
   "name": "python",
   "nbconvert_exporter": "python",
   "pygments_lexer": "ipython3",
   "version": "3.6.8"
  }
 },
 "nbformat": 4,
 "nbformat_minor": 4
}
